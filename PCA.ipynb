{
 "cells": [
  {
   "cell_type": "code",
   "execution_count": 1,
   "id": "7d186ead",
   "metadata": {},
   "outputs": [
    {
     "name": "stderr",
     "output_type": "stream",
     "text": [
      "C:\\Users\\David\\AppData\\Local\\Packages\\PythonSoftwareFoundation.Python.3.8_qbz5n2kfra8p0\\LocalCache\\local-packages\\Python38\\site-packages\\numpy\\core\\fromnumeric.py:2007: VisibleDeprecationWarning: Creating an ndarray from ragged nested sequences (which is a list-or-tuple of lists-or-tuples-or ndarrays with different lengths or shapes) is deprecated. If you meant to do this, you must specify 'dtype=object' when creating the ndarray.\n",
      "  result = asarray(a).shape\n"
     ]
    }
   ],
   "source": [
    "import SNN_front_end\n",
    "import importlib\n",
    "importlib.reload(SNN_front_end)\n",
    "from SNN_front_end import *\n"
   ]
  },
  {
   "cell_type": "code",
   "execution_count": 2,
   "id": "a6b38f68",
   "metadata": {},
   "outputs": [],
   "source": [
    "from sklearn.decomposition import PCA\n",
    "#for interactive plotting outside notebook\n",
    "%matplotlib qt \n",
    "from mpl_toolkits.mplot3d import Axes3D\n",
    "import matplotlib.pyplot as plt\n",
    "import numpy as np\n",
    "from scipy import stats"
   ]
  },
  {
   "cell_type": "markdown",
   "id": "2d25d67c",
   "metadata": {},
   "source": [
    "### PCA"
   ]
  },
  {
   "cell_type": "code",
   "execution_count": 4,
   "id": "42930eb3",
   "metadata": {},
   "outputs": [
    {
     "name": "stdout",
     "output_type": "stream",
     "text": [
      "Principal Axes:\n",
      "[[-3.38531629e+01 -3.23283154e+01 -2.70356081e+01 -1.08498432e+01\n",
      "   7.55025219e+01 -3.24412038e+01  4.26787494e+00 -1.84197632e-01\n",
      "  -7.39129268e+00 -1.15562434e+01  4.27134300e-01  7.27024606e-01]\n",
      " [-4.77515741e+01 -4.43365284e+01 -4.62449777e+01 -1.97900157e+01\n",
      "  -5.37996422e+01  1.32434767e+01 -1.21873865e-02  4.19725807e+00\n",
      "   1.03494815e+01 -4.80026863e+00  8.37208515e-01 -2.35651557e+00]\n",
      " [-8.25269714e+00 -5.00932293e+00 -5.95405174e+00 -3.37140430e+00\n",
      "   5.24855892e+00  1.80534656e+01  5.18011947e+00 -1.94829352e+01\n",
      "  -4.70488241e+01  7.32790553e+01  3.73826881e+01  1.09184260e+01]]\n",
      "No. of PCs explaining 99.75% of variance:  10\n"
     ]
    }
   ],
   "source": [
    "'''\n",
    "Input Data\n",
    "'''\n",
    "no_electrodes = 12\n",
    "sample = emg_data[:no_electrodes+1,:200]\n",
    "\n",
    "#el1 = sample[0,:]\n",
    "#el2 = sample[1,:]\n",
    "#el3 = sample[2,:]\n",
    "#X = np.c_[el1, el2, el3]\n",
    "time = np.linspace(0,len(sample[0])/sampling_rate,len(sample[0]))\n",
    "\n",
    "X = np.stack(sample, axis=-1)\n",
    "\n",
    "pca = PCA() #n_components=\n",
    "pca.fit(X)\n",
    "#principal axes\n",
    "PA = pca.components_.T*100\n",
    "#variance explained by each pc\n",
    "var = pca.explained_variance_ratio_\n",
    "\n",
    "#finding the no. of PCs necessary to explain given ratio of variance\n",
    "no_pc = 0\n",
    "sum = 0\n",
    "while sum<0.9975:\n",
    "    sum += var[no_pc]\n",
    "    no_pc += 1\n",
    "print('Principal Axes:')\n",
    "print(PA[:3])\n",
    "print('No. of PCs explaining 99.75% of variance: ', no_pc)"
   ]
  },
  {
   "cell_type": "markdown",
   "id": "1deaa77f",
   "metadata": {},
   "source": [
    "#### Plotting 3D sample of data"
   ]
  },
  {
   "cell_type": "code",
   "execution_count": 6,
   "metadata": {},
   "outputs": [
    {
     "name": "stderr",
     "output_type": "stream",
     "text": [
      "C:\\Users\\David\\AppData\\Local\\Temp\\ipykernel_23440\\3776910505.py:19: MatplotlibDeprecationWarning: Axes3D(fig) adding itself to the figure is deprecated since 3.4. Pass the keyword argument auto_add_to_figure=False and use fig.add_axes(ax) to suppress this warning. The default value of auto_add_to_figure will change to False in mpl3.5 and True values will no longer work in 3.6.  This is consistent with other Axes classes.\n",
      "  ax = Axes3D(fig, rect=[0, 0, 0.95, 1], elev=elev, azim=azim)\n"
     ]
    }
   ],
   "source": [
    "#Only conducting PCA on 3 displayable dimensions for visualisation purposes\n",
    "X_d = np.stack(sample[:3], axis=-1)\n",
    "pca_d = PCA()\n",
    "pca_d.fit(X_d)\n",
    "#principal axes\n",
    "PA_d = pca_d.components_.T*100\n",
    "\n",
    "fig = plt.figure(figsize=(10,7))\n",
    "plt.plot(time, np.swapaxes(sample,1,0), color='#52AD89')\n",
    "#color='#75BDA1'\n",
    "#color='#7CCEAE'\n",
    "plt.title('EMG Channels')\n",
    "plt.xlabel('Time (s)')\n",
    "plt.ylabel('Voltage (\\u03BCV)')\n",
    "plt.show()\n",
    "fig = plt.figure(figsize=(10, 7))\n",
    "elev = 30\n",
    "azim = 60\n",
    "ax = Axes3D(fig, rect=[0, 0, 0.95, 1], elev=elev, azim=azim)\n",
    "ax.scatter(sample[0,:],sample[1,:],sample[2,:], marker=\"+\", color='#52AD89', alpha=0.8)\n",
    "ax.set_xlabel('Electrode 0 (\\u03BCV)')\n",
    "ax.set_ylabel('Electrode 1 (\\u03BCV)')\n",
    "ax.set_zlabel('Electrode 2 (\\u03BCV)')\n",
    "ax.set_title('EMG Channels Feature Space')\n",
    "soa = np.array([[0,0,0,PA_d[0][0],PA_d[0][1],PA_d[0][2]],[0,0,0,PA_d[1][0],PA_d[1][1],PA_d[1][2]],[0,0,0,PA_d[2][0],PA_d[2][1],PA_d[2][2]]])\n",
    "Xs, Y, Z, U, V, W = zip(*soa)\n",
    "ax.quiver(Xs, Y, Z, U, V, W, color='#AD5276', label='Principal Directions')\n",
    "ax.legend()\n",
    "\n",
    "\n",
    "if False:\n",
    "    pca = PCA(n_components=3)\n",
    "    pca.fit(Y)\n",
    "    V = pca.components_.T\n",
    "\n",
    "    x_pca_axis, y_pca_axis, z_pca_axis = 3 * V\n",
    "    x_pca_plane = np.r_[x_pca_axis[:2], -x_pca_axis[1::-1]]\n",
    "    y_pca_plane = np.r_[y_pca_axis[:2], -y_pca_axis[1::-1]]\n",
    "    z_pca_plane = np.r_[z_pca_axis[:2], -z_pca_axis[1::-1]]\n",
    "    x_pca_plane.shape = (2, 2)\n",
    "    y_pca_plane.shape = (2, 2)\n",
    "    z_pca_plane.shape = (2, 2)\n",
    "    ax.plot_surface(x_pca_plane, y_pca_plane, z_pca_plane)\n",
    "    ax.w_xaxis.set_ticklabels([])\n",
    "    ax.w_yaxis.set_ticklabels([])\n",
    "    ax.w_zaxis.set_ticklabels([])\n",
    "    plt.show()"
   ]
  },
  {
   "cell_type": "markdown",
   "id": "7637a024",
   "metadata": {},
   "source": [
    "#### Transforming data to Principal Components"
   ]
  },
  {
   "cell_type": "code",
   "execution_count": 7,
   "id": "464c338b",
   "metadata": {},
   "outputs": [],
   "source": [
    "X_new = pca.transform(X)\n",
    "pc = [[X_new[t][p] for t in range(len(X_new))] for p in range(no_electrodes)]\n",
    "\n",
    "#ORIGINAL CHANNELS AND 3 PRINCIPAL COMPONENTS\n",
    "fig = plt.figure(figsize=(10,7))\n",
    "plt.plot(time, np.swapaxes(sample[1:],1,0), color='#52AD89')\n",
    "plt.plot(time, sample[0], color='#52AD89', label='channels')\n",
    "plt.plot(time, pc[0], color='#AD5276', label='first 3 principal components')\n",
    "plt.plot(time, pc[1], color='#AD5276')\n",
    "plt.plot(time, pc[2], color='#AD5276')\n",
    "plt.legend()\n",
    "plt.xlabel('Time (s)')\n",
    "plt.ylabel('Voltage (\\u03BCV)')\n",
    "plt.title('PCA decomposition')\n",
    "plt.show()"
   ]
  },
  {
   "cell_type": "markdown",
   "id": "ee5cd368",
   "metadata": {},
   "source": [
    "#### Correlation Matrix"
   ]
  },
  {
   "cell_type": "code",
   "execution_count": 8,
   "id": "7a266443",
   "metadata": {},
   "outputs": [],
   "source": [
    "from scipy.stats import pearsonr\n",
    "\n",
    "correlations = np.zeros((no_electrodes, no_electrodes))\n",
    "for e in range(no_electrodes):\n",
    "    correlations[e,:] = np.array([pearsonr(sample[e,:],pc[p])[0] for p in range(no_electrodes)])\n",
    "\n",
    "\n",
    "#CORRELATION MATRIX\n",
    "fig, ax = plt.subplots(figsize=(7,5))\n",
    "im = ax.imshow(correlations, cmap='gray')\n",
    "ax.set_xlabel('Principal Components')\n",
    "ax.xaxis.set_label_position('top')\n",
    "ax.set_ylabel('Channels')\n",
    "ax.set_xticks([t for t in range(no_electrodes)])\n",
    "ax.xaxis.tick_top()\n",
    "ax.set_yticks([t for t in range(no_electrodes)])\n",
    "fig.colorbar(im, label='Pearson coeff.')\n",
    "im.set_clim(-1, 1)\n",
    "ax.set_title('Correlation Matrix')\n",
    "fig.tight_layout()\n",
    "plt.show()\n",
    "\n",
    "#SORTED CORRELATION MATRIX\n",
    "sorted = np.sort(correlations, axis=0)[::-1]\n",
    "fig, ax = plt.subplots(figsize=(7,5))\n",
    "im = ax.imshow(sorted, cmap='gray')\n",
    "ax.set_xlabel('Principal Components')\n",
    "ax.xaxis.set_label_position('top')\n",
    "ax.set_ylabel('Correlation Rank (Channels)')\n",
    "ax.set_xticks([t for t in range(no_electrodes)])\n",
    "ax.xaxis.tick_top()\n",
    "ax.set_yticks([t for t in range(no_electrodes)])\n",
    "ax.set_yticklabels([t+1 for t in range(no_electrodes)])\n",
    "fig.colorbar(im, label='Pearson coeff.')\n",
    "im.set_clim(-1, 1)\n",
    "ax.set_title('Sorted Correlation Matrix')\n",
    "fig.tight_layout()\n",
    "plt.show()\n"
   ]
  },
  {
   "cell_type": "markdown",
   "id": "965bde1e",
   "metadata": {},
   "source": [
    "#### Finding most influential ('principal') electrodes"
   ]
  },
  {
   "cell_type": "code",
   "execution_count": null,
   "id": "3c5062df",
   "metadata": {},
   "outputs": [],
   "source": [
    "idx = (-correlations[:,:no_pc]).argsort(axis=0)[:2] #get indices of 2 highest coefficients (first row gives indeces of elec. that is most correlated with each PC. second row gives indeces of second most correlated electrodes)\n",
    "idx.flatten() #covnert to 1D array since irrespective if most or 2nd to most correlated\n",
    "idx.sort()\n",
    "pc_electrodes = np.unique(idx) #remove repeating electrode indeces\n",
    "\n",
    "print('Most influential electrodes:')\n",
    "print(pc_electrodes)\n"
   ]
  },
  {
   "cell_type": "markdown",
   "id": "96e2e6d7",
   "metadata": {},
   "source": [
    "### PCA when including time as a feature\n",
    "I though that electrodes are uncorellated features that are only connected by the time dimensions. Therefore, I included it as another feature. For each time instance, one electrode had a value while all others where set to zero: this doesn't make much sense.\n",
    "The only variation then occurs over time and principal axis are practically along the time dimension.\n",
    "Basically I tried to capture the temporal directionality of the data but for PCA the data has to be taken as stationary with each time instance taken as a data point (i.e., sample) without an order."
   ]
  },
  {
   "cell_type": "code",
   "execution_count": 21,
   "id": "4714f1a7",
   "metadata": {},
   "outputs": [],
   "source": [
    "sample = emg_data[:,:100]\n",
    "el1 = sample[0,:]\n",
    "el2 = sample[1,:]\n",
    "time = np.linspace(0,len(el1)/sampling_rate,len(el1))\n",
    "\n",
    "zero = np.zeros(len(el1))\n",
    "Y = np.c_[time, el1, zero]\n",
    "X = np.c_[time, zero, el2]\n",
    "Y = np.append(Y, X, axis=0)\n",
    "\n",
    "pca = PCA(n_components=3)\n",
    "pca.fit(Y)\n",
    "#principal axes\n",
    "V = pca.components_.T*10\n",
    "var = pca.explained_variance_\n",
    "\n"
   ]
  },
  {
   "cell_type": "code",
   "execution_count": 20,
   "id": "77ad7d8d",
   "metadata": {},
   "outputs": [
    {
     "name": "stderr",
     "output_type": "stream",
     "text": [
      "C:\\Users\\David\\AppData\\Local\\Temp\\ipykernel_16656\\1555740676.py:10: MatplotlibDeprecationWarning: Axes3D(fig) adding itself to the figure is deprecated since 3.4. Pass the keyword argument auto_add_to_figure=False and use fig.add_axes(ax) to suppress this warning. The default value of auto_add_to_figure will change to False in mpl3.5 and True values will no longer work in 3.6.  This is consistent with other Axes classes.\n",
      "  ax = Axes3D(fig, rect=[0, 0, 0.95, 1], elev=elev, azim=azim)\n"
     ]
    }
   ],
   "source": [
    "#plt.plot(time, el1)\n",
    "#plt.plot(time, el2)\n",
    "#plt.show()\n",
    "fig = plt.figure(figsize=(10, 7))\n",
    "elev = 30\n",
    "azim = 60\n",
    "ax = Axes3D(fig, rect=[0, 0, 0.95, 1], elev=elev, azim=azim)\n",
    "ax.scatter(time, el1, np.zeros(len(el1)), marker=\"+\", alpha=0.8)\n",
    "ax.scatter(time, np.zeros(len(el2)), el2, marker=\"+\", alpha=0.8)\n",
    "soa = np.array([0,0,0,V[0][0],V[0][1],V[0][2]])\n",
    "X, Y, Z, U, V, W = zip(soa)\n",
    "ax.quiver(X, Y, Z, U, V, W)\n",
    "#ax.quiver(0,0,0,V[0][0],V[0][1],V[0][2])\n",
    "#ax.quiver(0,0,0,V[1][0],V[1][1],V[1][2])\n",
    "\n",
    "if False:\n",
    "    pca = PCA(n_components=3)\n",
    "    pca.fit(Y)\n",
    "    V = pca.components_.T\n",
    "\n",
    "    x_pca_axis, y_pca_axis, z_pca_axis = 3 * V\n",
    "    x_pca_plane = np.r_[x_pca_axis[:2], -x_pca_axis[1::-1]]\n",
    "    y_pca_plane = np.r_[y_pca_axis[:2], -y_pca_axis[1::-1]]\n",
    "    z_pca_plane = np.r_[z_pca_axis[:2], -z_pca_axis[1::-1]]\n",
    "    x_pca_plane.shape = (2, 2)\n",
    "    y_pca_plane.shape = (2, 2)\n",
    "    z_pca_plane.shape = (2, 2)\n",
    "    ax.plot_surface(x_pca_plane, y_pca_plane, z_pca_plane)\n",
    "    ax.w_xaxis.set_ticklabels([])\n",
    "    ax.w_yaxis.set_ticklabels([])\n",
    "    ax.w_zaxis.set_ticklabels([])\n",
    "plt.show()"
   ]
  }
 ],
 "metadata": {
  "kernelspec": {
   "display_name": "Python 3",
   "language": "python",
   "name": "python3"
  },
  "language_info": {
   "codemirror_mode": {
    "name": "ipython",
    "version": 3
   },
   "file_extension": ".py",
   "mimetype": "text/x-python",
   "name": "python",
   "nbconvert_exporter": "python",
   "pygments_lexer": "ipython3",
   "version": "3.8.10"
  }
 },
 "nbformat": 4,
 "nbformat_minor": 5
}
