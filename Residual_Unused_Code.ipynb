{
 "cells": [
  {
   "cell_type": "markdown",
   "metadata": {},
   "source": [
    "### ODE solver\n",
    "Simulating LIF Neuron excitation by solving the ODE manually.\n",
    "https://apmonitor.com/pdc/index.php/Main/SolveDifferentialEquations"
   ]
  },
  {
   "cell_type": "code",
   "execution_count": 29,
   "metadata": {},
   "outputs": [
    {
     "data": {
      "image/png": "[encoded data removed]",
      "text/plain": [
       "<Figure size 720x504 with 1 Axes>"
      ]
     },
     "metadata": {
      "needs_background": "light"
     },
     "output_type": "display_data"
    }
   ],
   "source": [
    "'''\n",
    "Simulating LIF Neuron excitation by solving the ODE manually.\n",
    "'''\n",
    "import numpy as np\n",
    "from scipy.integrate import odeint\n",
    "import matplotlib.pyplot as plt\n",
    "\n",
    "\n",
    "dt = 1 #ms\n",
    "sim_run_time = 100 #ms\n",
    "stimulus_test = np.zeros((2,int(sim_run_time/dt)+2))\n",
    "\n",
    "stimulus = stimulus_test[0]\n",
    "# function that returns dv/dt\n",
    "def model(v,t):\n",
    "    tau = 10; El = -70\n",
    "    dvdt = ((El - v) + stimulus[int(t)])/tau\n",
    "    return dvdt\n",
    "\n",
    "# initial condition\n",
    "y0 = 0\n",
    "\n",
    "# time points\n",
    "t = np.array([int(tt) for tt in range(int(sim_run_time/dt))])\n",
    "\n",
    "# solve ODE\n",
    "y = odeint(model,y0,t)\n",
    "\n",
    "# plot results\n",
    "fig = plt.figure(figsize=(10,7))\n",
    "plt.plot(t,y)\n",
    "plt.title('Neuron Excitation')\n",
    "plt.xlabel('time (ms)')\n",
    "plt.ylabel('v(t)')\n",
    "plt.show()"
   ]
  },
  {
   "cell_type": "markdown",
   "metadata": {},
   "source": [
    "### Brian2 simulation of LIF neuron generators with injected current\n",
    "The sim does not react to magnitude of injected current"
   ]
  },
  {
   "cell_type": "code",
   "execution_count": 7,
   "metadata": {},
   "outputs": [
    {
     "ename": "NameError",
     "evalue": "name 'p' is not defined",
     "output_type": "error",
     "traceback": [
      "\u001b[1;31m---------------------------------------------------------------------------\u001b[0m",
      "\u001b[1;31mNameError\u001b[0m                                 Traceback (most recent call last)",
      "\u001b[1;32mc:\\Users\\David\\OneDrive\\Dokumenty\\Uni\\ETH\\Thesis\\Code\\SNN-hand-kinematics-estimation-from-sEMG-signals\\Residual_Unused_Code.ipynb Cell 4'\u001b[0m in \u001b[0;36m<cell line: 4>\u001b[1;34m()\u001b[0m\n\u001b[0;32m     <a href='vscode-notebook-cell:/c%3A/Users/David/OneDrive/Dokumenty/Uni/ETH/Thesis/Code/SNN-hand-kinematics-estimation-from-sEMG-signals/Residual_Unused_Code.ipynb#ch0000002?line=12'>13</a>\u001b[0m input_current_test \u001b[39m=\u001b[39m np\u001b[39m.\u001b[39mones((\u001b[39m2\u001b[39m,\u001b[39mint\u001b[39m(sim_run_time\u001b[39m/\u001b[39mdt)\u001b[39m+\u001b[39m\u001b[39m2\u001b[39m))\n\u001b[0;32m     <a href='vscode-notebook-cell:/c%3A/Users/David/OneDrive/Dokumenty/Uni/ETH/Thesis/Code/SNN-hand-kinematics-estimation-from-sEMG-signals/Residual_Unused_Code.ipynb#ch0000002?line=13'>14</a>\u001b[0m input_current_test[:,\u001b[39m25\u001b[39m:\u001b[39m75\u001b[39m] \u001b[39m=\u001b[39m \u001b[39m100\u001b[39m\n\u001b[1;32m---> <a href='vscode-notebook-cell:/c%3A/Users/David/OneDrive/Dokumenty/Uni/ETH/Thesis/Code/SNN-hand-kinematics-estimation-from-sEMG-signals/Residual_Unused_Code.ipynb#ch0000002?line=14'>15</a>\u001b[0m p\u001b[39m.\u001b[39mplot_EMG(input_current_test[\u001b[39m0\u001b[39m,:\u001b[39mint\u001b[39m(sim_run_time\u001b[39m/\u001b[39mdt)], sim_run_time\u001b[39m/\u001b[39m\u001b[39m1000\u001b[39m, \u001b[39m'\u001b[39m\u001b[39mInput TEST current during simulation\u001b[39m\u001b[39m'\u001b[39m)\n\u001b[0;32m     <a href='vscode-notebook-cell:/c%3A/Users/David/OneDrive/Dokumenty/Uni/ETH/Thesis/Code/SNN-hand-kinematics-estimation-from-sEMG-signals/Residual_Unused_Code.ipynb#ch0000002?line=17'>18</a>\u001b[0m start_scope()\n\u001b[0;32m     <a href='vscode-notebook-cell:/c%3A/Users/David/OneDrive/Dokumenty/Uni/ETH/Thesis/Code/SNN-hand-kinematics-estimation-from-sEMG-signals/Residual_Unused_Code.ipynb#ch0000002?line=18'>19</a>\u001b[0m tau \u001b[39m=\u001b[39m \u001b[39m10\u001b[39m\u001b[39m*\u001b[39mms; El \u001b[39m=\u001b[39m \u001b[39m-\u001b[39m\u001b[39m70\u001b[39m\n",
      "\u001b[1;31mNameError\u001b[0m: name 'p' is not defined"
     ]
    }
   ],
   "source": [
    "'''\n",
    "Brian2 simulation of LIF neuron generators with injected current\n",
    "'''\n",
    "if __name__ == '__main__':\n",
    "\n",
    "    from brian2 import *\n",
    "    \n",
    "    sampling_rate = 2000 #kHz\n",
    "    dt = 1/sampling_rate*1000 #ms\n",
    "    sim_run_time = 100 #ms\n",
    "    \n",
    "    #TEST CURRENT\n",
    "    input_current_test = np.ones((2,int(sim_run_time/dt)+2))\n",
    "    input_current_test[:,25:75] = 100\n",
    "    p.plot_EMG(input_current_test[0,:int(sim_run_time/dt)], sim_run_time/1000, 'Input TEST current during simulation')\n",
    "\n",
    "\n",
    "    start_scope()\n",
    "    tau = 10*ms; El = -70\n",
    "    eqs = '''dv/dt = ((El - v) + stimulus(t, i))/tau : 1'''\n",
    "\n",
    "    stimulus = TimedArray(input_current_test[:2], dt=1/sampling_rate*1000*R*ms)\n",
    "    #stimulus = TimedArray(np.hstack([[c, c, c, 0, 0]\n",
    "                                #  for c in np.random.rand(1000)]),\n",
    "                                    #dt=10*ms)\n",
    "    G = NeuronGroup(2, eqs,\n",
    "                    threshold='v>1', reset='v=0', method='euler')\n",
    "    G.v = 0  # different initial values for the neurons\n",
    "\n",
    "    '''\n",
    "    Why is the stimulus not exerting an influence?\n",
    "    - try sub-sample: did not do anything\n",
    "    '''\n",
    "\n",
    "    statemon_test2 = StateMonitor(G, 'v', record=True) #only record Neuron 0 (RAM savings)\n",
    "    spikemon_test2 = SpikeMonitor(G)\n",
    "\n",
    "    run(100*ms)\n",
    "\n",
    "    # %%\n",
    "    '''\n",
    "    Plot brian2 sim for two different runs\n",
    "    '''\n",
    "    fig = plt.figure(figsize=(10,7))\n",
    "    plt.title('Neuron Excitation')\n",
    "    plot(statemon_test1.t/ms, statemon.v[1], color='blue')\n",
    "    plot(statemon_test2.t/ms, statemon.v[1], color='red', linestyle='--')\n",
    "    for t in spikemon.t:\n",
    "        axvline(t/ms, ls='--', c='C1', lw=3)\n",
    "    xlabel('Time (ms)')\n",
    "    ylabel('v');\n"
   ]
  }
 ],
 "metadata": {
  "interpreter": {
   "hash": "2d93dd1c9ac828c31527f6e637bf62064e6aea91c4025b2f9b7e76d0e0ca5633"
  },
  "kernelspec": {
   "display_name": "Python 3.8.10 64-bit (windows store)",
   "language": "python",
   "name": "python3"
  },
  "language_info": {
   "codemirror_mode": {
    "name": "ipython",
    "version": 3
   },
   "file_extension": ".py",
   "mimetype": "text/x-python",
   "name": "python",
   "nbconvert_exporter": "python",
   "pygments_lexer": "ipython3",
   "version": "3.8.10"
  },
  "orig_nbformat": 4
 },
 "nbformat": 4,
 "nbformat_minor": 2
}
