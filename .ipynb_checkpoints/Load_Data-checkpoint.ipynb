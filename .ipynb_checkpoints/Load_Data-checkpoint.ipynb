{
 "cells": [
  {
   "cell_type": "markdown",
   "id": "03235d72",
   "metadata": {},
   "source": [
    "## Loading EMG data\n",
    "EMF data come from the NinaPro DB7 public database.\n",
    "<br> We load the full scale data from a number of subjects, extracting data for a number of hand poses (classes). See NinaPro for the correspondance between class ID and actual hand pose/movement. "
   ]
  },
  {
   "cell_type": "code",
   "execution_count": 1,
   "id": "a059cbc9",
   "metadata": {},
   "outputs": [],
   "source": [
    "import numpy as np\n",
    "import matplotlib.pyplot as plt\n",
    "import scipy.io as spio\n",
    "import pandas as pd\n"
   ]
  },
  {
   "cell_type": "code",
   "execution_count": null,
   "id": "614dcd53",
   "metadata": {},
   "outputs": [],
   "source": [
    "no_electrodes = 12 #number of electrodes\n",
    "sampling_rate = 2000 #Hz\n",
    "classes = [3, 5, 6] #how many movement to classify\n",
    "'''\n",
    "Large scale data\n",
    "'''\n",
    "import os\n",
    "#alternative paths to file when file is nearby relative to current repository (here we dont have to explicitly define the data_path)\n",
    "# script_path = os.path.abspath('EMG_data_SVM_classifier.ipynb') #absolute path to script\n",
    "#script_dir = os.path.split(script_path)[0] #absolute path into current directory\n",
    "# script_dir = script_dir[:script_dir.rfind('\\\\')+1] #absolute path into folder one level above the current directory\n",
    "# rel_path = 'Data/'+'S'+str(subject)+'_E1_A1.mat' #relative path from folder one level above the current directory to data file\n",
    "# abs_file_path = os.path.join(script_dir, rel_path) #absolute path to data file\n",
    "\n",
    "#explicit path to data folder\n",
    "data_path = 'C:\\\\Users\\\\David\\\\Projects\\\\Data'\n",
    "\n",
    "subjects = [1,2,3,4,5,6,7,8,9,10,11,12,13,14,15,16,17,18,19,20] #subjects to extract\n",
    "subjects_labels = [str(s) for s in subjects]\n",
    "#target variable stores class ID for each EMG data stream\n",
    "y = []\n",
    "#initialize empty lists for storing electrode data across samples\n",
    "global_el = [[] for i in range(12)]\n",
    "for idx, subject in enumerate(subjects):\n",
    "    #extract data for each subject\n",
    "    file_name = '\\\\S'+str(subject)+'_E1_A1.mat' #relative path from current script directory to data file\n",
    "    abs_file_path = data_path + file_name #absolute path to data file\n",
    "    #load data from MATLAB file\n",
    "    mat = (spio.loadmat(abs_file_path, squeeze_me=True))\n",
    "    #extracts raw emg data\n",
    "    emg = np.array(mat['emg'])\n",
    "    #each time point labelled with corresponding pose\n",
    "    stimulus = np.array(mat['stimulus'])\n",
    "    #extract classes (hand poses) from raw emg data\n",
    "    emg_labelled = [emg[np.where(stimulus==i)] for i in range(1,len(classes)+1)]\n",
    "    #data collection time interval in seconds\n",
    "    time_pose = [len(emg_labelled[c])/sampling_rate for c in range(len(classes))] \n",
    "    \n",
    "    '''\n",
    "    Feature Extraction\n",
    "    '''\n",
    "    #convert data to freq. domain\n",
    "    xf, yf = time_to_freq_domain(emg_labelled, time_pose, sampling_rate, classes, no_electrodes)\n",
    "    \n",
    "    #Mean Power (MP)\n",
    "    MP = [np.sum(np.abs(yf[c]),axis=1)/len(xf[c]) for c in range(len(classes))]\n",
    "    #target variables (class ID)\n",
    "    y += classes\n",
    "    #saves data for each electrode over samples\n",
    "    el = [[MP[c][e] for c in range(len(classes))] for e in range(12)]\n",
    "    #appends data of current sample to electrode data of all samples\n",
    "    global_el = [global_el[e] + el[e] for e in range(12)]\n",
    "    "
   ]
  },
  {
   "cell_type": "markdown",
   "id": "324581f4",
   "metadata": {},
   "source": [
    "  - ``global_el`` stores extracted features for each electrode over all of the samples.\n",
    " #### Creating a data frame from extractred data"
   ]
  },
  {
   "cell_type": "code",
   "execution_count": null,
   "id": "c7f5c914",
   "metadata": {},
   "outputs": [],
   "source": [
    "data = {'El: '+str(e):global_el[e] for e in range(12)}\n",
    "data['Class'] = y\n",
    "data_X = pd.DataFrame(data)    \n",
    "data_X.head()\n",
    "data_X.tail()\n",
    "#data_X.info()\n",
    "#data_X.shape\n",
    "display(data_X)\n",
    "\n"
   ]
  },
  {
   "cell_type": "markdown",
   "id": "11dfb925",
   "metadata": {},
   "source": [
    "#### Sample testing data\n",
    "We also extract data for a single subjects for the purpose of manual checks, testing and plotting of features."
   ]
  },
  {
   "cell_type": "code",
   "execution_count": null,
   "id": "4b8d2d01",
   "metadata": {},
   "outputs": [],
   "source": [
    "'''\n",
    "Small scale data\n",
    "'''    \n",
    "mat = spio.loadmat('S11_E1_A1.mat', squeeze_me=True)\n",
    "emg = np.array(mat['emg']) #raw emg data stream containing all poses and rest\n",
    "stimulus = np.array(mat['stimulus']) #each time point labelled with corresponding pose\n",
    "emg_pose_1 = emg[np.where(stimulus==1)] #emg signal for pose 1\n",
    "no_electrodes = np.shape(emg_pose_1)[1] #number of electrodes\n",
    "sampling_rate = 2000 #Hz\n",
    "time_pose_1 = len(emg_pose_1)/sampling_rate #data collection time interval in seconds\n",
    "\n",
    "#convert to frequency domain\n",
    "xf, yf = time_to_freq_domain(emg_pose_1, time_pose_1, sampling_rate, classes, no_electrodes, sample=True)\n",
    "#Feature Extraction\n",
    "MP = [np.sum(np.abs(yf[e])/len(xf)) for e in range(no_electrodes)]"
   ]
  }
 ],
 "metadata": {
  "kernelspec": {
   "display_name": "Python 3",
   "language": "python",
   "name": "python3"
  },
  "language_info": {
   "codemirror_mode": {
    "name": "ipython",
    "version": 3
   },
   "file_extension": ".py",
   "mimetype": "text/x-python",
   "name": "python",
   "nbconvert_exporter": "python",
   "pygments_lexer": "ipython3",
   "version": "3.8.3"
  }
 },
 "nbformat": 4,
 "nbformat_minor": 5
}
