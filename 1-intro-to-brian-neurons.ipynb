{
 "cells": [
  {
   "cell_type": "markdown",
   "metadata": {
    "heading_collapsed": false,
    "level": 1
   },
   "source": [
    "# Introduction to Brian part 1: Neurons"
   ]
  },
  {
   "cell_type": "markdown",
   "metadata": {},
   "source": [
    "All Brian scripts start with the following. If you're trying this notebook out in the Jupyter notebook, you should start by running this cell."
   ]
  },
  {
   "cell_type": "code",
   "execution_count": 2,
   "metadata": {},
   "outputs": [],
   "source": [
    "from brian2 import *"
   ]
  },
  {
   "cell_type": "code",
   "execution_count": 1,
   "metadata": {},
   "outputs": [],
   "source": [
    "import numpy as np"
   ]
  },
  {
   "cell_type": "code",
   "execution_count": 3,
   "metadata": {},
   "outputs": [
    {
     "data": {
      "text/plain": [
       "array([[0., 0., 0.],\n",
       "       [0., 0., 0.]])"
      ]
     },
     "execution_count": 3,
     "metadata": {},
     "output_type": "execute_result"
    }
   ],
   "source": [
    "t = np.zeros((2,3))\n",
    "t"
   ]
  },
  {
   "cell_type": "markdown",
   "metadata": {},
   "source": [
    "Later we'll do some plotting in the notebook, so we activate inline plotting in the notebook by doing this:"
   ]
  },
  {
   "cell_type": "code",
   "execution_count": 4,
   "metadata": {},
   "outputs": [],
   "source": [
    "%matplotlib inline"
   ]
  },
  {
   "cell_type": "markdown",
   "metadata": {},
   "source": [
    "If you are not using the Jupyter notebook to run this example (e.g. you are using a standard Python terminal, or you copy&paste these example into an editor and run them as a script), then plots will not automatically be displayed. In this case, call the ``show()`` command explicitly after the plotting commands."
   ]
  },
  {
   "cell_type": "markdown",
   "metadata": {
    "heading_collapsed": false,
    "level": 2
   },
   "source": [
    "## Units system\n",
    "\n",
    "Brian has a system for using quantities with physical dimensions:"
   ]
  },
  {
   "cell_type": "code",
   "execution_count": 5,
   "metadata": {},
   "outputs": [
    {
     "data": {
      "text/latex": [
       "$20.0\\,\\mathrm{V}$"
      ],
      "text/plain": [
       "20. * volt"
      ]
     },
     "execution_count": 5,
     "metadata": {},
     "output_type": "execute_result"
    }
   ],
   "source": [
    "20*volt"
   ]
  },
  {
   "cell_type": "markdown",
   "metadata": {},
   "source": [
    "All of the basic SI units can be used (volt, amp, etc.) along with all the standard prefixes (m=milli, p=pico, etc.), as well as a few special abbreviations like ``mV`` for millivolt, ``pF`` for picofarad, etc."
   ]
  },
  {
   "cell_type": "code",
   "execution_count": 6,
   "metadata": {},
   "outputs": [
    {
     "data": {
      "text/latex": [
       "$1.0\\,\\mathrm{k}\\mathrm{A}$"
      ],
      "text/plain": [
       "1. * kamp"
      ]
     },
     "execution_count": 6,
     "metadata": {},
     "output_type": "execute_result"
    }
   ],
   "source": [
    "1000*amp"
   ]
  },
  {
   "cell_type": "code",
   "execution_count": 5,
   "metadata": {},
   "outputs": [
    {
     "data": {
      "text/latex": [
       "$1.0\\,\\mathrm{M}\\mathrm{V}$"
      ],
      "text/plain": [
       "1. * Mvolt"
      ]
     },
     "execution_count": 5,
     "metadata": {},
     "output_type": "execute_result"
    }
   ],
   "source": [
    "1e6*volt"
   ]
  },
  {
   "cell_type": "code",
   "execution_count": 6,
   "metadata": {},
   "outputs": [
    {
     "data": {
      "text/latex": [
       "$1.0\\,\\mathrm{\\mu}\\mathrm{A}$"
      ],
      "text/plain": [
       "1. * uamp"
      ]
     },
     "execution_count": 6,
     "metadata": {},
     "output_type": "execute_result"
    }
   ],
   "source": [
    "1000*namp"
   ]
  },
  {
   "cell_type": "markdown",
   "metadata": {},
   "source": [
    "Also note that combinations of units with work as expected:"
   ]
  },
  {
   "cell_type": "code",
   "execution_count": 7,
   "metadata": {},
   "outputs": [
    {
     "data": {
      "text/latex": [
       "$50.0\\,\\mathrm{m}\\mathrm{V}$"
      ],
      "text/plain": [
       "50. * mvolt"
      ]
     },
     "execution_count": 7,
     "metadata": {},
     "output_type": "execute_result"
    }
   ],
   "source": [
    "10*nA*5*Mohm"
   ]
  },
  {
   "cell_type": "markdown",
   "metadata": {},
   "source": [
    "And if you try to do something wrong like adding amps and volts, what happens?"
   ]
  },
  {
   "cell_type": "code",
   "execution_count": 8,
   "metadata": {},
   "outputs": [
    {
     "ename": "DimensionMismatchError",
     "evalue": "Cannot calculate 5. A + 10. V, units do not match (units are A and V).",
     "output_type": "error",
     "traceback": [
      "\u001b[1;31m---------------------------------------------------------------------------\u001b[0m",
      "\u001b[1;31mDimensionMismatchError\u001b[0m                    Traceback (most recent call last)",
      "\u001b[1;32m<ipython-input-8-245c0c0332d1>\u001b[0m in \u001b[0;36m<module>\u001b[1;34m\u001b[0m\n\u001b[1;32m----> 1\u001b[1;33m \u001b[1;36m5\u001b[0m\u001b[1;33m*\u001b[0m\u001b[0mamp\u001b[0m\u001b[1;33m+\u001b[0m\u001b[1;36m10\u001b[0m\u001b[1;33m*\u001b[0m\u001b[0mvolt\u001b[0m\u001b[1;33m\u001b[0m\u001b[1;33m\u001b[0m\u001b[0m\n\u001b[0m",
      "\u001b[1;32m~\\anaconda3\\lib\\site-packages\\brian2\\units\\fundamentalunits.py\u001b[0m in \u001b[0;36m__add__\u001b[1;34m(self, other)\u001b[0m\n\u001b[0;32m   1419\u001b[0m \u001b[1;33m\u001b[0m\u001b[0m\n\u001b[0;32m   1420\u001b[0m     \u001b[1;32mdef\u001b[0m \u001b[0m__add__\u001b[0m\u001b[1;33m(\u001b[0m\u001b[0mself\u001b[0m\u001b[1;33m,\u001b[0m \u001b[0mother\u001b[0m\u001b[1;33m)\u001b[0m\u001b[1;33m:\u001b[0m\u001b[1;33m\u001b[0m\u001b[1;33m\u001b[0m\u001b[0m\n\u001b[1;32m-> 1421\u001b[1;33m         return self._binary_operation(other, operator.add,\n\u001b[0m\u001b[0;32m   1422\u001b[0m                                       \u001b[0mfail_for_mismatch\u001b[0m\u001b[1;33m=\u001b[0m\u001b[1;32mTrue\u001b[0m\u001b[1;33m,\u001b[0m\u001b[1;33m\u001b[0m\u001b[1;33m\u001b[0m\u001b[0m\n\u001b[0;32m   1423\u001b[0m                                       operator_str='+')\n",
      "\u001b[1;32m~\\anaconda3\\lib\\site-packages\\brian2\\units\\fundamentalunits.py\u001b[0m in \u001b[0;36m_binary_operation\u001b[1;34m(self, other, operation, dim_operation, fail_for_mismatch, operator_str, inplace)\u001b[0m\n\u001b[0;32m   1359\u001b[0m                 message = ('Cannot calculate {value1} %s {value2}, units do not '\n\u001b[0;32m   1360\u001b[0m                            'match') % operator_str\n\u001b[1;32m-> 1361\u001b[1;33m                 _, other_dim = fail_for_dimension_mismatch(self, other, message,\n\u001b[0m\u001b[0;32m   1362\u001b[0m                                                            \u001b[0mvalue1\u001b[0m\u001b[1;33m=\u001b[0m\u001b[0mself\u001b[0m\u001b[1;33m,\u001b[0m\u001b[1;33m\u001b[0m\u001b[1;33m\u001b[0m\u001b[0m\n\u001b[0;32m   1363\u001b[0m                                                            value2=other)\n",
      "\u001b[1;32m~\\anaconda3\\lib\\site-packages\\brian2\\units\\fundamentalunits.py\u001b[0m in \u001b[0;36mfail_for_dimension_mismatch\u001b[1;34m(obj1, obj2, error_message, **error_quantities)\u001b[0m\n\u001b[0;32m    185\u001b[0m             \u001b[1;32mraise\u001b[0m \u001b[0mDimensionMismatchError\u001b[0m\u001b[1;33m(\u001b[0m\u001b[0merror_message\u001b[0m\u001b[1;33m,\u001b[0m \u001b[0mdim1\u001b[0m\u001b[1;33m)\u001b[0m\u001b[1;33m\u001b[0m\u001b[1;33m\u001b[0m\u001b[0m\n\u001b[0;32m    186\u001b[0m         \u001b[1;32melse\u001b[0m\u001b[1;33m:\u001b[0m\u001b[1;33m\u001b[0m\u001b[1;33m\u001b[0m\u001b[0m\n\u001b[1;32m--> 187\u001b[1;33m             \u001b[1;32mraise\u001b[0m \u001b[0mDimensionMismatchError\u001b[0m\u001b[1;33m(\u001b[0m\u001b[0merror_message\u001b[0m\u001b[1;33m,\u001b[0m \u001b[0mdim1\u001b[0m\u001b[1;33m,\u001b[0m \u001b[0mdim2\u001b[0m\u001b[1;33m)\u001b[0m\u001b[1;33m\u001b[0m\u001b[1;33m\u001b[0m\u001b[0m\n\u001b[0m\u001b[0;32m    188\u001b[0m     \u001b[1;32melse\u001b[0m\u001b[1;33m:\u001b[0m\u001b[1;33m\u001b[0m\u001b[1;33m\u001b[0m\u001b[0m\n\u001b[0;32m    189\u001b[0m         \u001b[1;32mreturn\u001b[0m \u001b[0mdim1\u001b[0m\u001b[1;33m,\u001b[0m \u001b[0mdim2\u001b[0m\u001b[1;33m\u001b[0m\u001b[1;33m\u001b[0m\u001b[0m\n",
      "\u001b[1;31mDimensionMismatchError\u001b[0m: Cannot calculate 5. A + 10. V, units do not match (units are A and V)."
     ]
    }
   ],
   "source": [
    "5*amp+10*volt"
   ]
  },
  {
   "cell_type": "markdown",
   "metadata": {},
   "source": [
    "If you haven't see an error message in Python before that can look a bit overwhelming, but it's actually quite simple and it's important to know how to read these because you'll probably see them quite often.\n",
    "\n",
    "You should start at the bottom and work up. The last line gives the error type ``DimensionMismatchError`` along with a more specific message (in this case, you were trying to add together two quantities with different SI units, which is impossible).\n",
    "\n",
    "Working upwards, each of the sections starts with a filename (e.g. ``C:\\Users\\Dan\\...``) with possibly the name of a function, and then a few lines surrounding the line where the error occurred (which is identified with an arrow).\n",
    "\n",
    "The last of these sections shows the place in the function where the error actually happened. The section above it shows the function that called that function, and so on until the first section will be the script that you actually run. This sequence of sections is called a traceback, and is helpful in debugging.\n",
    "\n",
    "If you see a traceback, what you want to do is start at the bottom and scan up the sections until you find your own file because that's most likely where the problem is. (Of course, your code might be correct and Brian may have a bug in which case, please let us know on the email support list.)"
   ]
  },
  {
   "cell_type": "markdown",
   "metadata": {
    "heading_collapsed": false,
    "level": 2
   },
   "source": [
    "## A simple model\n",
    "\n",
    "Let's start by defining a simple neuron model. In Brian, all models are defined by systems of differential equations. Here's a simple example of what that looks like:"
   ]
  },
  {
   "cell_type": "code",
   "execution_count": 2,
   "metadata": {},
   "outputs": [],
   "source": [
    "tau = 10*ms\n",
    "eqs = '''\n",
    "dv/dt = (1-v)/tau : 1\n",
    "'''"
   ]
  },
  {
   "cell_type": "markdown",
   "metadata": {},
   "source": [
    "In Python, the notation ``'''`` is used to begin and end a multi-line string. So the equations are just a string with one line per equation. The equations are formatted with standard mathematical notation, with one addition. At the end of a line you write ``: unit`` where ``unit`` is the SI unit of that variable.\n",
    "Note that this is not the unit of the two sides of the equation (which would be ``1/second``), but the unit of the *variable* defined by the equation, i.e. in this case $v$.\n",
    "\n",
    "Now let's use this definition to create a neuron."
   ]
  },
  {
   "cell_type": "code",
   "execution_count": 3,
   "metadata": {},
   "outputs": [],
   "source": [
    "G = NeuronGroup(1, eqs)"
   ]
  },
  {
   "cell_type": "markdown",
   "metadata": {},
   "source": [
    "In Brian, you only create groups of neurons, using the class ``NeuronGroup``. The first two arguments when you create one of these objects are the number of neurons (in this case, 1) and the defining differential equations.\n",
    "\n",
    "Let's see what happens if we didn't put the variable ``tau`` in the equation:"
   ]
  },
  {
   "cell_type": "code",
   "execution_count": 4,
   "metadata": {},
   "outputs": [
    {
     "ename": "BrianObjectException",
     "evalue": "Error encountered with object named 'neurongroup_1'.\nObject was created here (most recent call only, full details in debug log):\n  File 'C:\\Users\\David\\AppData\\Local\\Temp\\ipykernel_26912\\2653720013.py', line 4, in <cell line: 4>\n    G = NeuronGroup(1, eqs)\n\nAn error occurred when preparing an object. (See above for original error message and traceback.)",
     "output_type": "error",
     "traceback": [
      "\u001b[1;31m---------------------------------------------------------------------------\u001b[0m",
      "\u001b[1;31mDimensionMismatchError\u001b[0m                    Traceback (most recent call last)",
      "File \u001b[1;32m~\\AppData\\Local\\Packages\\PythonSoftwareFoundation.Python.3.8_qbz5n2kfra8p0\\LocalCache\\local-packages\\Python38\\site-packages\\brian2\\equations\\equations.py:1029\u001b[0m, in \u001b[0;36mEquations.check_units\u001b[1;34m(self, group, run_namespace)\u001b[0m\n\u001b[0;32m   <a href='file:///c%3A/Users/David/AppData/Local/Packages/PythonSoftwareFoundation.Python.3.8_qbz5n2kfra8p0/LocalCache/local-packages/Python38/site-packages/brian2/equations/equations.py?line=1027'>1028</a>\u001b[0m \u001b[39mtry\u001b[39;00m:\n\u001b[1;32m-> <a href='file:///c%3A/Users/David/AppData/Local/Packages/PythonSoftwareFoundation.Python.3.8_qbz5n2kfra8p0/LocalCache/local-packages/Python38/site-packages/brian2/equations/equations.py?line=1028'>1029</a>\u001b[0m     check_dimensions(\u001b[39mstr\u001b[39;49m(eq\u001b[39m.\u001b[39;49mexpr), \u001b[39mself\u001b[39;49m\u001b[39m.\u001b[39;49mdimensions[var] \u001b[39m/\u001b[39;49m second\u001b[39m.\u001b[39;49mdim,\n\u001b[0;32m   <a href='file:///c%3A/Users/David/AppData/Local/Packages/PythonSoftwareFoundation.Python.3.8_qbz5n2kfra8p0/LocalCache/local-packages/Python38/site-packages/brian2/equations/equations.py?line=1029'>1030</a>\u001b[0m                      all_variables)\n\u001b[0;32m   <a href='file:///c%3A/Users/David/AppData/Local/Packages/PythonSoftwareFoundation.Python.3.8_qbz5n2kfra8p0/LocalCache/local-packages/Python38/site-packages/brian2/equations/equations.py?line=1030'>1031</a>\u001b[0m \u001b[39mexcept\u001b[39;00m DimensionMismatchError \u001b[39mas\u001b[39;00m ex:\n",
      "File \u001b[1;32m~\\AppData\\Local\\Packages\\PythonSoftwareFoundation.Python.3.8_qbz5n2kfra8p0\\LocalCache\\local-packages\\Python38\\site-packages\\brian2\\equations\\unitcheck.py:44\u001b[0m, in \u001b[0;36mcheck_dimensions\u001b[1;34m(expression, dimensions, variables)\u001b[0m\n\u001b[0;32m     <a href='file:///c%3A/Users/David/AppData/Local/Packages/PythonSoftwareFoundation.Python.3.8_qbz5n2kfra8p0/LocalCache/local-packages/Python38/site-packages/brian2/equations/unitcheck.py?line=41'>42</a>\u001b[0m err_msg \u001b[39m=\u001b[39m (\u001b[39mf\u001b[39m\u001b[39m\"\u001b[39m\u001b[39mExpression \u001b[39m\u001b[39m'\u001b[39m\u001b[39m{\u001b[39;00mexpression\u001b[39m.\u001b[39mstrip()\u001b[39m}\u001b[39;00m\u001b[39m'\u001b[39m\u001b[39m does not have the \u001b[39m\u001b[39m\"\u001b[39m\n\u001b[0;32m     <a href='file:///c%3A/Users/David/AppData/Local/Packages/PythonSoftwareFoundation.Python.3.8_qbz5n2kfra8p0/LocalCache/local-packages/Python38/site-packages/brian2/equations/unitcheck.py?line=42'>43</a>\u001b[0m            \u001b[39mf\u001b[39m\u001b[39m\"\u001b[39m\u001b[39mexpected unit \u001b[39m\u001b[39m{\u001b[39;00mexpected\u001b[39m}\u001b[39;00m\u001b[39m\"\u001b[39m)\n\u001b[1;32m---> <a href='file:///c%3A/Users/David/AppData/Local/Packages/PythonSoftwareFoundation.Python.3.8_qbz5n2kfra8p0/LocalCache/local-packages/Python38/site-packages/brian2/equations/unitcheck.py?line=43'>44</a>\u001b[0m fail_for_dimension_mismatch(expr_dims, dimensions, err_msg)\n",
      "File \u001b[1;32m~\\AppData\\Local\\Packages\\PythonSoftwareFoundation.Python.3.8_qbz5n2kfra8p0\\LocalCache\\local-packages\\Python38\\site-packages\\brian2\\units\\fundamentalunits.py:185\u001b[0m, in \u001b[0;36mfail_for_dimension_mismatch\u001b[1;34m(obj1, obj2, error_message, **error_quantities)\u001b[0m\n\u001b[0;32m    <a href='file:///c%3A/Users/David/AppData/Local/Packages/PythonSoftwareFoundation.Python.3.8_qbz5n2kfra8p0/LocalCache/local-packages/Python38/site-packages/brian2/units/fundamentalunits.py?line=183'>184</a>\u001b[0m \u001b[39mif\u001b[39;00m obj2 \u001b[39mis\u001b[39;00m \u001b[39mNone\u001b[39;00m \u001b[39mor\u001b[39;00m \u001b[39misinstance\u001b[39m(obj2, (Dimension, Unit)):\n\u001b[1;32m--> <a href='file:///c%3A/Users/David/AppData/Local/Packages/PythonSoftwareFoundation.Python.3.8_qbz5n2kfra8p0/LocalCache/local-packages/Python38/site-packages/brian2/units/fundamentalunits.py?line=184'>185</a>\u001b[0m     \u001b[39mraise\u001b[39;00m DimensionMismatchError(error_message, dim1)\n\u001b[0;32m    <a href='file:///c%3A/Users/David/AppData/Local/Packages/PythonSoftwareFoundation.Python.3.8_qbz5n2kfra8p0/LocalCache/local-packages/Python38/site-packages/brian2/units/fundamentalunits.py?line=185'>186</a>\u001b[0m \u001b[39melse\u001b[39;00m:\n",
      "\u001b[1;31mDimensionMismatchError\u001b[0m: Expression '1-v' does not have the expected unit hertz (unit is 1).",
      "\nThe above exception was the direct cause of the following exception:\n",
      "\u001b[1;31mDimensionMismatchError\u001b[0m                    Traceback (most recent call last)",
      "File \u001b[1;32m~\\AppData\\Local\\Packages\\PythonSoftwareFoundation.Python.3.8_qbz5n2kfra8p0\\LocalCache\\local-packages\\Python38\\site-packages\\brian2\\core\\network.py:892\u001b[0m, in \u001b[0;36mNetwork.before_run\u001b[1;34m(self, run_namespace)\u001b[0m\n\u001b[0;32m    <a href='file:///c%3A/Users/David/AppData/Local/Packages/PythonSoftwareFoundation.Python.3.8_qbz5n2kfra8p0/LocalCache/local-packages/Python38/site-packages/brian2/core/network.py?line=890'>891</a>\u001b[0m \u001b[39mtry\u001b[39;00m:\n\u001b[1;32m--> <a href='file:///c%3A/Users/David/AppData/Local/Packages/PythonSoftwareFoundation.Python.3.8_qbz5n2kfra8p0/LocalCache/local-packages/Python38/site-packages/brian2/core/network.py?line=891'>892</a>\u001b[0m     obj\u001b[39m.\u001b[39;49mbefore_run(run_namespace)\n\u001b[0;32m    <a href='file:///c%3A/Users/David/AppData/Local/Packages/PythonSoftwareFoundation.Python.3.8_qbz5n2kfra8p0/LocalCache/local-packages/Python38/site-packages/brian2/core/network.py?line=892'>893</a>\u001b[0m \u001b[39mexcept\u001b[39;00m \u001b[39mException\u001b[39;00m \u001b[39mas\u001b[39;00m ex:\n",
      "File \u001b[1;32m~\\AppData\\Local\\Packages\\PythonSoftwareFoundation.Python.3.8_qbz5n2kfra8p0\\LocalCache\\local-packages\\Python38\\site-packages\\brian2\\groups\\neurongroup.py:878\u001b[0m, in \u001b[0;36mNeuronGroup.before_run\u001b[1;34m(self, run_namespace)\u001b[0m\n\u001b[0;32m    <a href='file:///c%3A/Users/David/AppData/Local/Packages/PythonSoftwareFoundation.Python.3.8_qbz5n2kfra8p0/LocalCache/local-packages/Python38/site-packages/brian2/groups/neurongroup.py?line=875'>876</a>\u001b[0m \u001b[39mdef\u001b[39;00m \u001b[39mbefore_run\u001b[39m(\u001b[39mself\u001b[39m, run_namespace\u001b[39m=\u001b[39m\u001b[39mNone\u001b[39;00m):\n\u001b[0;32m    <a href='file:///c%3A/Users/David/AppData/Local/Packages/PythonSoftwareFoundation.Python.3.8_qbz5n2kfra8p0/LocalCache/local-packages/Python38/site-packages/brian2/groups/neurongroup.py?line=876'>877</a>\u001b[0m     \u001b[39m# Check units\u001b[39;00m\n\u001b[1;32m--> <a href='file:///c%3A/Users/David/AppData/Local/Packages/PythonSoftwareFoundation.Python.3.8_qbz5n2kfra8p0/LocalCache/local-packages/Python38/site-packages/brian2/groups/neurongroup.py?line=877'>878</a>\u001b[0m     \u001b[39mself\u001b[39;49m\u001b[39m.\u001b[39;49mequations\u001b[39m.\u001b[39;49mcheck_units(\u001b[39mself\u001b[39;49m, run_namespace\u001b[39m=\u001b[39;49mrun_namespace)\n\u001b[0;32m    <a href='file:///c%3A/Users/David/AppData/Local/Packages/PythonSoftwareFoundation.Python.3.8_qbz5n2kfra8p0/LocalCache/local-packages/Python38/site-packages/brian2/groups/neurongroup.py?line=878'>879</a>\u001b[0m     \u001b[39m# Check that subexpressions that refer to stateful functions are labeled\u001b[39;00m\n\u001b[0;32m    <a href='file:///c%3A/Users/David/AppData/Local/Packages/PythonSoftwareFoundation.Python.3.8_qbz5n2kfra8p0/LocalCache/local-packages/Python38/site-packages/brian2/groups/neurongroup.py?line=879'>880</a>\u001b[0m     \u001b[39m# as \"constant over dt\"\u001b[39;00m\n",
      "File \u001b[1;32m~\\AppData\\Local\\Packages\\PythonSoftwareFoundation.Python.3.8_qbz5n2kfra8p0\\LocalCache\\local-packages\\Python38\\site-packages\\brian2\\equations\\equations.py:1032\u001b[0m, in \u001b[0;36mEquations.check_units\u001b[1;34m(self, group, run_namespace)\u001b[0m\n\u001b[0;32m   <a href='file:///c%3A/Users/David/AppData/Local/Packages/PythonSoftwareFoundation.Python.3.8_qbz5n2kfra8p0/LocalCache/local-packages/Python38/site-packages/brian2/equations/equations.py?line=1030'>1031</a>\u001b[0m     \u001b[39mexcept\u001b[39;00m DimensionMismatchError \u001b[39mas\u001b[39;00m ex:\n\u001b[1;32m-> <a href='file:///c%3A/Users/David/AppData/Local/Packages/PythonSoftwareFoundation.Python.3.8_qbz5n2kfra8p0/LocalCache/local-packages/Python38/site-packages/brian2/equations/equations.py?line=1031'>1032</a>\u001b[0m         \u001b[39mraise\u001b[39;00m DimensionMismatchError(\u001b[39mf\u001b[39m\u001b[39m\"\u001b[39m\u001b[39mInconsistent units in \u001b[39m\u001b[39m\"\u001b[39m\n\u001b[0;32m   <a href='file:///c%3A/Users/David/AppData/Local/Packages/PythonSoftwareFoundation.Python.3.8_qbz5n2kfra8p0/LocalCache/local-packages/Python38/site-packages/brian2/equations/equations.py?line=1032'>1033</a>\u001b[0m                                       \u001b[39mf\u001b[39m\u001b[39m\"\u001b[39m\u001b[39mdifferential equation \u001b[39m\u001b[39m\"\u001b[39m\n\u001b[0;32m   <a href='file:///c%3A/Users/David/AppData/Local/Packages/PythonSoftwareFoundation.Python.3.8_qbz5n2kfra8p0/LocalCache/local-packages/Python38/site-packages/brian2/equations/equations.py?line=1033'>1034</a>\u001b[0m                                       \u001b[39mf\u001b[39m\u001b[39m\"\u001b[39m\u001b[39mdefining variable \u001b[39m\u001b[39m'\u001b[39m\u001b[39m{\u001b[39;00meq\u001b[39m.\u001b[39mvarname\u001b[39m}\u001b[39;00m\u001b[39m'\u001b[39m\u001b[39m:\u001b[39m\u001b[39m\"\u001b[39m\n\u001b[0;32m   <a href='file:///c%3A/Users/David/AppData/Local/Packages/PythonSoftwareFoundation.Python.3.8_qbz5n2kfra8p0/LocalCache/local-packages/Python38/site-packages/brian2/equations/equations.py?line=1034'>1035</a>\u001b[0m                                       \u001b[39mf\u001b[39m\u001b[39m\"\u001b[39m\u001b[39m\\n\u001b[39;00m\u001b[39m{\u001b[39;00mex\u001b[39m.\u001b[39mdesc\u001b[39m}\u001b[39;00m\u001b[39m\"\u001b[39m, \u001b[39m*\u001b[39mex\u001b[39m.\u001b[39mdims) \u001b[39mfrom\u001b[39;00m \u001b[39mex\u001b[39;00m\n\u001b[0;32m   <a href='file:///c%3A/Users/David/AppData/Local/Packages/PythonSoftwareFoundation.Python.3.8_qbz5n2kfra8p0/LocalCache/local-packages/Python38/site-packages/brian2/equations/equations.py?line=1035'>1036</a>\u001b[0m \u001b[39melif\u001b[39;00m eq\u001b[39m.\u001b[39mtype \u001b[39m==\u001b[39m SUBEXPRESSION:\n",
      "\u001b[1;31mDimensionMismatchError\u001b[0m: Inconsistent units in differential equation defining variable 'v':\nExpression '1-v' does not have the expected unit hertz (unit is 1).",
      "\nThe above exception was the direct cause of the following exception:\n",
      "\u001b[1;31mBrianObjectException\u001b[0m                      Traceback (most recent call last)",
      "\u001b[1;32mc:\\Users\\David\\OneDrive\\Dokumenty\\Uni\\ETH\\Thesis\\Code\\SNN-hand-kinematics-estimation-from-sEMG-signals\\1-intro-to-brian-neurons.ipynb Cell 23'\u001b[0m in \u001b[0;36m<cell line: 5>\u001b[1;34m()\u001b[0m\n\u001b[0;32m      <a href='vscode-notebook-cell:/c%3A/Users/David/OneDrive/Dokumenty/Uni/ETH/Thesis/Code/SNN-hand-kinematics-estimation-from-sEMG-signals/1-intro-to-brian-neurons.ipynb#ch0000022?line=0'>1</a>\u001b[0m eqs \u001b[39m=\u001b[39m \u001b[39m'''\u001b[39m\n\u001b[0;32m      <a href='vscode-notebook-cell:/c%3A/Users/David/OneDrive/Dokumenty/Uni/ETH/Thesis/Code/SNN-hand-kinematics-estimation-from-sEMG-signals/1-intro-to-brian-neurons.ipynb#ch0000022?line=1'>2</a>\u001b[0m \u001b[39mdv/dt = 1-v : 1\u001b[39m\n\u001b[0;32m      <a href='vscode-notebook-cell:/c%3A/Users/David/OneDrive/Dokumenty/Uni/ETH/Thesis/Code/SNN-hand-kinematics-estimation-from-sEMG-signals/1-intro-to-brian-neurons.ipynb#ch0000022?line=2'>3</a>\u001b[0m \u001b[39m'''\u001b[39m\n\u001b[0;32m      <a href='vscode-notebook-cell:/c%3A/Users/David/OneDrive/Dokumenty/Uni/ETH/Thesis/Code/SNN-hand-kinematics-estimation-from-sEMG-signals/1-intro-to-brian-neurons.ipynb#ch0000022?line=3'>4</a>\u001b[0m G \u001b[39m=\u001b[39m NeuronGroup(\u001b[39m1\u001b[39m, eqs)\n\u001b[1;32m----> <a href='vscode-notebook-cell:/c%3A/Users/David/OneDrive/Dokumenty/Uni/ETH/Thesis/Code/SNN-hand-kinematics-estimation-from-sEMG-signals/1-intro-to-brian-neurons.ipynb#ch0000022?line=4'>5</a>\u001b[0m run(\u001b[39m100\u001b[39;49m\u001b[39m*\u001b[39;49mms)\n",
      "File \u001b[1;32m~\\AppData\\Local\\Packages\\PythonSoftwareFoundation.Python.3.8_qbz5n2kfra8p0\\LocalCache\\local-packages\\Python38\\site-packages\\brian2\\units\\fundamentalunits.py:2428\u001b[0m, in \u001b[0;36mcheck_units.<locals>.do_check_units.<locals>.new_f\u001b[1;34m(*args, **kwds)\u001b[0m\n\u001b[0;32m   <a href='file:///c%3A/Users/David/AppData/Local/Packages/PythonSoftwareFoundation.Python.3.8_qbz5n2kfra8p0/LocalCache/local-packages/Python38/site-packages/brian2/units/fundamentalunits.py?line=2420'>2421</a>\u001b[0m             error_message \u001b[39m=\u001b[39m (\u001b[39mf\u001b[39m\u001b[39m\"\u001b[39m\u001b[39mFunction \u001b[39m\u001b[39m'\u001b[39m\u001b[39m{\u001b[39;00mf\u001b[39m.\u001b[39m\u001b[39m__name__\u001b[39m\u001b[39m}\u001b[39;00m\u001b[39m'\u001b[39m\u001b[39m \u001b[39m\u001b[39m\"\u001b[39m\n\u001b[0;32m   <a href='file:///c%3A/Users/David/AppData/Local/Packages/PythonSoftwareFoundation.Python.3.8_qbz5n2kfra8p0/LocalCache/local-packages/Python38/site-packages/brian2/units/fundamentalunits.py?line=2421'>2422</a>\u001b[0m                              \u001b[39mf\u001b[39m\u001b[39m\"\u001b[39m\u001b[39mexpected a quantitity with unit \u001b[39m\u001b[39m\"\u001b[39m\n\u001b[0;32m   <a href='file:///c%3A/Users/David/AppData/Local/Packages/PythonSoftwareFoundation.Python.3.8_qbz5n2kfra8p0/LocalCache/local-packages/Python38/site-packages/brian2/units/fundamentalunits.py?line=2422'>2423</a>\u001b[0m                              \u001b[39mf\u001b[39m\u001b[39m\"\u001b[39m\u001b[39m{\u001b[39;00munit\u001b[39m}\u001b[39;00m\u001b[39m for argument \u001b[39m\u001b[39m'\u001b[39m\u001b[39m{\u001b[39;00mk\u001b[39m}\u001b[39;00m\u001b[39m'\u001b[39m\u001b[39m but got \u001b[39m\u001b[39m\"\u001b[39m\n\u001b[0;32m   <a href='file:///c%3A/Users/David/AppData/Local/Packages/PythonSoftwareFoundation.Python.3.8_qbz5n2kfra8p0/LocalCache/local-packages/Python38/site-packages/brian2/units/fundamentalunits.py?line=2423'>2424</a>\u001b[0m                              \u001b[39mf\u001b[39m\u001b[39m\"\u001b[39m\u001b[39m'\u001b[39m\u001b[39m{\u001b[39;00mvalue\u001b[39m}\u001b[39;00m\u001b[39m'\u001b[39m\u001b[39m\"\u001b[39m)\n\u001b[0;32m   <a href='file:///c%3A/Users/David/AppData/Local/Packages/PythonSoftwareFoundation.Python.3.8_qbz5n2kfra8p0/LocalCache/local-packages/Python38/site-packages/brian2/units/fundamentalunits.py?line=2424'>2425</a>\u001b[0m             \u001b[39mraise\u001b[39;00m DimensionMismatchError(error_message,\n\u001b[0;32m   <a href='file:///c%3A/Users/David/AppData/Local/Packages/PythonSoftwareFoundation.Python.3.8_qbz5n2kfra8p0/LocalCache/local-packages/Python38/site-packages/brian2/units/fundamentalunits.py?line=2425'>2426</a>\u001b[0m                                          get_dimensions(newkeyset[k]))\n\u001b[1;32m-> <a href='file:///c%3A/Users/David/AppData/Local/Packages/PythonSoftwareFoundation.Python.3.8_qbz5n2kfra8p0/LocalCache/local-packages/Python38/site-packages/brian2/units/fundamentalunits.py?line=2427'>2428</a>\u001b[0m result \u001b[39m=\u001b[39m f(\u001b[39m*\u001b[39;49margs, \u001b[39m*\u001b[39;49m\u001b[39m*\u001b[39;49mkwds)\n\u001b[0;32m   <a href='file:///c%3A/Users/David/AppData/Local/Packages/PythonSoftwareFoundation.Python.3.8_qbz5n2kfra8p0/LocalCache/local-packages/Python38/site-packages/brian2/units/fundamentalunits.py?line=2428'>2429</a>\u001b[0m \u001b[39mif\u001b[39;00m \u001b[39m'\u001b[39m\u001b[39mresult\u001b[39m\u001b[39m'\u001b[39m \u001b[39min\u001b[39;00m au:\n\u001b[0;32m   <a href='file:///c%3A/Users/David/AppData/Local/Packages/PythonSoftwareFoundation.Python.3.8_qbz5n2kfra8p0/LocalCache/local-packages/Python38/site-packages/brian2/units/fundamentalunits.py?line=2429'>2430</a>\u001b[0m     \u001b[39mif\u001b[39;00m \u001b[39misinstance\u001b[39m(au[\u001b[39m'\u001b[39m\u001b[39mresult\u001b[39m\u001b[39m'\u001b[39m], Callable) \u001b[39mand\u001b[39;00m au[\u001b[39m'\u001b[39m\u001b[39mresult\u001b[39m\u001b[39m'\u001b[39m] \u001b[39m!=\u001b[39m \u001b[39mbool\u001b[39m:\n",
      "File \u001b[1;32m~\\AppData\\Local\\Packages\\PythonSoftwareFoundation.Python.3.8_qbz5n2kfra8p0\\LocalCache\\local-packages\\Python38\\site-packages\\brian2\\core\\magic.py:373\u001b[0m, in \u001b[0;36mrun\u001b[1;34m(duration, report, report_period, namespace, profile, level)\u001b[0m\n\u001b[0;32m    <a href='file:///c%3A/Users/David/AppData/Local/Packages/PythonSoftwareFoundation.Python.3.8_qbz5n2kfra8p0/LocalCache/local-packages/Python38/site-packages/brian2/core/magic.py?line=309'>310</a>\u001b[0m \u001b[39m@check_units\u001b[39m(duration\u001b[39m=\u001b[39msecond, report_period\u001b[39m=\u001b[39msecond)\n\u001b[0;32m    <a href='file:///c%3A/Users/David/AppData/Local/Packages/PythonSoftwareFoundation.Python.3.8_qbz5n2kfra8p0/LocalCache/local-packages/Python38/site-packages/brian2/core/magic.py?line=310'>311</a>\u001b[0m \u001b[39mdef\u001b[39;00m \u001b[39mrun\u001b[39m(duration, report\u001b[39m=\u001b[39m\u001b[39mNone\u001b[39;00m, report_period\u001b[39m=\u001b[39m\u001b[39m10\u001b[39m\u001b[39m*\u001b[39msecond, namespace\u001b[39m=\u001b[39m\u001b[39mNone\u001b[39;00m,\n\u001b[0;32m    <a href='file:///c%3A/Users/David/AppData/Local/Packages/PythonSoftwareFoundation.Python.3.8_qbz5n2kfra8p0/LocalCache/local-packages/Python38/site-packages/brian2/core/magic.py?line=311'>312</a>\u001b[0m         profile\u001b[39m=\u001b[39m\u001b[39mNone\u001b[39;00m, level\u001b[39m=\u001b[39m\u001b[39m0\u001b[39m):\n\u001b[0;32m    <a href='file:///c%3A/Users/David/AppData/Local/Packages/PythonSoftwareFoundation.Python.3.8_qbz5n2kfra8p0/LocalCache/local-packages/Python38/site-packages/brian2/core/magic.py?line=312'>313</a>\u001b[0m     \u001b[39m\"\"\"\u001b[39;00m\n\u001b[0;32m    <a href='file:///c%3A/Users/David/AppData/Local/Packages/PythonSoftwareFoundation.Python.3.8_qbz5n2kfra8p0/LocalCache/local-packages/Python38/site-packages/brian2/core/magic.py?line=313'>314</a>\u001b[0m \u001b[39m    run(duration, report=None, report_period=10*second, namespace=None, level=0)\u001b[39;00m\n\u001b[0;32m    <a href='file:///c%3A/Users/David/AppData/Local/Packages/PythonSoftwareFoundation.Python.3.8_qbz5n2kfra8p0/LocalCache/local-packages/Python38/site-packages/brian2/core/magic.py?line=314'>315</a>\u001b[0m \u001b[39m    \u001b[39;00m\n\u001b[1;32m   (...)\u001b[0m\n\u001b[0;32m    <a href='file:///c%3A/Users/David/AppData/Local/Packages/PythonSoftwareFoundation.Python.3.8_qbz5n2kfra8p0/LocalCache/local-packages/Python38/site-packages/brian2/core/magic.py?line=370'>371</a>\u001b[0m \u001b[39m        intended use. See `MagicNetwork` for more details.\u001b[39;00m\n\u001b[0;32m    <a href='file:///c%3A/Users/David/AppData/Local/Packages/PythonSoftwareFoundation.Python.3.8_qbz5n2kfra8p0/LocalCache/local-packages/Python38/site-packages/brian2/core/magic.py?line=371'>372</a>\u001b[0m \u001b[39m    \"\"\"\u001b[39;00m\n\u001b[1;32m--> <a href='file:///c%3A/Users/David/AppData/Local/Packages/PythonSoftwareFoundation.Python.3.8_qbz5n2kfra8p0/LocalCache/local-packages/Python38/site-packages/brian2/core/magic.py?line=372'>373</a>\u001b[0m     \u001b[39mreturn\u001b[39;00m magic_network\u001b[39m.\u001b[39;49mrun(duration, report\u001b[39m=\u001b[39;49mreport, report_period\u001b[39m=\u001b[39;49mreport_period,\n\u001b[0;32m    <a href='file:///c%3A/Users/David/AppData/Local/Packages/PythonSoftwareFoundation.Python.3.8_qbz5n2kfra8p0/LocalCache/local-packages/Python38/site-packages/brian2/core/magic.py?line=373'>374</a>\u001b[0m                              namespace\u001b[39m=\u001b[39;49mnamespace, profile\u001b[39m=\u001b[39;49mprofile, level\u001b[39m=\u001b[39;49m\u001b[39m2\u001b[39;49m\u001b[39m+\u001b[39;49mlevel)\n",
      "File \u001b[1;32m~\\AppData\\Local\\Packages\\PythonSoftwareFoundation.Python.3.8_qbz5n2kfra8p0\\LocalCache\\local-packages\\Python38\\site-packages\\brian2\\core\\magic.py:230\u001b[0m, in \u001b[0;36mMagicNetwork.run\u001b[1;34m(self, duration, report, report_period, namespace, profile, level)\u001b[0m\n\u001b[0;32m    <a href='file:///c%3A/Users/David/AppData/Local/Packages/PythonSoftwareFoundation.Python.3.8_qbz5n2kfra8p0/LocalCache/local-packages/Python38/site-packages/brian2/core/magic.py?line=226'>227</a>\u001b[0m \u001b[39mdef\u001b[39;00m \u001b[39mrun\u001b[39m(\u001b[39mself\u001b[39m, duration, report\u001b[39m=\u001b[39m\u001b[39mNone\u001b[39;00m, report_period\u001b[39m=\u001b[39m\u001b[39m10\u001b[39m\u001b[39m*\u001b[39msecond,\n\u001b[0;32m    <a href='file:///c%3A/Users/David/AppData/Local/Packages/PythonSoftwareFoundation.Python.3.8_qbz5n2kfra8p0/LocalCache/local-packages/Python38/site-packages/brian2/core/magic.py?line=227'>228</a>\u001b[0m         namespace\u001b[39m=\u001b[39m\u001b[39mNone\u001b[39;00m, profile\u001b[39m=\u001b[39m\u001b[39mNone\u001b[39;00m, level\u001b[39m=\u001b[39m\u001b[39m0\u001b[39m):\n\u001b[0;32m    <a href='file:///c%3A/Users/David/AppData/Local/Packages/PythonSoftwareFoundation.Python.3.8_qbz5n2kfra8p0/LocalCache/local-packages/Python38/site-packages/brian2/core/magic.py?line=228'>229</a>\u001b[0m     \u001b[39mself\u001b[39m\u001b[39m.\u001b[39m_update_magic_objects(level\u001b[39m=\u001b[39mlevel\u001b[39m+\u001b[39m\u001b[39m1\u001b[39m)\n\u001b[1;32m--> <a href='file:///c%3A/Users/David/AppData/Local/Packages/PythonSoftwareFoundation.Python.3.8_qbz5n2kfra8p0/LocalCache/local-packages/Python38/site-packages/brian2/core/magic.py?line=229'>230</a>\u001b[0m     Network\u001b[39m.\u001b[39;49mrun(\u001b[39mself\u001b[39;49m, duration, report\u001b[39m=\u001b[39;49mreport, report_period\u001b[39m=\u001b[39;49mreport_period,\n\u001b[0;32m    <a href='file:///c%3A/Users/David/AppData/Local/Packages/PythonSoftwareFoundation.Python.3.8_qbz5n2kfra8p0/LocalCache/local-packages/Python38/site-packages/brian2/core/magic.py?line=230'>231</a>\u001b[0m                 namespace\u001b[39m=\u001b[39;49mnamespace, profile\u001b[39m=\u001b[39;49mprofile, level\u001b[39m=\u001b[39;49mlevel\u001b[39m+\u001b[39;49m\u001b[39m1\u001b[39;49m)\n",
      "File \u001b[1;32m~\\AppData\\Local\\Packages\\PythonSoftwareFoundation.Python.3.8_qbz5n2kfra8p0\\LocalCache\\local-packages\\Python38\\site-packages\\brian2\\core\\base.py:293\u001b[0m, in \u001b[0;36mdevice_override.<locals>.device_override_decorator.<locals>.device_override_decorated_function\u001b[1;34m(*args, **kwds)\u001b[0m\n\u001b[0;32m    <a href='file:///c%3A/Users/David/AppData/Local/Packages/PythonSoftwareFoundation.Python.3.8_qbz5n2kfra8p0/LocalCache/local-packages/Python38/site-packages/brian2/core/base.py?line=290'>291</a>\u001b[0m     \u001b[39mreturn\u001b[39;00m \u001b[39mgetattr\u001b[39m(curdev, name)(\u001b[39m*\u001b[39margs, \u001b[39m*\u001b[39m\u001b[39m*\u001b[39mkwds)\n\u001b[0;32m    <a href='file:///c%3A/Users/David/AppData/Local/Packages/PythonSoftwareFoundation.Python.3.8_qbz5n2kfra8p0/LocalCache/local-packages/Python38/site-packages/brian2/core/base.py?line=291'>292</a>\u001b[0m \u001b[39melse\u001b[39;00m:\n\u001b[1;32m--> <a href='file:///c%3A/Users/David/AppData/Local/Packages/PythonSoftwareFoundation.Python.3.8_qbz5n2kfra8p0/LocalCache/local-packages/Python38/site-packages/brian2/core/base.py?line=292'>293</a>\u001b[0m     \u001b[39mreturn\u001b[39;00m func(\u001b[39m*\u001b[39;49margs, \u001b[39m*\u001b[39;49m\u001b[39m*\u001b[39;49mkwds)\n",
      "File \u001b[1;32m~\\AppData\\Local\\Packages\\PythonSoftwareFoundation.Python.3.8_qbz5n2kfra8p0\\LocalCache\\local-packages\\Python38\\site-packages\\brian2\\units\\fundamentalunits.py:2428\u001b[0m, in \u001b[0;36mcheck_units.<locals>.do_check_units.<locals>.new_f\u001b[1;34m(*args, **kwds)\u001b[0m\n\u001b[0;32m   <a href='file:///c%3A/Users/David/AppData/Local/Packages/PythonSoftwareFoundation.Python.3.8_qbz5n2kfra8p0/LocalCache/local-packages/Python38/site-packages/brian2/units/fundamentalunits.py?line=2420'>2421</a>\u001b[0m             error_message \u001b[39m=\u001b[39m (\u001b[39mf\u001b[39m\u001b[39m\"\u001b[39m\u001b[39mFunction \u001b[39m\u001b[39m'\u001b[39m\u001b[39m{\u001b[39;00mf\u001b[39m.\u001b[39m\u001b[39m__name__\u001b[39m\u001b[39m}\u001b[39;00m\u001b[39m'\u001b[39m\u001b[39m \u001b[39m\u001b[39m\"\u001b[39m\n\u001b[0;32m   <a href='file:///c%3A/Users/David/AppData/Local/Packages/PythonSoftwareFoundation.Python.3.8_qbz5n2kfra8p0/LocalCache/local-packages/Python38/site-packages/brian2/units/fundamentalunits.py?line=2421'>2422</a>\u001b[0m                              \u001b[39mf\u001b[39m\u001b[39m\"\u001b[39m\u001b[39mexpected a quantitity with unit \u001b[39m\u001b[39m\"\u001b[39m\n\u001b[0;32m   <a href='file:///c%3A/Users/David/AppData/Local/Packages/PythonSoftwareFoundation.Python.3.8_qbz5n2kfra8p0/LocalCache/local-packages/Python38/site-packages/brian2/units/fundamentalunits.py?line=2422'>2423</a>\u001b[0m                              \u001b[39mf\u001b[39m\u001b[39m\"\u001b[39m\u001b[39m{\u001b[39;00munit\u001b[39m}\u001b[39;00m\u001b[39m for argument \u001b[39m\u001b[39m'\u001b[39m\u001b[39m{\u001b[39;00mk\u001b[39m}\u001b[39;00m\u001b[39m'\u001b[39m\u001b[39m but got \u001b[39m\u001b[39m\"\u001b[39m\n\u001b[0;32m   <a href='file:///c%3A/Users/David/AppData/Local/Packages/PythonSoftwareFoundation.Python.3.8_qbz5n2kfra8p0/LocalCache/local-packages/Python38/site-packages/brian2/units/fundamentalunits.py?line=2423'>2424</a>\u001b[0m                              \u001b[39mf\u001b[39m\u001b[39m\"\u001b[39m\u001b[39m'\u001b[39m\u001b[39m{\u001b[39;00mvalue\u001b[39m}\u001b[39;00m\u001b[39m'\u001b[39m\u001b[39m\"\u001b[39m)\n\u001b[0;32m   <a href='file:///c%3A/Users/David/AppData/Local/Packages/PythonSoftwareFoundation.Python.3.8_qbz5n2kfra8p0/LocalCache/local-packages/Python38/site-packages/brian2/units/fundamentalunits.py?line=2424'>2425</a>\u001b[0m             \u001b[39mraise\u001b[39;00m DimensionMismatchError(error_message,\n\u001b[0;32m   <a href='file:///c%3A/Users/David/AppData/Local/Packages/PythonSoftwareFoundation.Python.3.8_qbz5n2kfra8p0/LocalCache/local-packages/Python38/site-packages/brian2/units/fundamentalunits.py?line=2425'>2426</a>\u001b[0m                                          get_dimensions(newkeyset[k]))\n\u001b[1;32m-> <a href='file:///c%3A/Users/David/AppData/Local/Packages/PythonSoftwareFoundation.Python.3.8_qbz5n2kfra8p0/LocalCache/local-packages/Python38/site-packages/brian2/units/fundamentalunits.py?line=2427'>2428</a>\u001b[0m result \u001b[39m=\u001b[39m f(\u001b[39m*\u001b[39;49margs, \u001b[39m*\u001b[39;49m\u001b[39m*\u001b[39;49mkwds)\n\u001b[0;32m   <a href='file:///c%3A/Users/David/AppData/Local/Packages/PythonSoftwareFoundation.Python.3.8_qbz5n2kfra8p0/LocalCache/local-packages/Python38/site-packages/brian2/units/fundamentalunits.py?line=2428'>2429</a>\u001b[0m \u001b[39mif\u001b[39;00m \u001b[39m'\u001b[39m\u001b[39mresult\u001b[39m\u001b[39m'\u001b[39m \u001b[39min\u001b[39;00m au:\n\u001b[0;32m   <a href='file:///c%3A/Users/David/AppData/Local/Packages/PythonSoftwareFoundation.Python.3.8_qbz5n2kfra8p0/LocalCache/local-packages/Python38/site-packages/brian2/units/fundamentalunits.py?line=2429'>2430</a>\u001b[0m     \u001b[39mif\u001b[39;00m \u001b[39misinstance\u001b[39m(au[\u001b[39m'\u001b[39m\u001b[39mresult\u001b[39m\u001b[39m'\u001b[39m], Callable) \u001b[39mand\u001b[39;00m au[\u001b[39m'\u001b[39m\u001b[39mresult\u001b[39m\u001b[39m'\u001b[39m] \u001b[39m!=\u001b[39m \u001b[39mbool\u001b[39m:\n",
      "File \u001b[1;32m~\\AppData\\Local\\Packages\\PythonSoftwareFoundation.Python.3.8_qbz5n2kfra8p0\\LocalCache\\local-packages\\Python38\\site-packages\\brian2\\core\\network.py:1006\u001b[0m, in \u001b[0;36mNetwork.run\u001b[1;34m(self, duration, report, report_period, namespace, profile, level)\u001b[0m\n\u001b[0;32m   <a href='file:///c%3A/Users/David/AppData/Local/Packages/PythonSoftwareFoundation.Python.3.8_qbz5n2kfra8p0/LocalCache/local-packages/Python38/site-packages/brian2/core/network.py?line=1002'>1003</a>\u001b[0m \u001b[39mif\u001b[39;00m namespace \u001b[39mis\u001b[39;00m \u001b[39mNone\u001b[39;00m:\n\u001b[0;32m   <a href='file:///c%3A/Users/David/AppData/Local/Packages/PythonSoftwareFoundation.Python.3.8_qbz5n2kfra8p0/LocalCache/local-packages/Python38/site-packages/brian2/core/network.py?line=1003'>1004</a>\u001b[0m     namespace \u001b[39m=\u001b[39m get_local_namespace(level\u001b[39m=\u001b[39mlevel\u001b[39m+\u001b[39m\u001b[39m3\u001b[39m)\n\u001b[1;32m-> <a href='file:///c%3A/Users/David/AppData/Local/Packages/PythonSoftwareFoundation.Python.3.8_qbz5n2kfra8p0/LocalCache/local-packages/Python38/site-packages/brian2/core/network.py?line=1005'>1006</a>\u001b[0m \u001b[39mself\u001b[39;49m\u001b[39m.\u001b[39;49mbefore_run(namespace)\n\u001b[0;32m   <a href='file:///c%3A/Users/David/AppData/Local/Packages/PythonSoftwareFoundation.Python.3.8_qbz5n2kfra8p0/LocalCache/local-packages/Python38/site-packages/brian2/core/network.py?line=1007'>1008</a>\u001b[0m \u001b[39mif\u001b[39;00m \u001b[39mlen\u001b[39m(all_objects) \u001b[39m==\u001b[39m \u001b[39m0\u001b[39m:\n\u001b[0;32m   <a href='file:///c%3A/Users/David/AppData/Local/Packages/PythonSoftwareFoundation.Python.3.8_qbz5n2kfra8p0/LocalCache/local-packages/Python38/site-packages/brian2/core/network.py?line=1008'>1009</a>\u001b[0m     \u001b[39mreturn\u001b[39;00m  \u001b[39m# TODO: raise an error? warning?\u001b[39;00m\n",
      "File \u001b[1;32m~\\AppData\\Local\\Packages\\PythonSoftwareFoundation.Python.3.8_qbz5n2kfra8p0\\LocalCache\\local-packages\\Python38\\site-packages\\brian2\\core\\base.py:293\u001b[0m, in \u001b[0;36mdevice_override.<locals>.device_override_decorator.<locals>.device_override_decorated_function\u001b[1;34m(*args, **kwds)\u001b[0m\n\u001b[0;32m    <a href='file:///c%3A/Users/David/AppData/Local/Packages/PythonSoftwareFoundation.Python.3.8_qbz5n2kfra8p0/LocalCache/local-packages/Python38/site-packages/brian2/core/base.py?line=290'>291</a>\u001b[0m     \u001b[39mreturn\u001b[39;00m \u001b[39mgetattr\u001b[39m(curdev, name)(\u001b[39m*\u001b[39margs, \u001b[39m*\u001b[39m\u001b[39m*\u001b[39mkwds)\n\u001b[0;32m    <a href='file:///c%3A/Users/David/AppData/Local/Packages/PythonSoftwareFoundation.Python.3.8_qbz5n2kfra8p0/LocalCache/local-packages/Python38/site-packages/brian2/core/base.py?line=291'>292</a>\u001b[0m \u001b[39melse\u001b[39;00m:\n\u001b[1;32m--> <a href='file:///c%3A/Users/David/AppData/Local/Packages/PythonSoftwareFoundation.Python.3.8_qbz5n2kfra8p0/LocalCache/local-packages/Python38/site-packages/brian2/core/base.py?line=292'>293</a>\u001b[0m     \u001b[39mreturn\u001b[39;00m func(\u001b[39m*\u001b[39;49margs, \u001b[39m*\u001b[39;49m\u001b[39m*\u001b[39;49mkwds)\n",
      "File \u001b[1;32m~\\AppData\\Local\\Packages\\PythonSoftwareFoundation.Python.3.8_qbz5n2kfra8p0\\LocalCache\\local-packages\\Python38\\site-packages\\brian2\\core\\network.py:894\u001b[0m, in \u001b[0;36mNetwork.before_run\u001b[1;34m(self, run_namespace)\u001b[0m\n\u001b[0;32m    <a href='file:///c%3A/Users/David/AppData/Local/Packages/PythonSoftwareFoundation.Python.3.8_qbz5n2kfra8p0/LocalCache/local-packages/Python38/site-packages/brian2/core/network.py?line=891'>892</a>\u001b[0m             obj\u001b[39m.\u001b[39mbefore_run(run_namespace)\n\u001b[0;32m    <a href='file:///c%3A/Users/David/AppData/Local/Packages/PythonSoftwareFoundation.Python.3.8_qbz5n2kfra8p0/LocalCache/local-packages/Python38/site-packages/brian2/core/network.py?line=892'>893</a>\u001b[0m         \u001b[39mexcept\u001b[39;00m \u001b[39mException\u001b[39;00m \u001b[39mas\u001b[39;00m ex:\n\u001b[1;32m--> <a href='file:///c%3A/Users/David/AppData/Local/Packages/PythonSoftwareFoundation.Python.3.8_qbz5n2kfra8p0/LocalCache/local-packages/Python38/site-packages/brian2/core/network.py?line=893'>894</a>\u001b[0m             \u001b[39mraise\u001b[39;00m BrianObjectException(\u001b[39m\"\u001b[39m\u001b[39mAn error occurred when preparing an object.\u001b[39m\u001b[39m\"\u001b[39m, obj) \u001b[39mfrom\u001b[39;00m \u001b[39mex\u001b[39;00m\n\u001b[0;32m    <a href='file:///c%3A/Users/David/AppData/Local/Packages/PythonSoftwareFoundation.Python.3.8_qbz5n2kfra8p0/LocalCache/local-packages/Python38/site-packages/brian2/core/network.py?line=895'>896</a>\u001b[0m \u001b[39m# Check that no object has been run as part of another network before\u001b[39;00m\n\u001b[0;32m    <a href='file:///c%3A/Users/David/AppData/Local/Packages/PythonSoftwareFoundation.Python.3.8_qbz5n2kfra8p0/LocalCache/local-packages/Python38/site-packages/brian2/core/network.py?line=896'>897</a>\u001b[0m \u001b[39mfor\u001b[39;00m obj \u001b[39min\u001b[39;00m all_objects:\n",
      "\u001b[1;31mBrianObjectException\u001b[0m: Error encountered with object named 'neurongroup_1'.\nObject was created here (most recent call only, full details in debug log):\n  File 'C:\\Users\\David\\AppData\\Local\\Temp\\ipykernel_26912\\2653720013.py', line 4, in <cell line: 4>\n    G = NeuronGroup(1, eqs)\n\nAn error occurred when preparing an object. (See above for original error message and traceback.)"
     ]
    }
   ],
   "source": [
    "eqs = '''\n",
    "dv/dt = 1-v : 1\n",
    "'''\n",
    "G = NeuronGroup(1, eqs)\n",
    "run(100*ms)"
   ]
  },
  {
   "cell_type": "markdown",
   "metadata": {},
   "source": [
    "An error is raised, but why? The reason is that the differential equation is now dimensionally inconsistent. The left hand side ``dv/dt`` has units of ``1/second`` but the right hand side ``1-v`` is dimensionless. People often find this behaviour of Brian confusing because this sort of equation is very common in mathematics. However, for quantities with physical dimensions it is incorrect because the results would change depending on the unit you measured it in. For time, if you measured it in seconds the same equation would behave differently to how it would if you measured time in milliseconds. To avoid this, we insist that you always specify dimensionally consistent equations.\n",
    "\n",
    "Now let's go back to the good equations and actually run the simulation."
   ]
  },
  {
   "cell_type": "code",
   "execution_count": 12,
   "metadata": {},
   "outputs": [
    {
     "name": "stderr",
     "output_type": "stream",
     "text": [
      "INFO       No numerical integration method specified for group 'neurongroup_2', using method 'exact' (took 0.03s). [brian2.stateupdaters.base.method_choice]\n",
      "WARNING    Cannot use Cython, a test compilation failed: Microsoft Visual C++ 14.0 or greater is required. Get it with \"Microsoft C++ Build Tools\": https://visualstudio.microsoft.com/visual-cpp-build-tools/ (DistutilsPlatformError) [brian2.codegen.runtime.cython_rt.cython_rt.failed_compile_test]\n",
      "INFO       Cannot use compiled code, falling back to the numpy code generation target. Note that this will likely be slower than using compiled code. Set the code generation to numpy manually to avoid this message:\n",
      "prefs.codegen.target = \"numpy\" [brian2.devices.device.codegen_fallback]\n"
     ]
    }
   ],
   "source": [
    "start_scope()\n",
    "\n",
    "tau = 10*ms\n",
    "eqs = '''\n",
    "dv/dt = (1-v)/tau : 1\n",
    "'''\n",
    "\n",
    "G = NeuronGroup(1, eqs)\n",
    "run(100*ms)"
   ]
  },
  {
   "cell_type": "markdown",
   "metadata": {
    "level": 7
   },
   "source": [
    "First off, ignore that ``start_scope()`` at the top of the cell. You'll see that in each cell in this tutorial where we run a simulation. All it does is make sure that any Brian objects created before the function is called aren't included in the next run of the simulation.\n",
    "\n",
    "Secondly, you'll see that there is an \"INFO\" message about not specifying the numerical integration method. This is harmless and just to let you know what method we chose, but we'll fix it in the next cell by specifying the method explicitly.\n",
    "\n",
    "So, what has happened here? Well, the command ``run(100*ms)`` runs the simulation for 100 ms. We can see that this has worked by printing the value of the variable ``v`` before and after the simulation."
   ]
  },
  {
   "cell_type": "code",
   "execution_count": 13,
   "metadata": {},
   "outputs": [
    {
     "name": "stdout",
     "output_type": "stream",
     "text": [
      "Before v = 0.0\n",
      "After v = 0.9999546000702376\n"
     ]
    }
   ],
   "source": [
    "start_scope()\n",
    "\n",
    "G = NeuronGroup(1, eqs, method='exact')\n",
    "print('Before v = %s' % G.v[0])\n",
    "run(100*ms)\n",
    "print('After v = %s' % G.v[0])"
   ]
  },
  {
   "cell_type": "markdown",
   "metadata": {},
   "source": [
    "By default, all variables start with the value 0. Since the differential equation is ``dv/dt=(1-v)/tau`` we would expect after a while that ``v`` would tend towards the value 1, which is just what we see. Specifically, we'd expect ``v`` to have the value ``1-exp(-t/tau)``. Let's see if that's right."
   ]
  },
  {
   "cell_type": "code",
   "execution_count": 14,
   "metadata": {},
   "outputs": [
    {
     "name": "stdout",
     "output_type": "stream",
     "text": [
      "Expected value of v = 0.9999546000702375\n"
     ]
    }
   ],
   "source": [
    "print('Expected value of v = %s' % (1-exp(-100*ms/tau)))"
   ]
  },
  {
   "cell_type": "markdown",
   "metadata": {},
   "source": [
    "Good news, the simulation gives the value we'd expect!\n",
    "\n",
    "Now let's take a look at a graph of how the variable ``v`` evolves over time."
   ]
  },
  {
   "cell_type": "code",
   "execution_count": 15,
   "metadata": {},
   "outputs": [
    {
     "data": {
      "image/png": "[encoded data removed]",
      "text/plain": [
       "<Figure size 432x288 with 1 Axes>"
      ]
     },
     "metadata": {
      "needs_background": "light"
     },
     "output_type": "display_data"
    }
   ],
   "source": [
    "start_scope()\n",
    "\n",
    "G = NeuronGroup(1, eqs, method='exact')\n",
    "M = StateMonitor(G, 'v', record=True)\n",
    "\n",
    "run(30*ms)\n",
    "\n",
    "plot(M.t/ms, M.v[0])\n",
    "xlabel('Time (ms)')\n",
    "ylabel('v');"
   ]
  },
  {
   "cell_type": "markdown",
   "metadata": {
    "collapsed": true
   },
   "source": [
    "This time we only ran the simulation for 30 ms so that we can see the behaviour better. It looks like it's behaving as expected, but let's just check that analytically by plotting the expected behaviour on top."
   ]
  },
  {
   "cell_type": "code",
   "execution_count": 16,
   "metadata": {},
   "outputs": [
    {
     "data": {
      "image/png": "[encoded data removed]",
      "text/plain": [
       "<Figure size 432x288 with 1 Axes>"
      ]
     },
     "metadata": {
      "needs_background": "light"
     },
     "output_type": "display_data"
    }
   ],
   "source": [
    "start_scope()\n",
    "\n",
    "G = NeuronGroup(1, eqs, method='exact')\n",
    "M = StateMonitor(G, 'v', record=0)\n",
    "\n",
    "run(30*ms)\n",
    "\n",
    "plot(M.t/ms, M.v[0], 'C0', label='Brian')\n",
    "plot(M.t/ms, 1-exp(-M.t/tau), 'C1--',label='Analytic')\n",
    "xlabel('Time (ms)')\n",
    "ylabel('v')\n",
    "legend();"
   ]
  },
  {
   "cell_type": "markdown",
   "metadata": {},
   "source": [
    "As you can see, the blue (Brian) and dashed orange (analytic solution) lines coincide.\n",
    "\n",
    "In this example, we used the object ``StateMonitor`` object. This is used to record the values of a neuron variable while the simulation runs. The first two arguments are the group to record from, and the variable you want to record from. We also specify ``record=0``. This means that we record all values for neuron 0. We have to specify which neurons we want to record because in large simulations with many neurons it usually uses up too much RAM to record the values of all neurons.\n",
    "\n",
    "Now try modifying the equations and parameters and see what happens in the cell below."
   ]
  },
  {
   "cell_type": "code",
   "execution_count": 25,
   "metadata": {},
   "outputs": [
    {
     "data": {
      "image/png": "[encoded data removed]",
      "text/plain": [
       "<Figure size 432x288 with 1 Axes>"
      ]
     },
     "metadata": {
      "needs_background": "light"
     },
     "output_type": "display_data"
    }
   ],
   "source": [
    "start_scope()\n",
    "\n",
    "tau = 10*ms\n",
    "eqs = '''\n",
    "dv/dt = (sin(2*pi*100*Hz*t)-v)/tau : 1\n",
    "'''\n",
    "\n",
    "# Change to Euler method because exact integrator doesn't work here\n",
    "G = NeuronGroup(1, eqs, method='euler')\n",
    "M = StateMonitor(G, 'v', record=0)\n",
    "\n",
    "G.v = 5 # initial value\n",
    "\n",
    "run(60*ms)\n",
    "\n",
    "plot(M.t/ms, M.v[0])\n",
    "xlabel('Time (ms)')\n",
    "ylabel('v');"
   ]
  },
  {
   "cell_type": "markdown",
   "metadata": {
    "heading_collapsed": false,
    "level": 2
   },
   "source": [
    "## Adding spikes\n",
    "\n",
    "So far we haven't done anything neuronal, just played around with differential equations. Now let's start adding spiking behaviour."
   ]
  },
  {
   "cell_type": "code",
   "execution_count": 26,
   "metadata": {},
   "outputs": [
    {
     "data": {
      "image/png": "[encoded data removed]",
      "text/plain": [
       "<Figure size 432x288 with 1 Axes>"
      ]
     },
     "metadata": {
      "needs_background": "light"
     },
     "output_type": "display_data"
    }
   ],
   "source": [
    "start_scope()\n",
    "\n",
    "tau = 10*ms\n",
    "eqs = '''\n",
    "dv/dt = (1-v)/tau : 1\n",
    "'''\n",
    "\n",
    "G = NeuronGroup(1, eqs, threshold='v>0.8', reset='v = 0', method='exact')\n",
    "\n",
    "M = StateMonitor(G, 'v', record=0)\n",
    "run(50*ms)\n",
    "plot(M.t/ms, M.v[0])\n",
    "xlabel('Time (ms)')\n",
    "ylabel('v');"
   ]
  },
  {
   "cell_type": "markdown",
   "metadata": {},
   "source": [
    "We've added two new keywords to the ``NeuronGroup`` declaration: ``threshold='v>0.8'`` and ``reset='v = 0'``. What this means is that when ``v>0.8`` we fire a spike, and immediately reset ``v = 0`` after the spike. We can put any expression and series of statements as these strings.\n",
    "\n",
    "As you can see, at the beginning the behaviour is the same as before until ``v`` crosses the threshold ``v>0.8`` at which point you see it reset to 0. You can't see it in this figure, but internally Brian has registered this event as a spike. Let's have a look at that."
   ]
  },
  {
   "cell_type": "code",
   "execution_count": 19,
   "metadata": {},
   "outputs": [
    {
     "name": "stdout",
     "output_type": "stream",
     "text": [
      "Spike times: [16.  32.1 48.2] ms\n"
     ]
    }
   ],
   "source": [
    "start_scope()\n",
    "\n",
    "G = NeuronGroup(1, eqs, threshold='v>0.8', reset='v = 0', method='exact')\n",
    "\n",
    "spikemon = SpikeMonitor(G)\n",
    "\n",
    "run(50*ms)\n",
    "\n",
    "print('Spike times: %s' % spikemon.t[:])"
   ]
  },
  {
   "cell_type": "markdown",
   "metadata": {},
   "source": [
    "The ``SpikeMonitor`` object takes the group whose spikes you want to record as its argument and stores the spike times in the variable ``t``. Let's plot those spikes on top of the other figure to see that it's getting it right."
   ]
  },
  {
   "cell_type": "code",
   "execution_count": 35,
   "metadata": {},
   "outputs": [
    {
     "data": {
      "image/png": "[encoded data removed]",
      "text/plain": [
       "<Figure size 432x288 with 1 Axes>"
      ]
     },
     "metadata": {
      "needs_background": "light"
     },
     "output_type": "display_data"
    }
   ],
   "source": [
    "start_scope()\n",
    "\n",
    "G = NeuronGroup(1, eqs, threshold='v>0.8', reset='v = 0', method='exact')\n",
    "\n",
    "statemon = StateMonitor(G, 'v', record=0)\n",
    "spikemon = SpikeMonitor(G)\n",
    "\n",
    "run(50*ms)\n",
    "\n",
    "plot(statemon.t/ms, statemon.v[0])\n",
    "for t in spikemon.t:\n",
    "    axvline(t/ms, ls='--', c='C1', lw=3)\n",
    "xlabel('Time (ms)')\n",
    "ylabel('v');"
   ]
  },
  {
   "cell_type": "markdown",
   "metadata": {},
   "source": [
    "Here we've used the ``axvline`` command from ``matplotlib`` to draw an orange, dashed vertical line at the time of each spike recorded by the ``SpikeMonitor``.\n",
    "\n",
    "Now try changing the strings for ``threshold`` and ``reset`` in the cell above to see what happens."
   ]
  },
  {
   "cell_type": "markdown",
   "metadata": {
    "heading_collapsed": false,
    "level": 2
   },
   "source": [
    "## Refractoriness\n",
    "\n",
    "A common feature of neuron models is refractoriness. This means that after the neuron fires a spike it becomes refractory for a certain duration and cannot fire another spike until this period is over. Here's how we do that in Brian."
   ]
  },
  {
   "cell_type": "code",
   "execution_count": 36,
   "metadata": {},
   "outputs": [
    {
     "data": {
      "image/png": "[encoded data removed]",
      "text/plain": [
       "<Figure size 432x288 with 1 Axes>"
      ]
     },
     "metadata": {
      "needs_background": "light"
     },
     "output_type": "display_data"
    }
   ],
   "source": [
    "start_scope()\n",
    "\n",
    "tau = 10*ms\n",
    "eqs = '''\n",
    "dv/dt = (1-v)/tau : 1 (unless refractory)\n",
    "'''\n",
    "\n",
    "G = NeuronGroup(1, eqs, threshold='v>0.8', reset='v = 0', refractory=5*ms, method='exact')\n",
    "\n",
    "statemon = StateMonitor(G, 'v', record=0)\n",
    "spikemon = SpikeMonitor(G)\n",
    "\n",
    "run(50*ms)\n",
    "\n",
    "plot(statemon.t/ms, statemon.v[0])\n",
    "for t in spikemon.t:\n",
    "    axvline(t/ms, ls='--', c='C1', lw=3)\n",
    "xlabel('Time (ms)')\n",
    "ylabel('v');"
   ]
  },
  {
   "cell_type": "markdown",
   "metadata": {},
   "source": [
    "As you can see in this figure, after the first spike, ``v`` stays at 0 for around 5 ms before it resumes its normal behaviour. To do this, we've done two things. Firstly, we've added the keyword ``refractory=5*ms`` to the ``NeuronGroup`` declaration. On its own, this only means that the neuron cannot spike in this period (see below), but doesn't change how ``v`` behaves. In order to make ``v`` stay constant during the refractory period, we have to add ``(unless refractory)`` to the end of the definition of ``v`` in the differential equations. What this means is that the differential equation determines the behaviour of ``v`` unless it's refractory in which case it is switched off.\n",
    "\n",
    "Here's what would happen if we didn't include ``(unless refractory)``. Note that we've also decreased the value of ``tau`` and increased the length of the refractory period to make the behaviour clearer."
   ]
  },
  {
   "cell_type": "code",
   "execution_count": 37,
   "metadata": {},
   "outputs": [
    {
     "name": "stdout",
     "output_type": "stream",
     "text": [
      "Spike times: [ 8. 23. 38.] ms\n"
     ]
    },
    {
     "data": {
      "image/png": "[encoded data removed]",
      "text/plain": [
       "<Figure size 432x288 with 1 Axes>"
      ]
     },
     "metadata": {
      "needs_background": "light"
     },
     "output_type": "display_data"
    }
   ],
   "source": [
    "start_scope()\n",
    "\n",
    "tau = 5*ms\n",
    "eqs = '''\n",
    "dv/dt = (1-v)/tau : 1\n",
    "'''\n",
    "\n",
    "G = NeuronGroup(1, eqs, threshold='v>0.8', reset='v = 0', refractory=15*ms, method='exact')\n",
    "\n",
    "statemon = StateMonitor(G, 'v', record=0)\n",
    "spikemon = SpikeMonitor(G)\n",
    "\n",
    "run(50*ms)\n",
    "\n",
    "plot(statemon.t/ms, statemon.v[0])\n",
    "for t in spikemon.t:\n",
    "    axvline(t/ms, ls='--', c='C1', lw=3)\n",
    "axhline(0.8, ls=':', c='C2', lw=3)\n",
    "xlabel('Time (ms)')\n",
    "ylabel('v')\n",
    "print(\"Spike times: %s\" % spikemon.t[:])"
   ]
  },
  {
   "cell_type": "markdown",
   "metadata": {},
   "source": [
    "So what's going on here? The behaviour for the first spike is the same: ``v`` rises to 0.8 and then the neuron fires a spike at time 8 ms before immediately resetting to 0. Since the refractory period is now 15 ms this means that the neuron won't be able to spike again until time 8 + 15 = 23 ms. Immediately after the first spike, the value of ``v`` now instantly starts to rise because we didn't specify ``(unless refractory)`` in the definition of ``dv/dt``. However, once it reaches the value 0.8 (the dashed green line) at time roughly 8 ms it doesn't fire a spike even though the threshold is ``v>0.8``. This is because the neuron is still refractory until time 23 ms, at which point it fires a spike.\n",
    "\n",
    "Note that you can do more complicated and interesting things with refractoriness. See the full documentation for more details about how it works."
   ]
  },
  {
   "cell_type": "markdown",
   "metadata": {
    "heading_collapsed": false,
    "level": 2
   },
   "source": [
    "## Multiple neurons\n",
    "\n",
    "So far we've only been working with a single neuron. Let's do something interesting with multiple neurons."
   ]
  },
  {
   "cell_type": "code",
   "execution_count": 38,
   "metadata": {},
   "outputs": [
    {
     "data": {
      "image/png": "[encoded data removed]",
      "text/plain": [
       "<Figure size 432x288 with 1 Axes>"
      ]
     },
     "metadata": {
      "needs_background": "light"
     },
     "output_type": "display_data"
    }
   ],
   "source": [
    "start_scope()\n",
    "\n",
    "N = 100\n",
    "tau = 10*ms\n",
    "eqs = '''\n",
    "dv/dt = (2-v)/tau : 1\n",
    "'''\n",
    "\n",
    "G = NeuronGroup(N, eqs, threshold='v>1', reset='v=0', method='exact')\n",
    "G.v = 'rand()'\n",
    "\n",
    "spikemon = SpikeMonitor(G)\n",
    "\n",
    "run(50*ms)\n",
    "\n",
    "plot(spikemon.t/ms, spikemon.i, '.k')\n",
    "xlabel('Time (ms)')\n",
    "ylabel('Neuron index');"
   ]
  },
  {
   "cell_type": "markdown",
   "metadata": {},
   "source": [
    "This shows a few changes. Firstly, we've got a new variable ``N`` determining the number of neurons. Secondly, we added the statement ``G.v = 'rand()'`` before the run. What this does is initialise each neuron with a different uniform random value between 0 and 1. We've done this just so each neuron will do something a bit different. The other big change is how we plot the data in the end.\n",
    "\n",
    "As well as the variable ``spikemon.t`` with the times of all the spikes, we've also used the variable ``spikemon.i`` which gives the corresponding neuron index for each spike, and plotted a single black dot with time on the x-axis and neuron index on the y-value. This is the standard \"raster plot\" used in neuroscience."
   ]
  },
  {
   "cell_type": "markdown",
   "metadata": {
    "heading_collapsed": false,
    "level": 2
   },
   "source": [
    "## Parameters\n",
    "\n",
    "To make these multiple neurons do something more interesting, let's introduce per-neuron parameters that don't have a differential equation attached to them."
   ]
  },
  {
   "cell_type": "code",
   "execution_count": 39,
   "metadata": {
    "scrolled": true
   },
   "outputs": [
    {
     "data": {
      "image/png": "[encoded data removed]",
      "text/plain": [
       "<Figure size 864x288 with 2 Axes>"
      ]
     },
     "metadata": {
      "needs_background": "light"
     },
     "output_type": "display_data"
    }
   ],
   "source": [
    "start_scope()\n",
    "\n",
    "N = 100\n",
    "tau = 10*ms\n",
    "v0_max = 3.\n",
    "duration = 1000*ms\n",
    "\n",
    "eqs = '''\n",
    "dv/dt = (v0-v)/tau : 1 (unless refractory)\n",
    "v0 : 1\n",
    "'''\n",
    "\n",
    "G = NeuronGroup(N, eqs, threshold='v>1', reset='v=0', refractory=5*ms, method='exact')\n",
    "M = SpikeMonitor(G)\n",
    "\n",
    "G.v0 = 'i*v0_max/(N-1)'\n",
    "\n",
    "run(duration)\n",
    "\n",
    "figure(figsize=(12,4))\n",
    "subplot(121)\n",
    "plot(M.t/ms, M.i, '.k')\n",
    "xlabel('Time (ms)')\n",
    "ylabel('Neuron index')\n",
    "subplot(122)\n",
    "plot(G.v0, M.count/duration)\n",
    "xlabel('v0')\n",
    "ylabel('Firing rate (sp/s)');"
   ]
  },
  {
   "cell_type": "markdown",
   "metadata": {},
   "source": [
    "The line ``v0 : 1`` declares a new per-neuron parameter ``v0`` with units ``1`` (i.e. dimensionless).\n",
    "\n",
    "The line ``G.v0 = 'i*v0_max/(N-1)'`` initialises the value of v0 for each neuron varying from 0 up to ``v0_max``. The symbol ``i`` when it appears in strings like this refers to the neuron index.\n",
    "\n",
    "So in this example, we're driving the neuron towards the value ``v0`` exponentially, but when ``v`` crosses ``v>1``, it fires a spike and resets. The effect is that the rate at which it fires spikes will be related to the value of ``v0``. For ``v0<1`` it will never fire a spike, and as ``v0`` gets larger it will fire spikes at a higher rate. The right hand plot shows the firing rate as a function of the value of ``v0``. This is the I-f curve of this neuron model.\n",
    "\n",
    "Note that in the plot we've used the ``count`` variable of the ``SpikeMonitor``: this is an array of the number of spikes each neuron in the group fired. Dividing this by the duration of the run gives the firing rate."
   ]
  },
  {
   "cell_type": "code",
   "execution_count": 51,
   "metadata": {},
   "outputs": [
    {
     "data": {
      "text/plain": [
       "Text(0, 0.5, 'v0')"
      ]
     },
     "execution_count": 51,
     "metadata": {},
     "output_type": "execute_result"
    },
    {
     "data": {
      "image/png": "[encoded data removed]",
      "text/plain": [
       "<Figure size 432x288 with 1 Axes>"
      ]
     },
     "metadata": {
      "needs_background": "light"
     },
     "output_type": "display_data"
    }
   ],
   "source": [
    "plot(G.i, G.v0)\n",
    "xlabel('Neuron index')\n",
    "ylabel('v0')"
   ]
  },
  {
   "cell_type": "markdown",
   "metadata": {
    "heading_collapsed": false,
    "level": 2
   },
   "source": [
    "## Stochastic neurons\n",
    "\n",
    "Often when making models of neurons, we include a random element to model the effect of various forms of neural noise. In Brian, we can do this by using the symbol ``xi`` in differential equations. Strictly speaking, this symbol is a \"stochastic differential\" but you can sort of thinking of it as just a Gaussian random variable with mean 0 and standard deviation 1. We do have to take into account the way stochastic differentials scale with time, which is why we multiply it by ``tau**-0.5`` in the equations below (see a textbook on stochastic differential equations for more details).\n",
    "Note that we also changed the ``method`` keyword argument to use ``'euler'`` (which stands for the [Euler-Maruyama method](https://en.wikipedia.org/wiki/Euler%E2%80%93Maruyama_method)); the ``'exact'`` method that we used earlier is not applicable to stochastic differential equations."
   ]
  },
  {
   "cell_type": "code",
   "execution_count": 54,
   "metadata": {},
   "outputs": [
    {
     "data": {
      "image/png": "[encoded data removed]",
      "text/plain": [
       "<Figure size 864x288 with 2 Axes>"
      ]
     },
     "metadata": {
      "needs_background": "light"
     },
     "output_type": "display_data"
    }
   ],
   "source": [
    "start_scope()\n",
    "\n",
    "N = 100\n",
    "tau = 10*ms\n",
    "v0_max = 3.\n",
    "duration = 1000*ms\n",
    "sigma = 0.2\n",
    "\n",
    "eqs = '''\n",
    "dv/dt = (v0-v)/tau+sigma*xi*tau**-0.5 : 1 (unless refractory)\n",
    "v0 : 1\n",
    "'''\n",
    "\n",
    "G = NeuronGroup(N, eqs, threshold='v>1', reset='v=0', refractory=5*ms, method='euler')\n",
    "M = SpikeMonitor(G)\n",
    "\n",
    "G.v0 = 'i*v0_max/(N-1)'\n",
    "\n",
    "run(duration)\n",
    "\n",
    "figure(figsize=(12,4))\n",
    "subplot(121)\n",
    "plot(M.t/ms, M.i, '.k')\n",
    "xlabel('Time (ms)')\n",
    "ylabel('Neuron index')\n",
    "subplot(122)\n",
    "plot(G.v0, M.count/duration)\n",
    "xlabel('v0')\n",
    "ylabel('Firing rate (sp/s)');"
   ]
  },
  {
   "cell_type": "markdown",
   "metadata": {},
   "source": [
    "That's the same figure as in the previous section but with some noise added. Note how the curve has changed shape: instead of a sharp jump from firing at rate 0 to firing at a positive rate, it now increases in a sigmoidal fashion. This is because no matter how small the driving force the randomness may cause it to fire a spike."
   ]
  },
  {
   "cell_type": "markdown",
   "metadata": {
    "collapsed": true,
    "heading_collapsed": false,
    "level": 2
   },
   "source": [
    "## End of tutorial\n",
    "\n",
    "That's the end of this part of the tutorial. The cell below has another example. See if you can work out what it is doing and why. Try adding a ``StateMonitor`` to record the values of the variables for one of the neurons to help you understand it.\n",
    "\n",
    "You could also try out the things you've learned in this cell.\n",
    "\n",
    "Once you're done with that you can move on to the next tutorial on Synapses."
   ]
  },
  {
   "cell_type": "code",
   "execution_count": 105,
   "metadata": {
    "scrolled": false
   },
   "outputs": [
    {
     "data": {
      "image/png": "[encoded data removed]",
      "text/plain": [
       "<Figure size 432x288 with 1 Axes>"
      ]
     },
     "metadata": {
      "needs_background": "light"
     },
     "output_type": "display_data"
    }
   ],
   "source": [
    "start_scope()\n",
    "\n",
    "N = 1000\n",
    "tau = 10*ms\n",
    "vr = -70*mV\n",
    "vt0 = -50*mV\n",
    "delta_vt0 = 5*mV\n",
    "tau_t = 100*ms\n",
    "sigma = 0.5*(vt0-vr)\n",
    "v_drive = 2*(vt0-vr)\n",
    "duration = 100*ms\n",
    "\n",
    "eqs = '''\n",
    "dv/dt = (v_drive+vr-v)/tau + sigma*xi*tau**-0.5 : volt\n",
    "dvt/dt = (vt0-vt)/tau_t : volt\n",
    "'''\n",
    "\n",
    "reset = '''\n",
    "v = vr\n",
    "vt += delta_vt0\n",
    "'''\n",
    "\n",
    "G = NeuronGroup(N, eqs, threshold='v>vt', reset=reset, refractory=5*ms, method='euler')\n",
    "\n",
    "statemon = StateMonitor(G, 'v', record=[0,1])\n",
    "spikemon = SpikeMonitor(G)\n",
    "\n",
    "G.v = 'rand()*(vt0-vr)+vr'\n",
    "G.vt = vt0\n",
    "\n",
    "run(duration)\n",
    "\n",
    "#plot membrane potential (v) of neuron 1\n",
    "plot(statemon.t/ms,statemon.v[1]/mV)\n",
    "\n",
    "\n",
    "#add spike location to plot of neuron 1\n",
    "spike_trains = spikemon.spike_trains(); #allows the extraction of spike trains for individual neuron indeces\n",
    "for t in spike_trains[1]:\n",
    "    axvline(t/ms, ls='--', c='C1', lw=3)\n",
    "xlabel('Time (ms)')\n",
    "ylabel('v (Neuron 0)');\n",
    "\n",
    "#_ = hist(spikemon.t/ms, 100, histtype='stepfilled', facecolor='k', weights=list(ones(len(spikemon))/(N*defaultclock.dt)))\n",
    "#xlabel('Time (ms)')\n",
    "#ylabel('Instantaneous firing rate (sp/s)');"
   ]
  },
  {
   "cell_type": "markdown",
   "metadata": {},
   "source": [
    "The cell above simulates an ensemble of 100 neurons that simulate biology. \n",
    "\n",
    "Vt is the threshold potential, Vr the resting potential. Vt0 is the initial threshold potential which increases with time (i.e., it is harder to spike, perhaps simulating neuronal adaptation). \n",
    "\n",
    "The second equation in 'eqs' probably defines the behaviour in refractory period (the 'unless refractory' argument is missing). The 'reset' equations define the behaviour after the threshold is reached: v is set to resting and the threshold is adjusted.\n",
    "\n",
    "Noise is injected into the dynamics."
   ]
  },
  {
   "cell_type": "code",
   "execution_count": 104,
   "metadata": {},
   "outputs": [
    {
     "data": {
      "text/plain": [
       "(2, 1000)"
      ]
     },
     "execution_count": 104,
     "metadata": {},
     "output_type": "execute_result"
    }
   ],
   "source": [
    "weights=list(ones(len(spikemon))/(N*defaultclock.dt))\n",
    "shape(weights)\n",
    "shape(spikemon.t/ms)\n",
    "shape(statemon.v)"
   ]
  },
  {
   "cell_type": "code",
   "execution_count": 98,
   "metadata": {},
   "outputs": [
    {
     "data": {
      "text/latex": [
       "$\\left[\\begin{matrix}0.01\\\\0.0254\\\\0.0432\\\\0.0644\\\\0.0931\\\\0.1124\\\\0.1326\\\\0.1621\\\\0.1779\\\\0.1967\\\\0.2154\\\\0.2308\\\\0.2517\\\\0.2727\\\\0.2914\\\\0.3058\\\\0.3321\\\\0.357\\\\0.3773\\\\0.3958\\\\0.4113\\\\0.428\\\\0.4461\\\\0.4617\\\\0.4845\\\\0.5015\\\\0.5241\\\\0.5478\\\\0.5786\\\\0.5955\\\\0.6208\\\\0.6429\\\\0.6763\\\\0.7042\\\\0.7235\\\\0.7422\\\\0.7644\\\\0.7847\\\\0.8088\\\\0.8254\\\\0.8473\\\\0.8618\\\\0.8836\\\\0.9049\\\\0.9215\\\\0.9372\\\\0.9607\\\\0.9817\\end{matrix}\\right]\\,\\mathrm{s}$"
      ],
      "text/plain": [
       "array([0.01  , 0.0254, 0.0432, 0.0644, 0.0931, 0.1124, 0.1326, 0.1621,\n",
       "       0.1779, 0.1967, 0.2154, 0.2308, 0.2517, 0.2727, 0.2914, 0.3058,\n",
       "       0.3321, 0.357 , 0.3773, 0.3958, 0.4113, 0.428 , 0.4461, 0.4617,\n",
       "       0.4845, 0.5015, 0.5241, 0.5478, 0.5786, 0.5955, 0.6208, 0.6429,\n",
       "       0.6763, 0.7042, 0.7235, 0.7422, 0.7644, 0.7847, 0.8088, 0.8254,\n",
       "       0.8473, 0.8618, 0.8836, 0.9049, 0.9215, 0.9372, 0.9607, 0.9817]) * second"
      ]
     },
     "execution_count": 98,
     "metadata": {},
     "output_type": "execute_result"
    }
   ],
   "source": [
    "spike_trains = M.spike_trains(); spike_trains[41]"
   ]
  },
  {
   "cell_type": "code",
   "execution_count": 97,
   "metadata": {},
   "outputs": [
    {
     "data": {
      "text/plain": [
       "{0: array([], dtype=float64) * second,\n",
       " 1: array([], dtype=float64) * second,\n",
       " 2: array([], dtype=float64) * second,\n",
       " 3: array([], dtype=float64) * second,\n",
       " 4: array([], dtype=float64) * second,\n",
       " 5: array([], dtype=float64) * second,\n",
       " 6: array([], dtype=float64) * second,\n",
       " 7: array([], dtype=float64) * second,\n",
       " 8: array([], dtype=float64) * second,\n",
       " 9: array([], dtype=float64) * second,\n",
       " 10: array([], dtype=float64) * second,\n",
       " 11: array([], dtype=float64) * second,\n",
       " 12: array([], dtype=float64) * second,\n",
       " 13: array([], dtype=float64) * second,\n",
       " 14: array([], dtype=float64) * second,\n",
       " 15: array([], dtype=float64) * second,\n",
       " 16: array([], dtype=float64) * second,\n",
       " 17: array([], dtype=float64) * second,\n",
       " 18: array([], dtype=float64) * second,\n",
       " 19: array([0.4084]) * second,\n",
       " 20: array([210.6, 450.6]) * msecond,\n",
       " 21: array([0.3117, 0.7819, 0.9152]) * second,\n",
       " 22: array([0.2936, 0.4999, 0.8457, 0.8971]) * second,\n",
       " 23: array([0.0589, 0.7177, 0.7732, 0.9038]) * second,\n",
       " 24: array([ 87.2, 172.8, 491.2, 773. ]) * msecond,\n",
       " 25: array([0.2592, 0.4175, 0.4753, 0.5162, 0.5644, 0.7105]) * second,\n",
       " 26: array([0.1652, 0.1992, 0.3663, 0.3957, 0.5562, 0.5874, 0.6091, 0.8259,\n",
       "        0.9491, 0.9816]) * second,\n",
       " 27: array([0.0753, 0.104 , 0.2724, 0.3985, 0.4341, 0.4822, 0.5518, 0.6513,\n",
       "        0.6812, 0.7948, 0.8654, 0.9231, 0.9883]) * second,\n",
       " 28: array([0.1015, 0.1307, 0.1755, 0.2778, 0.3274, 0.3603, 0.4351, 0.4844,\n",
       "        0.5504, 0.6832, 0.805 , 0.8338, 0.8642, 0.8969, 0.9289, 0.9687,\n",
       "        0.9928]) * second,\n",
       " 29: array([0.0552, 0.116 , 0.1805, 0.2525, 0.2804, 0.3082, 0.343 , 0.3662,\n",
       "        0.4535, 0.5207, 0.5629, 0.5844, 0.6098, 0.6495, 0.7187, 0.7479,\n",
       "        0.7885, 0.8434, 0.9012]) * second,\n",
       " 30: array([0.0457, 0.0918, 0.1371, 0.1759, 0.206 , 0.2255, 0.2569, 0.2799,\n",
       "        0.3222, 0.3479, 0.3967, 0.4243, 0.4524, 0.4826, 0.5012, 0.5367,\n",
       "        0.5604, 0.5865, 0.6479, 0.7297, 0.7702, 0.8069, 0.8722, 0.9222]) * second,\n",
       " 31: array([0.0249, 0.0669, 0.1137, 0.1415, 0.1797, 0.2067, 0.2626, 0.2945,\n",
       "        0.3219, 0.3523, 0.3816, 0.4296, 0.4787, 0.5768, 0.6049, 0.6424,\n",
       "        0.687 , 0.7328, 0.7525, 0.7949, 0.854 , 0.8724, 0.9013, 0.9328,\n",
       "        0.9587, 0.9801]) * second,\n",
       " 32: array([0.0113, 0.056 , 0.0852, 0.1212, 0.17  , 0.1857, 0.2109, 0.2345,\n",
       "        0.2622, 0.2876, 0.3366, 0.3636, 0.3879, 0.4286, 0.4536, 0.4841,\n",
       "        0.5076, 0.5628, 0.5896, 0.6284, 0.6612, 0.6812, 0.7007, 0.7302,\n",
       "        0.7626, 0.7979, 0.8319, 0.8559, 0.8882, 0.9474, 0.9669]) * second,\n",
       " 33: array([0.0348, 0.059 , 0.1025, 0.1358, 0.1944, 0.2356, 0.2635, 0.2967,\n",
       "        0.3505, 0.3737, 0.4712, 0.4953, 0.5227, 0.5505, 0.5715, 0.6111,\n",
       "        0.6396, 0.6756, 0.7003, 0.7249, 0.7453, 0.7694, 0.7905, 0.8153,\n",
       "        0.867 , 0.8964, 0.93  , 0.9474, 0.9691]) * second,\n",
       " 34: array([0.0219, 0.0554, 0.0914, 0.1101, 0.1323, 0.1689, 0.1862, 0.2212,\n",
       "        0.2524, 0.2884, 0.3202, 0.3388, 0.3748, 0.3988, 0.4306, 0.4741,\n",
       "        0.4949, 0.5257, 0.5677, 0.6013, 0.6276, 0.6527, 0.6942, 0.7135,\n",
       "        0.7365, 0.7687, 0.7915, 0.8195, 0.8392, 0.8975, 0.9401, 0.9577,\n",
       "        0.9821]) * second,\n",
       " 35: array([0.0155, 0.0592, 0.0851, 0.1028, 0.1221, 0.1498, 0.19  , 0.2229,\n",
       "        0.2495, 0.2816, 0.3086, 0.3348, 0.3561, 0.39  , 0.4143, 0.4354,\n",
       "        0.4859, 0.5057, 0.5385, 0.5622, 0.5828, 0.6167, 0.6521, 0.6826,\n",
       "        0.7206, 0.7512, 0.7697, 0.7889, 0.8158, 0.8426, 0.8786, 0.8982,\n",
       "        0.9151, 0.9639, 0.9893]) * second,\n",
       " 36: array([0.0292, 0.0633, 0.0922, 0.1132, 0.1401, 0.1687, 0.1992, 0.216 ,\n",
       "        0.2395, 0.2861, 0.3192, 0.347 , 0.3707, 0.3949, 0.4141, 0.4432,\n",
       "        0.4782, 0.5065, 0.5299, 0.5561, 0.5735, 0.599 , 0.6217, 0.6407,\n",
       "        0.6656, 0.6932, 0.7173, 0.7401, 0.7598, 0.794 , 0.8132, 0.8454,\n",
       "        0.8663, 0.8958, 0.9153, 0.9323, 0.9771]) * second,\n",
       " 37: array([0.0226, 0.0481, 0.0695, 0.0882, 0.1118, 0.1312, 0.1554, 0.1826,\n",
       "        0.221 , 0.2405, 0.2583, 0.2912, 0.3115, 0.3375, 0.366 , 0.3909,\n",
       "        0.4075, 0.4258, 0.4462, 0.4823, 0.4997, 0.5194, 0.5422, 0.5642,\n",
       "        0.5936, 0.6148, 0.6333, 0.6526, 0.6779, 0.7035, 0.7222, 0.7545,\n",
       "        0.7761, 0.8022, 0.8259, 0.8528, 0.8685, 0.9203, 0.9506, 0.9713,\n",
       "        0.9936]) * second,\n",
       " 38: array([0.0153, 0.0404, 0.0572, 0.0743, 0.0934, 0.1217, 0.169 , 0.1917,\n",
       "        0.2106, 0.2297, 0.259 , 0.2807, 0.2971, 0.3171, 0.3362, 0.3647,\n",
       "        0.3964, 0.4178, 0.4379, 0.455 , 0.4859, 0.5113, 0.5277, 0.5479,\n",
       "        0.5647, 0.5888, 0.6058, 0.6215, 0.6484, 0.6638, 0.6917, 0.7169,\n",
       "        0.7389, 0.7528, 0.7744, 0.8138, 0.8341, 0.8659, 0.8857, 0.9128,\n",
       "        0.9339, 0.9606, 0.9994]) * second,\n",
       " 39: array([0.0168, 0.0392, 0.0592, 0.0852, 0.1052, 0.1201, 0.1466, 0.1686,\n",
       "        0.1921, 0.2136, 0.2314, 0.2506, 0.268 , 0.3023, 0.3187, 0.339 ,\n",
       "        0.3579, 0.3787, 0.4055, 0.4216, 0.4433, 0.4628, 0.487 , 0.5038,\n",
       "        0.5295, 0.5569, 0.5781, 0.6067, 0.6281, 0.6489, 0.6645, 0.6878,\n",
       "        0.7073, 0.7342, 0.7562, 0.7848, 0.8033, 0.8173, 0.836 , 0.8696,\n",
       "        0.891 , 0.9156, 0.932 , 0.9535, 0.9704, 0.9872]) * second,\n",
       " 40: array([0.0202, 0.0332, 0.0597, 0.0775, 0.0918, 0.1127, 0.1455, 0.1645,\n",
       "        0.183 , 0.2042, 0.2467, 0.2613, 0.2781, 0.3006, 0.3205, 0.36  ,\n",
       "        0.382 , 0.4038, 0.431 , 0.4529, 0.4737, 0.4936, 0.5079, 0.5342,\n",
       "        0.5608, 0.5843, 0.5991, 0.6204, 0.6431, 0.6618, 0.6797, 0.6976,\n",
       "        0.7155, 0.7351, 0.7622, 0.7796, 0.8086, 0.8314, 0.8522, 0.8693,\n",
       "        0.8832, 0.899 , 0.9184, 0.9371, 0.9618, 0.9774, 0.9985]) * second,\n",
       " 41: array([0.01  , 0.0254, 0.0432, 0.0644, 0.0931, 0.1124, 0.1326, 0.1621,\n",
       "        0.1779, 0.1967, 0.2154, 0.2308, 0.2517, 0.2727, 0.2914, 0.3058,\n",
       "        0.3321, 0.357 , 0.3773, 0.3958, 0.4113, 0.428 , 0.4461, 0.4617,\n",
       "        0.4845, 0.5015, 0.5241, 0.5478, 0.5786, 0.5955, 0.6208, 0.6429,\n",
       "        0.6763, 0.7042, 0.7235, 0.7422, 0.7644, 0.7847, 0.8088, 0.8254,\n",
       "        0.8473, 0.8618, 0.8836, 0.9049, 0.9215, 0.9372, 0.9607, 0.9817]) * second,\n",
       " 42: array([0.0098, 0.0256, 0.0492, 0.0706, 0.0916, 0.1094, 0.1294, 0.1456,\n",
       "        0.1755, 0.1942, 0.2159, 0.2358, 0.2546, 0.2736, 0.2927, 0.3096,\n",
       "        0.338 , 0.3557, 0.3732, 0.3882, 0.4092, 0.4316, 0.4522, 0.4682,\n",
       "        0.4873, 0.5031, 0.5288, 0.5444, 0.5685, 0.5881, 0.6071, 0.6249,\n",
       "        0.6434, 0.6572, 0.6752, 0.6947, 0.7149, 0.7373, 0.767 , 0.7864,\n",
       "        0.8113, 0.8267, 0.844 , 0.8619, 0.8814, 0.9069, 0.9247, 0.9425,\n",
       "        0.9586, 0.9755, 0.9931]) * second,\n",
       " 43: array([0.012 , 0.0286, 0.0466, 0.0697, 0.0884, 0.1071, 0.1298, 0.15  ,\n",
       "        0.1696, 0.1848, 0.2012, 0.2195, 0.2368, 0.2503, 0.2684, 0.2923,\n",
       "        0.3128, 0.3325, 0.3528, 0.3686, 0.3903, 0.4116, 0.4271, 0.4435,\n",
       "        0.4691, 0.4839, 0.498 , 0.5182, 0.5401, 0.5632, 0.5807, 0.5976,\n",
       "        0.625 , 0.6529, 0.6699, 0.6879, 0.7008, 0.7211, 0.7384, 0.7545,\n",
       "        0.7732, 0.7918, 0.8065, 0.8351, 0.8512, 0.8709, 0.8852, 0.9053,\n",
       "        0.9251, 0.9537, 0.972 , 0.9967]) * second,\n",
       " 44: array([0.0111, 0.0293, 0.0457, 0.0605, 0.0885, 0.1035, 0.1213, 0.1415,\n",
       "        0.1585, 0.1739, 0.1933, 0.209 , 0.2264, 0.2461, 0.2613, 0.2777,\n",
       "        0.2997, 0.3147, 0.3279, 0.3454, 0.3657, 0.381 , 0.3989, 0.4213,\n",
       "        0.4361, 0.4589, 0.476 , 0.4923, 0.5116, 0.5289, 0.5495, 0.5666,\n",
       "        0.5826, 0.6016, 0.6185, 0.6348, 0.6568, 0.6746, 0.6903, 0.7108,\n",
       "        0.7261, 0.7416, 0.7608, 0.7762, 0.7936, 0.8206, 0.8402, 0.8524,\n",
       "        0.8684, 0.8842, 0.908 , 0.9275, 0.9483, 0.9662, 0.9932]) * second,\n",
       " 45: array([0.0127, 0.0317, 0.0464, 0.0624, 0.0792, 0.0959, 0.1149, 0.1352,\n",
       "        0.1544, 0.1756, 0.19  , 0.2029, 0.2207, 0.2356, 0.2517, 0.267 ,\n",
       "        0.2861, 0.3037, 0.3222, 0.3498, 0.3712, 0.3895, 0.4063, 0.4203,\n",
       "        0.4382, 0.4527, 0.4732, 0.4937, 0.5076, 0.5229, 0.5371, 0.5555,\n",
       "        0.5792, 0.5962, 0.6108, 0.6304, 0.647 , 0.6625, 0.6845, 0.6995,\n",
       "        0.7177, 0.7353, 0.7505, 0.7668, 0.786 , 0.8048, 0.8174, 0.836 ,\n",
       "        0.8535, 0.8745, 0.8918, 0.9059, 0.9255, 0.941 , 0.9608, 0.9795,\n",
       "        0.9965]) * second,\n",
       " 46: array([0.0116, 0.0247, 0.0414, 0.0582, 0.0722, 0.0943, 0.107 , 0.1231,\n",
       "        0.1411, 0.1518, 0.1654, 0.1811, 0.1964, 0.2134, 0.231 , 0.2485,\n",
       "        0.263 , 0.2754, 0.2911, 0.3101, 0.3264, 0.3449, 0.3596, 0.3783,\n",
       "        0.395 , 0.411 , 0.4271, 0.4476, 0.4671, 0.4829, 0.5015, 0.5206,\n",
       "        0.5356, 0.5511, 0.5672, 0.5908, 0.6135, 0.6292, 0.6457, 0.6617,\n",
       "        0.6775, 0.6942, 0.7086, 0.73  , 0.7488, 0.7618, 0.7794, 0.7937,\n",
       "        0.8194, 0.8339, 0.85  , 0.8655, 0.8874, 0.9074, 0.923 , 0.9378,\n",
       "        0.9539, 0.9696, 0.9883]) * second,\n",
       " 47: array([0.0126, 0.0282, 0.0425, 0.0593, 0.0795, 0.0946, 0.1103, 0.1244,\n",
       "        0.1397, 0.1602, 0.1751, 0.1891, 0.2049, 0.2257, 0.2414, 0.2553,\n",
       "        0.2708, 0.2873, 0.3027, 0.3211, 0.3356, 0.3608, 0.3864, 0.4005,\n",
       "        0.4231, 0.4363, 0.4576, 0.4781, 0.4984, 0.5173, 0.535 , 0.5519,\n",
       "        0.5648, 0.5835, 0.5998, 0.62  , 0.6383, 0.6531, 0.6709, 0.6875,\n",
       "        0.7052, 0.7218, 0.7433, 0.7559, 0.7781, 0.7971, 0.8137, 0.8321,\n",
       "        0.8514, 0.8692, 0.8865, 0.9041, 0.9193, 0.9364, 0.9545, 0.9698,\n",
       "        0.9851]) * second,\n",
       " 48: array([0.0157, 0.0302, 0.0455, 0.0605, 0.0781, 0.0902, 0.1082, 0.1265,\n",
       "        0.1406, 0.1557, 0.171 , 0.185 , 0.1988, 0.213 , 0.2273, 0.2438,\n",
       "        0.2583, 0.2805, 0.2986, 0.312 , 0.3274, 0.3426, 0.3588, 0.3776,\n",
       "        0.3937, 0.409 , 0.4235, 0.4418, 0.4544, 0.471 , 0.486 , 0.5048,\n",
       "        0.518 , 0.5328, 0.5487, 0.5641, 0.5815, 0.5935, 0.6086, 0.6227,\n",
       "        0.6395, 0.6533, 0.6659, 0.6846, 0.7012, 0.7154, 0.7319, 0.7516,\n",
       "        0.767 , 0.7887, 0.8037, 0.8227, 0.8385, 0.8525, 0.8688, 0.8869,\n",
       "        0.9032, 0.9194, 0.9379, 0.9608, 0.9772, 0.996 ]) * second,\n",
       " 49: array([0.0134, 0.0269, 0.0469, 0.0642, 0.0837, 0.0969, 0.1119, 0.1263,\n",
       "        0.1422, 0.1556, 0.1696, 0.1957, 0.2134, 0.2283, 0.2419, 0.2567,\n",
       "        0.274 , 0.2878, 0.3067, 0.3218, 0.3386, 0.3518, 0.3714, 0.3858,\n",
       "        0.4022, 0.4173, 0.4325, 0.4546, 0.4676, 0.4852, 0.5008, 0.5171,\n",
       "        0.5326, 0.5439, 0.5591, 0.5758, 0.5932, 0.6122, 0.6264, 0.6406,\n",
       "        0.6578, 0.6703, 0.6852, 0.7031, 0.719 , 0.7341, 0.7489, 0.7633,\n",
       "        0.7781, 0.7922, 0.8114, 0.8331, 0.8469, 0.8605, 0.8745, 0.8898,\n",
       "        0.9034, 0.92  , 0.9323, 0.9459, 0.964 , 0.9811, 0.9968]) * second,\n",
       " 50: array([0.0111, 0.0279, 0.0395, 0.0532, 0.0667, 0.0864, 0.0978, 0.114 ,\n",
       "        0.1343, 0.149 , 0.166 , 0.1794, 0.1938, 0.2089, 0.2245, 0.2394,\n",
       "        0.2553, 0.2737, 0.2939, 0.308 , 0.3223, 0.3395, 0.3609, 0.3719,\n",
       "        0.3853, 0.4   , 0.4169, 0.4305, 0.4464, 0.4656, 0.4784, 0.4929,\n",
       "        0.5121, 0.533 , 0.5501, 0.564 , 0.578 , 0.5928, 0.6066, 0.6186,\n",
       "        0.6334, 0.6482, 0.6638, 0.6822, 0.6977, 0.7175, 0.7329, 0.7483,\n",
       "        0.7628, 0.7787, 0.7913, 0.8044, 0.8178, 0.8313, 0.8472, 0.8678,\n",
       "        0.8886, 0.9031, 0.9231, 0.9424, 0.9621, 0.9769, 0.9932]) * second,\n",
       " 51: array([0.0114, 0.0295, 0.0434, 0.064 , 0.0793, 0.0915, 0.1043, 0.1206,\n",
       "        0.1348, 0.1517, 0.1689, 0.1827, 0.1946, 0.2112, 0.2248, 0.2418,\n",
       "        0.2558, 0.2734, 0.2895, 0.3058, 0.3218, 0.3366, 0.3518, 0.366 ,\n",
       "        0.3852, 0.3974, 0.4118, 0.425 , 0.447 , 0.4642, 0.4808, 0.4937,\n",
       "        0.5057, 0.5244, 0.5419, 0.5572, 0.581 , 0.5957, 0.6119, 0.6246,\n",
       "        0.639 , 0.6519, 0.6645, 0.6777, 0.6947, 0.7081, 0.7238, 0.7366,\n",
       "        0.7518, 0.7658, 0.7833, 0.7961, 0.813 , 0.8266, 0.8399, 0.8601,\n",
       "        0.8793, 0.8932, 0.9106, 0.9231, 0.9372, 0.957 , 0.9697, 0.9957]) * second,\n",
       " 52: array([0.0069, 0.0199, 0.036 , 0.0546, 0.0731, 0.0883, 0.1026, 0.118 ,\n",
       "        0.1306, 0.15  , 0.1658, 0.1788, 0.1972, 0.2114, 0.2299, 0.2409,\n",
       "        0.2556, 0.2678, 0.2838, 0.2981, 0.3107, 0.3264, 0.3393, 0.3545,\n",
       "        0.3702, 0.3833, 0.3995, 0.412 , 0.4244, 0.4403, 0.4583, 0.4753,\n",
       "        0.4881, 0.5026, 0.5244, 0.5435, 0.5559, 0.5696, 0.5827, 0.5982,\n",
       "        0.6108, 0.6231, 0.6374, 0.6529, 0.6668, 0.68  , 0.6952, 0.7128,\n",
       "        0.7275, 0.7382, 0.7516, 0.765 , 0.781 , 0.7964, 0.8136, 0.8254,\n",
       "        0.841 , 0.8566, 0.8734, 0.8872, 0.9006, 0.9145, 0.9297, 0.9407,\n",
       "        0.9584, 0.9725, 0.9863]) * second,\n",
       " 53: array([0.0127, 0.0292, 0.0428, 0.0571, 0.0724, 0.0862, 0.1007, 0.1151,\n",
       "        0.1288, 0.1474, 0.1628, 0.1754, 0.189 , 0.2031, 0.2219, 0.2365,\n",
       "        0.2519, 0.2669, 0.2829, 0.2948, 0.3097, 0.3229, 0.3399, 0.3564,\n",
       "        0.372 , 0.3844, 0.3993, 0.4109, 0.4262, 0.4403, 0.4529, 0.4734,\n",
       "        0.487 , 0.5037, 0.5172, 0.5339, 0.5481, 0.561 , 0.5764, 0.5894,\n",
       "        0.6048, 0.6177, 0.6317, 0.6436, 0.6557, 0.6712, 0.6856, 0.6982,\n",
       "        0.7126, 0.7247, 0.7384, 0.7568, 0.7693, 0.7829, 0.7945, 0.8096,\n",
       "        0.8236, 0.8369, 0.8544, 0.872 , 0.8849, 0.9005, 0.9141, 0.9299,\n",
       "        0.946 , 0.9618, 0.9765, 0.9902]) * second,\n",
       " 54: array([0.0078, 0.0223, 0.0372, 0.0525, 0.0709, 0.0813, 0.099 , 0.1118,\n",
       "        0.1246, 0.1373, 0.1531, 0.1677, 0.1822, 0.1954, 0.2105, 0.2271,\n",
       "        0.2414, 0.2555, 0.2678, 0.2805, 0.2953, 0.306 , 0.3207, 0.3368,\n",
       "        0.3519, 0.3668, 0.3808, 0.4027, 0.4163, 0.4296, 0.4417, 0.455 ,\n",
       "        0.4669, 0.4795, 0.4925, 0.5049, 0.5193, 0.5332, 0.5466, 0.5604,\n",
       "        0.5738, 0.5884, 0.6012, 0.6137, 0.6282, 0.6429, 0.655 , 0.6659,\n",
       "        0.6811, 0.6977, 0.7127, 0.7248, 0.7394, 0.7543, 0.7715, 0.7866,\n",
       "        0.8006, 0.816 , 0.8321, 0.8453, 0.8585, 0.8739, 0.8856, 0.9024,\n",
       "        0.9164, 0.9306, 0.9451, 0.9603, 0.9751, 0.9902]) * second,\n",
       " 55: array([0.0068, 0.0195, 0.0354, 0.0485, 0.0624, 0.0757, 0.0888, 0.1012,\n",
       "        0.1145, 0.1267, 0.1441, 0.1558, 0.1694, 0.1851, 0.1987, 0.2124,\n",
       "        0.2237, 0.2386, 0.25  , 0.2628, 0.2809, 0.2947, 0.3084, 0.3248,\n",
       "        0.3391, 0.3542, 0.3702, 0.3826, 0.3978, 0.4111, 0.4267, 0.4411,\n",
       "        0.4541, 0.4691, 0.4835, 0.4977, 0.5121, 0.5289, 0.5412, 0.5556,\n",
       "        0.5683, 0.5828, 0.5959, 0.6081, 0.6218, 0.6362, 0.6508, 0.6645,\n",
       "        0.677 , 0.6935, 0.7074, 0.7207, 0.7389, 0.7548, 0.77  , 0.7831,\n",
       "        0.7979, 0.8141, 0.8273, 0.8422, 0.8554, 0.8718, 0.8834, 0.8995,\n",
       "        0.9129, 0.9281, 0.9429, 0.957 , 0.9722, 0.985 ]) * second,\n",
       " 56: array([0.0062, 0.0252, 0.0368, 0.0503, 0.065 , 0.0787, 0.0954, 0.1085,\n",
       "        0.1202, 0.1377, 0.1509, 0.1653, 0.1813, 0.195 , 0.2103, 0.2257,\n",
       "        0.2426, 0.2563, 0.2701, 0.2819, 0.2954, 0.3079, 0.3207, 0.3336,\n",
       "        0.3458, 0.3588, 0.3745, 0.3853, 0.398 , 0.4124, 0.4292, 0.4435,\n",
       "        0.4593, 0.4719, 0.4825, 0.4976, 0.5134, 0.5279, 0.5392, 0.549 ,\n",
       "        0.5651, 0.5805, 0.5931, 0.6059, 0.6189, 0.6328, 0.6475, 0.6644,\n",
       "        0.6758, 0.6871, 0.7025, 0.716 , 0.7299, 0.7467, 0.761 , 0.7729,\n",
       "        0.7909, 0.8046, 0.8174, 0.8321, 0.8449, 0.8569, 0.8751, 0.888 ,\n",
       "        0.9013, 0.913 , 0.9271, 0.9416, 0.958 , 0.9709, 0.9845]) * second,\n",
       " 57: array([0.008 , 0.0204, 0.0355, 0.0489, 0.0624, 0.0739, 0.0858, 0.1005,\n",
       "        0.1165, 0.1325, 0.1458, 0.1635, 0.1796, 0.1918, 0.2039, 0.2173,\n",
       "        0.2303, 0.244 , 0.2586, 0.2721, 0.2845, 0.3   , 0.3123, 0.3277,\n",
       "        0.3399, 0.3527, 0.3658, 0.3781, 0.3903, 0.4021, 0.4164, 0.429 ,\n",
       "        0.4431, 0.4571, 0.4744, 0.4868, 0.5028, 0.5185, 0.531 , 0.5482,\n",
       "        0.5626, 0.577 , 0.5928, 0.6066, 0.6184, 0.6346, 0.6465, 0.6616,\n",
       "        0.6792, 0.692 , 0.7049, 0.7163, 0.7286, 0.7418, 0.7581, 0.7688,\n",
       "        0.7836, 0.798 , 0.8163, 0.8284, 0.8407, 0.8568, 0.8689, 0.8825,\n",
       "        0.8967, 0.9089, 0.9203, 0.9332, 0.946 , 0.958 , 0.9692, 0.9829,\n",
       "        0.9948]) * second,\n",
       " 58: array([0.0125, 0.0258, 0.0402, 0.0528, 0.0673, 0.0831, 0.0981, 0.1094,\n",
       "        0.1253, 0.1383, 0.1506, 0.1643, 0.1766, 0.1906, 0.2054, 0.2159,\n",
       "        0.232 , 0.2468, 0.2609, 0.274 , 0.2902, 0.3016, 0.315 , 0.33  ,\n",
       "        0.3416, 0.3522, 0.3667, 0.3799, 0.3919, 0.4057, 0.4185, 0.4299,\n",
       "        0.445 , 0.4597, 0.4755, 0.4933, 0.507 , 0.5211, 0.5325, 0.5454,\n",
       "        0.5595, 0.5725, 0.5858, 0.5978, 0.6085, 0.622 , 0.6403, 0.656 ,\n",
       "        0.6673, 0.6815, 0.6944, 0.7072, 0.7196, 0.7329, 0.7462, 0.7602,\n",
       "        0.7717, 0.7872, 0.8026, 0.8159, 0.8301, 0.8454, 0.8565, 0.8695,\n",
       "        0.885 , 0.8973, 0.9128, 0.9268, 0.939 , 0.9525, 0.9662, 0.9784,\n",
       "        0.9935]) * second,\n",
       " 59: array([0.0071, 0.0203, 0.0356, 0.0484, 0.0607, 0.075 , 0.0852, 0.0999,\n",
       "        0.1133, 0.1256, 0.1376, 0.154 , 0.1698, 0.1845, 0.1946, 0.2097,\n",
       "        0.2211, 0.2363, 0.2495, 0.2666, 0.281 , 0.2918, 0.3035, 0.3183,\n",
       "        0.3314, 0.3455, 0.3582, 0.3712, 0.385 , 0.3974, 0.4111, 0.4257,\n",
       "        0.4389, 0.4524, 0.4633, 0.4789, 0.4912, 0.5034, 0.5161, 0.53  ,\n",
       "        0.5434, 0.5594, 0.5707, 0.5877, 0.6028, 0.6153, 0.6295, 0.6409,\n",
       "        0.6529, 0.6648, 0.6794, 0.693 , 0.7039, 0.7168, 0.7295, 0.7442,\n",
       "        0.7556, 0.7682, 0.7837, 0.7982, 0.8116, 0.8235, 0.8395, 0.8496,\n",
       "        0.8614, 0.8765, 0.8908, 0.9032, 0.9168, 0.9301, 0.9443, 0.9579,\n",
       "        0.972 , 0.9861, 0.9992]) * second,\n",
       " 60: array([0.0108, 0.0241, 0.0385, 0.0491, 0.0611, 0.0719, 0.0847, 0.0998,\n",
       "        0.1131, 0.1244, 0.1383, 0.15  , 0.163 , 0.1764, 0.1893, 0.2019,\n",
       "        0.2125, 0.2281, 0.2416, 0.2543, 0.2664, 0.2786, 0.2899, 0.3051,\n",
       "        0.3168, 0.3296, 0.3436, 0.3569, 0.3709, 0.3831, 0.3954, 0.4085,\n",
       "        0.4225, 0.434 , 0.4466, 0.4583, 0.4726, 0.4865, 0.4987, 0.5117,\n",
       "        0.5235, 0.5375, 0.5519, 0.563 , 0.5763, 0.5884, 0.601 , 0.6137,\n",
       "        0.624 , 0.6371, 0.6506, 0.6629, 0.6739, 0.6897, 0.7014, 0.7133,\n",
       "        0.7277, 0.7408, 0.7511, 0.7635, 0.7748, 0.789 , 0.8002, 0.8129,\n",
       "        0.8232, 0.8356, 0.8524, 0.8646, 0.8768, 0.8907, 0.9057, 0.9174,\n",
       "        0.9277, 0.9418, 0.9536, 0.9656, 0.9791, 0.9934]) * second,\n",
       " 61: array([0.0072, 0.0201, 0.0334, 0.0448, 0.0575, 0.0701, 0.0854, 0.1001,\n",
       "        0.1153, 0.1271, 0.1446, 0.1555, 0.1708, 0.1826, 0.1965, 0.2094,\n",
       "        0.2218, 0.2363, 0.2496, 0.2636, 0.2759, 0.287 , 0.2988, 0.3131,\n",
       "        0.3251, 0.3368, 0.3493, 0.3642, 0.3755, 0.3874, 0.3997, 0.4133,\n",
       "        0.4274, 0.4395, 0.4518, 0.4648, 0.4785, 0.4899, 0.5036, 0.5166,\n",
       "        0.5286, 0.54  , 0.5519, 0.5636, 0.5755, 0.5872, 0.5985, 0.6127,\n",
       "        0.6252, 0.6395, 0.6514, 0.6653, 0.6778, 0.6903, 0.7037, 0.7168,\n",
       "        0.7302, 0.7419, 0.7529, 0.7661, 0.781 , 0.7958, 0.8066, 0.8182,\n",
       "        0.831 , 0.8473, 0.8618, 0.8755, 0.8893, 0.9055, 0.9183, 0.9303,\n",
       "        0.9432, 0.9532, 0.9653, 0.9774, 0.9902]) * second,\n",
       " 62: array([0.0071, 0.0203, 0.0337, 0.0464, 0.0578, 0.0696, 0.08  , 0.0926,\n",
       "        0.1043, 0.117 , 0.1292, 0.1431, 0.159 , 0.1694, 0.1798, 0.191 ,\n",
       "        0.2027, 0.2151, 0.2297, 0.2435, 0.2557, 0.2674, 0.2814, 0.2927,\n",
       "        0.3027, 0.3182, 0.3306, 0.3415, 0.3532, 0.3674, 0.3794, 0.3926,\n",
       "        0.4051, 0.4166, 0.4272, 0.4382, 0.4506, 0.4635, 0.4763, 0.4929,\n",
       "        0.5043, 0.5159, 0.5269, 0.5386, 0.551 , 0.5642, 0.5779, 0.5901,\n",
       "        0.6047, 0.6159, 0.6294, 0.6414, 0.6536, 0.6631, 0.6762, 0.6912,\n",
       "        0.7036, 0.7214, 0.733 , 0.7461, 0.7594, 0.772 , 0.7827, 0.795 ,\n",
       "        0.8064, 0.8201, 0.8314, 0.8439, 0.856 , 0.8689, 0.8836, 0.8938,\n",
       "        0.9055, 0.917 , 0.9309, 0.9436, 0.9545, 0.9665, 0.9777, 0.9899]) * second,\n",
       " 63: array([0.0081, 0.0222, 0.0357, 0.0491, 0.0597, 0.0742, 0.0853, 0.0968,\n",
       "        0.1076, 0.1199, 0.1348, 0.1473, 0.1604, 0.173 , 0.1846, 0.1949,\n",
       "        0.2073, 0.2201, 0.2323, 0.2439, 0.2566, 0.2684, 0.283 , 0.2965,\n",
       "        0.3103, 0.3247, 0.3383, 0.3492, 0.3626, 0.3752, 0.3875, 0.4007,\n",
       "        0.4135, 0.4266, 0.4395, 0.453 , 0.4649, 0.4771, 0.4873, 0.4986,\n",
       "        0.5107, 0.5238, 0.5366, 0.5488, 0.5598, 0.5726, 0.5832, 0.5965,\n",
       "        0.6104, 0.6229, 0.6336, 0.6471, 0.6598, 0.6736, 0.6847, 0.6991,\n",
       "        0.7116, 0.7227, 0.7361, 0.747 , 0.7621, 0.7742, 0.7858, 0.7981,\n",
       "        0.8092, 0.8201, 0.8319, 0.8431, 0.8549, 0.8655, 0.8775, 0.8916,\n",
       "        0.9062, 0.9189, 0.9286, 0.9413, 0.9562, 0.9678, 0.9803, 0.9954]) * second,\n",
       " 64: array([0.0077, 0.0207, 0.0313, 0.0433, 0.055 , 0.0676, 0.0782, 0.0908,\n",
       "        0.1035, 0.1149, 0.1264, 0.1379, 0.1499, 0.1622, 0.1752, 0.1873,\n",
       "        0.1989, 0.2125, 0.2241, 0.2367, 0.2483, 0.2589, 0.27  , 0.282 ,\n",
       "        0.2936, 0.3052, 0.3158, 0.3294, 0.3409, 0.3525, 0.363 , 0.3752,\n",
       "        0.3867, 0.3994, 0.4114, 0.4219, 0.4328, 0.4444, 0.4574, 0.4686,\n",
       "        0.4809, 0.4927, 0.5042, 0.5155, 0.5276, 0.5411, 0.5537, 0.5655,\n",
       "        0.5772, 0.5891, 0.6034, 0.6164, 0.631 , 0.6441, 0.6591, 0.67  ,\n",
       "        0.6804, 0.6921, 0.7032, 0.7159, 0.7265, 0.7385, 0.7507, 0.762 ,\n",
       "        0.7729, 0.7848, 0.7972, 0.8091, 0.823 , 0.8355, 0.847 , 0.8594,\n",
       "        0.8712, 0.8839, 0.8964, 0.9117, 0.9243, 0.937 , 0.9494, 0.963 ,\n",
       "        0.9747, 0.9854, 0.9972]) * second,\n",
       " 65: array([0.0069, 0.0195, 0.0331, 0.0449, 0.059 , 0.073 , 0.0837, 0.0965,\n",
       "        0.1078, 0.1241, 0.1369, 0.1496, 0.1607, 0.1725, 0.1848, 0.1963,\n",
       "        0.2096, 0.2203, 0.2317, 0.2421, 0.255 , 0.267 , 0.2786, 0.2885,\n",
       "        0.3003, 0.3119, 0.325 , 0.3364, 0.348 , 0.3585, 0.3693, 0.3808,\n",
       "        0.3928, 0.4034, 0.4144, 0.4264, 0.4399, 0.4556, 0.4661, 0.4799,\n",
       "        0.4914, 0.5029, 0.5143, 0.5257, 0.5382, 0.5488, 0.5605, 0.5739,\n",
       "        0.5866, 0.6002, 0.6127, 0.6259, 0.6395, 0.6539, 0.6652, 0.6789,\n",
       "        0.6935, 0.7056, 0.7195, 0.7303, 0.7424, 0.7533, 0.766 , 0.7757,\n",
       "        0.7889, 0.8036, 0.8156, 0.8253, 0.8375, 0.8489, 0.8618, 0.8767,\n",
       "        0.8885, 0.8997, 0.9143, 0.9268, 0.9377, 0.9495, 0.962 , 0.9756,\n",
       "        0.9884]) * second,\n",
       " 66: array([0.0065, 0.017 , 0.0301, 0.0419, 0.053 , 0.0666, 0.0772, 0.0916,\n",
       "        0.1023, 0.115 , 0.1293, 0.1428, 0.1569, 0.1686, 0.1789, 0.193 ,\n",
       "        0.2043, 0.2163, 0.2285, 0.2395, 0.2522, 0.2657, 0.2785, 0.2904,\n",
       "        0.3031, 0.3132, 0.3255, 0.3365, 0.3478, 0.3627, 0.3748, 0.3883,\n",
       "        0.4023, 0.4158, 0.4287, 0.4409, 0.4509, 0.4619, 0.4739, 0.4853,\n",
       "        0.4988, 0.5114, 0.5226, 0.5356, 0.5479, 0.5616, 0.5744, 0.5875,\n",
       "        0.5994, 0.6113, 0.6247, 0.6376, 0.6485, 0.6598, 0.6711, 0.6829,\n",
       "        0.6943, 0.7061, 0.7179, 0.7323, 0.7426, 0.7567, 0.7688, 0.7795,\n",
       "        0.7903, 0.8008, 0.8133, 0.8249, 0.8345, 0.8461, 0.8581, 0.8706,\n",
       "        0.8807, 0.8913, 0.9042, 0.9149, 0.9258, 0.9368, 0.951 , 0.9657,\n",
       "        0.9773, 0.9914]) * second,\n",
       " 67: array([0.0066, 0.0168, 0.031 , 0.0443, 0.0554, 0.0657, 0.078 , 0.0876,\n",
       "        0.1005, 0.1122, 0.1258, 0.1367, 0.1496, 0.1627, 0.1738, 0.1872,\n",
       "        0.2   , 0.2105, 0.2227, 0.2352, 0.2475, 0.2606, 0.2733, 0.285 ,\n",
       "        0.2955, 0.3078, 0.3204, 0.3314, 0.3452, 0.357 , 0.3683, 0.38  ,\n",
       "        0.3921, 0.4057, 0.4162, 0.4291, 0.4422, 0.4537, 0.4656, 0.4756,\n",
       "        0.4871, 0.5   , 0.5111, 0.5221, 0.5344, 0.5453, 0.557 , 0.5683,\n",
       "        0.5791, 0.5927, 0.6043, 0.6152, 0.6264, 0.6385, 0.6495, 0.6613,\n",
       "        0.6752, 0.6882, 0.6982, 0.7099, 0.7219, 0.7372, 0.7498, 0.7618,\n",
       "        0.7759, 0.7884, 0.7996, 0.8117, 0.8245, 0.8342, 0.8465, 0.8586,\n",
       "        0.8709, 0.8819, 0.894 , 0.905 , 0.9153, 0.9275, 0.9381, 0.9486,\n",
       "        0.9614, 0.9731, 0.9845, 0.9941]) * second,\n",
       " 68: array([0.0062, 0.0173, 0.028 , 0.0386, 0.0518, 0.063 , 0.0739, 0.0845,\n",
       "        0.0961, 0.1077, 0.1186, 0.1295, 0.1402, 0.1495, 0.1599, 0.1723,\n",
       "        0.1824, 0.1939, 0.204 , 0.2151, 0.2272, 0.2374, 0.2476, 0.2589,\n",
       "        0.2708, 0.2828, 0.2965, 0.3086, 0.3205, 0.3331, 0.3455, 0.3589,\n",
       "        0.3695, 0.3798, 0.3908, 0.4016, 0.412 , 0.4264, 0.438 , 0.4492,\n",
       "        0.4627, 0.4737, 0.4857, 0.4967, 0.5085, 0.5212, 0.5329, 0.5442,\n",
       "        0.5554, 0.5667, 0.5787, 0.5903, 0.6017, 0.6138, 0.6239, 0.6363,\n",
       "        0.6466, 0.6588, 0.6699, 0.6817, 0.6932, 0.7033, 0.7138, 0.7238,\n",
       "        0.7368, 0.7471, 0.7587, 0.7684, 0.7802, 0.7953, 0.8067, 0.8214,\n",
       "        0.8322, 0.8442, 0.8553, 0.8661, 0.8776, 0.8875, 0.8992, 0.91  ,\n",
       "        0.9201, 0.931 , 0.9431, 0.9554, 0.9657, 0.9766, 0.9891]) * second,\n",
       " 69: array([0.0056, 0.0185, 0.0307, 0.0416, 0.0537, 0.0644, 0.0754, 0.0865,\n",
       "        0.0991, 0.1104, 0.1209, 0.1325, 0.1435, 0.1534, 0.1647, 0.1755,\n",
       "        0.1854, 0.1978, 0.2089, 0.2211, 0.232 , 0.2425, 0.2532, 0.2662,\n",
       "        0.279 , 0.2902, 0.3022, 0.3151, 0.3262, 0.3379, 0.3487, 0.3618,\n",
       "        0.3725, 0.3844, 0.396 , 0.4074, 0.4177, 0.4286, 0.4401, 0.4508,\n",
       "        0.4633, 0.4747, 0.4854, 0.4978, 0.5092, 0.5203, 0.5312, 0.5428,\n",
       "        0.5544, 0.5657, 0.5776, 0.5885, 0.5988, 0.6103, 0.6208, 0.6325,\n",
       "        0.6439, 0.6546, 0.6651, 0.6753, 0.6862, 0.6979, 0.7091, 0.7221,\n",
       "        0.7332, 0.7448, 0.758 , 0.7692, 0.7811, 0.7908, 0.8027, 0.8142,\n",
       "        0.827 , 0.8369, 0.8483, 0.8579, 0.8697, 0.881 , 0.8929, 0.9053,\n",
       "        0.9162, 0.9267, 0.9377, 0.9503, 0.96  , 0.9729, 0.9836, 0.9947]) * second,\n",
       " 70: array([0.0065, 0.0177, 0.0305, 0.0432, 0.056 , 0.0691, 0.0806, 0.0928,\n",
       "        0.1048, 0.1174, 0.1283, 0.1395, 0.1526, 0.1641, 0.1741, 0.1859,\n",
       "        0.1968, 0.2081, 0.2186, 0.2286, 0.2393, 0.2513, 0.2623, 0.274 ,\n",
       "        0.2854, 0.2968, 0.3063, 0.3174, 0.3275, 0.3369, 0.3471, 0.3593,\n",
       "        0.369 , 0.3808, 0.391 , 0.4051, 0.4161, 0.426 , 0.4372, 0.449 ,\n",
       "        0.4598, 0.4721, 0.4825, 0.4945, 0.5038, 0.5167, 0.5286, 0.5395,\n",
       "        0.5518, 0.5655, 0.5749, 0.5855, 0.5986, 0.6094, 0.6204, 0.6319,\n",
       "        0.6434, 0.6555, 0.6654, 0.6782, 0.6896, 0.7017, 0.7154, 0.7259,\n",
       "        0.7364, 0.7475, 0.7596, 0.7696, 0.7789, 0.7893, 0.8012, 0.8123,\n",
       "        0.8246, 0.8351, 0.8459, 0.856 , 0.8689, 0.88  , 0.8898, 0.9012,\n",
       "        0.9132, 0.9236, 0.9356, 0.9472, 0.9597, 0.9716, 0.9823, 0.9927]) * second,\n",
       " 71: array([0.0055, 0.0174, 0.03  , 0.0411, 0.0508, 0.061 , 0.0715, 0.0843,\n",
       "        0.0949, 0.1057, 0.1178, 0.1282, 0.1405, 0.1521, 0.164 , 0.1748,\n",
       "        0.1865, 0.1971, 0.2089, 0.2195, 0.2304, 0.241 , 0.2518, 0.2622,\n",
       "        0.2744, 0.286 , 0.2971, 0.3083, 0.3189, 0.3306, 0.3413, 0.351 ,\n",
       "        0.3637, 0.3733, 0.3837, 0.395 , 0.4051, 0.4195, 0.4291, 0.4398,\n",
       "        0.4523, 0.4635, 0.4748, 0.4869, 0.4983, 0.509 , 0.5189, 0.5309,\n",
       "        0.5418, 0.5525, 0.562 , 0.5749, 0.5853, 0.5969, 0.609 , 0.6197,\n",
       "        0.6325, 0.644 , 0.6554, 0.6661, 0.6788, 0.6889, 0.6986, 0.7103,\n",
       "        0.7219, 0.7319, 0.7436, 0.7553, 0.7658, 0.7764, 0.7878, 0.7991,\n",
       "        0.8105, 0.8215, 0.8315, 0.8432, 0.8552, 0.865 , 0.8757, 0.8874,\n",
       "        0.8989, 0.9093, 0.9229, 0.9355, 0.9463, 0.9585, 0.9699, 0.9801,\n",
       "        0.9898]) * second,\n",
       " 72: array([0.0058, 0.0154, 0.0263, 0.0378, 0.0475, 0.0594, 0.0695, 0.0797,\n",
       "        0.0902, 0.101 , 0.1115, 0.1215, 0.1327, 0.1453, 0.1564, 0.1685,\n",
       "        0.1801, 0.1916, 0.2019, 0.2122, 0.2236, 0.2345, 0.2468, 0.2584,\n",
       "        0.2702, 0.2818, 0.292 , 0.3025, 0.312 , 0.3229, 0.3334, 0.3435,\n",
       "        0.3568, 0.3676, 0.3791, 0.3908, 0.4015, 0.4132, 0.4242, 0.4348,\n",
       "        0.4456, 0.4552, 0.466 , 0.4765, 0.4888, 0.4986, 0.5102, 0.5221,\n",
       "        0.5331, 0.5455, 0.5563, 0.5681, 0.5789, 0.5898, 0.6008, 0.6122,\n",
       "        0.6234, 0.6338, 0.6443, 0.6573, 0.6676, 0.6771, 0.6898, 0.7006,\n",
       "        0.712 , 0.7226, 0.7324, 0.7438, 0.7553, 0.767 , 0.777 , 0.7879,\n",
       "        0.7973, 0.8101, 0.8213, 0.8308, 0.8407, 0.8535, 0.864 , 0.8748,\n",
       "        0.8878, 0.8984, 0.9091, 0.9201, 0.9319, 0.9433, 0.954 , 0.9647,\n",
       "        0.9772, 0.9875, 0.9989]) * second,\n",
       " 73: array([0.0068, 0.0169, 0.0274, 0.0374, 0.0486, 0.0603, 0.07  , 0.0826,\n",
       "        0.0934, 0.103 , 0.1146, 0.1256, 0.1372, 0.1483, 0.1592, 0.1709,\n",
       "        0.1818, 0.1927, 0.2034, 0.2141, 0.224 , 0.2344, 0.2462, 0.256 ,\n",
       "        0.2683, 0.2817, 0.2931, 0.3033, 0.3149, 0.3269, 0.3378, 0.3477,\n",
       "        0.3565, 0.3657, 0.377 , 0.3866, 0.3981, 0.4099, 0.4195, 0.4313,\n",
       "        0.4423, 0.4543, 0.4665, 0.4771, 0.4877, 0.4979, 0.5081, 0.5199,\n",
       "        0.5295, 0.5414, 0.5521, 0.5619, 0.5721, 0.582 , 0.5917, 0.6019,\n",
       "        0.6122, 0.6233, 0.6341, 0.6481, 0.6587, 0.6715, 0.6823, 0.6933,\n",
       "        0.7024, 0.7126, 0.723 , 0.7345, 0.7448, 0.7552, 0.7647, 0.775 ,\n",
       "        0.7861, 0.798 , 0.8093, 0.8219, 0.8342, 0.846 , 0.857 , 0.8664,\n",
       "        0.8764, 0.8895, 0.9011, 0.9114, 0.9233, 0.9352, 0.9438, 0.9553,\n",
       "        0.9662, 0.9769, 0.9869, 0.9984]) * second,\n",
       " 74: array([0.0045, 0.0156, 0.0265, 0.0384, 0.0491, 0.0604, 0.07  , 0.08  ,\n",
       "        0.0917, 0.102 , 0.1136, 0.1245, 0.1356, 0.1467, 0.1573, 0.1683,\n",
       "        0.1802, 0.1911, 0.2022, 0.2125, 0.222 , 0.2349, 0.2454, 0.2586,\n",
       "        0.2699, 0.281 , 0.2925, 0.3044, 0.3148, 0.3256, 0.3355, 0.3443,\n",
       "        0.3558, 0.3662, 0.376 , 0.3876, 0.3996, 0.4104, 0.4219, 0.4335,\n",
       "        0.4446, 0.4546, 0.4657, 0.4767, 0.4889, 0.5018, 0.5132, 0.5229,\n",
       "        0.5338, 0.5438, 0.5528, 0.5643, 0.575 , 0.5864, 0.5984, 0.6099,\n",
       "        0.6213, 0.6325, 0.6447, 0.6548, 0.666 , 0.6767, 0.6874, 0.6977,\n",
       "        0.7083, 0.7191, 0.7297, 0.7406, 0.7498, 0.7618, 0.773 , 0.7828,\n",
       "        0.7934, 0.8036, 0.8139, 0.8243, 0.8362, 0.8474, 0.8583, 0.869 ,\n",
       "        0.8812, 0.8913, 0.9015, 0.9133, 0.9246, 0.9363, 0.9454, 0.9551,\n",
       "        0.9665, 0.9759, 0.9879, 0.9991]) * second,\n",
       " 75: array([0.0046, 0.016 , 0.0265, 0.0363, 0.0481, 0.0606, 0.0697, 0.0799,\n",
       "        0.091 , 0.1027, 0.1132, 0.1241, 0.1365, 0.1481, 0.1582, 0.1692,\n",
       "        0.1804, 0.1905, 0.2019, 0.213 , 0.2236, 0.2334, 0.2444, 0.2539,\n",
       "        0.2657, 0.2758, 0.287 , 0.2977, 0.3087, 0.3182, 0.3296, 0.3419,\n",
       "        0.352 , 0.363 , 0.3749, 0.3852, 0.3951, 0.4059, 0.4157, 0.4276,\n",
       "        0.4383, 0.4506, 0.4597, 0.469 , 0.481 , 0.4928, 0.5031, 0.5138,\n",
       "        0.5247, 0.535 , 0.5465, 0.556 , 0.5669, 0.5772, 0.5874, 0.5986,\n",
       "        0.6078, 0.6201, 0.6305, 0.6429, 0.6529, 0.6628, 0.6737, 0.6854,\n",
       "        0.6956, 0.7067, 0.7174, 0.7282, 0.7385, 0.7477, 0.7581, 0.768 ,\n",
       "        0.7782, 0.7875, 0.7975, 0.8078, 0.8206, 0.8303, 0.8412, 0.8515,\n",
       "        0.8607, 0.8717, 0.8818, 0.8921, 0.9031, 0.9132, 0.9231, 0.9336,\n",
       "        0.9446, 0.9548, 0.9673, 0.9794, 0.9904]) * second,\n",
       " 76: array([0.0057, 0.0144, 0.0255, 0.0352, 0.0461, 0.0575, 0.0678, 0.0802,\n",
       "        0.092 , 0.1024, 0.1126, 0.1245, 0.1346, 0.1458, 0.156 , 0.1664,\n",
       "        0.1767, 0.187 , 0.1977, 0.2074, 0.2173, 0.228 , 0.2393, 0.248 ,\n",
       "        0.2587, 0.2689, 0.2815, 0.2934, 0.305 , 0.3172, 0.3283, 0.3391,\n",
       "        0.3513, 0.363 , 0.375 , 0.3854, 0.3971, 0.409 , 0.4195, 0.4288,\n",
       "        0.44  , 0.4496, 0.4594, 0.4702, 0.4812, 0.4925, 0.5027, 0.5134,\n",
       "        0.5234, 0.5328, 0.5436, 0.5549, 0.5665, 0.5784, 0.5887, 0.5993,\n",
       "        0.6097, 0.6188, 0.629 , 0.638 , 0.6487, 0.6603, 0.6704, 0.6808,\n",
       "        0.6909, 0.7002, 0.7109, 0.7231, 0.7346, 0.746 , 0.7549, 0.7658,\n",
       "        0.7768, 0.7876, 0.7988, 0.8098, 0.8199, 0.8321, 0.8425, 0.8523,\n",
       "        0.8651, 0.8757, 0.8882, 0.8978, 0.9091, 0.9191, 0.9298, 0.9408,\n",
       "        0.9522, 0.9621, 0.9735, 0.9836, 0.9928]) * second,\n",
       " 77: array([0.0055, 0.0158, 0.0256, 0.0368, 0.0478, 0.0574, 0.0697, 0.0812,\n",
       "        0.0916, 0.1022, 0.1123, 0.1223, 0.1337, 0.1447, 0.1553, 0.1663,\n",
       "        0.1765, 0.1868, 0.198 , 0.2069, 0.2182, 0.2306, 0.242 , 0.2518,\n",
       "        0.2621, 0.2731, 0.2836, 0.2948, 0.3044, 0.3153, 0.3249, 0.3365,\n",
       "        0.3461, 0.3548, 0.366 , 0.3761, 0.3847, 0.3947, 0.4051, 0.4148,\n",
       "        0.4236, 0.4342, 0.4439, 0.455 , 0.4661, 0.4773, 0.4883, 0.4977,\n",
       "        0.5087, 0.5202, 0.5304, 0.5404, 0.5505, 0.5631, 0.5742, 0.5849,\n",
       "        0.5944, 0.6048, 0.6154, 0.6263, 0.6358, 0.6471, 0.6579, 0.6677,\n",
       "        0.6769, 0.6873, 0.6978, 0.7076, 0.7185, 0.7288, 0.7382, 0.748 ,\n",
       "        0.7583, 0.7687, 0.7775, 0.7875, 0.8012, 0.813 , 0.8256, 0.8364,\n",
       "        0.8474, 0.8596, 0.8703, 0.8814, 0.8924, 0.9037, 0.9146, 0.9248,\n",
       "        0.9348, 0.9452, 0.9555, 0.9659, 0.9767, 0.9879, 0.9986]) * second,\n",
       " 78: array([0.005 , 0.0148, 0.0247, 0.0369, 0.0477, 0.0607, 0.0719, 0.0819,\n",
       "        0.0911, 0.1015, 0.1119, 0.1213, 0.1328, 0.1432, 0.1526, 0.1639,\n",
       "        0.175 , 0.1858, 0.1958, 0.205 , 0.2148, 0.2258, 0.2359, 0.2464,\n",
       "        0.2568, 0.2666, 0.2769, 0.2858, 0.2967, 0.3064, 0.316 , 0.327 ,\n",
       "        0.3378, 0.3481, 0.3577, 0.3685, 0.3772, 0.3889, 0.3996, 0.4103,\n",
       "        0.4221, 0.4315, 0.4426, 0.4529, 0.4626, 0.4735, 0.484 , 0.4939,\n",
       "        0.5041, 0.5136, 0.5228, 0.5329, 0.5425, 0.5537, 0.5668, 0.577 ,\n",
       "        0.5885, 0.598 , 0.609 , 0.6196, 0.629 , 0.6392, 0.6499, 0.6615,\n",
       "        0.672 , 0.6816, 0.6905, 0.7007, 0.7111, 0.7221, 0.7326, 0.7439,\n",
       "        0.7537, 0.7637, 0.7739, 0.7838, 0.7938, 0.8044, 0.8145, 0.8239,\n",
       "        0.8341, 0.8447, 0.8554, 0.8653, 0.8744, 0.8847, 0.895 , 0.9042,\n",
       "        0.9144, 0.9242, 0.934 , 0.9453, 0.9561, 0.9658, 0.977 , 0.9868,\n",
       "        0.9989]) * second,\n",
       " 79: array([0.0046, 0.0148, 0.0256, 0.0348, 0.0466, 0.0553, 0.0667, 0.0757,\n",
       "        0.086 , 0.0977, 0.1083, 0.1193, 0.1304, 0.1411, 0.151 , 0.1624,\n",
       "        0.1734, 0.1829, 0.1922, 0.2019, 0.2114, 0.2237, 0.2345, 0.2456,\n",
       "        0.2556, 0.2651, 0.2734, 0.2843, 0.2964, 0.3073, 0.318 , 0.3291,\n",
       "        0.3387, 0.3485, 0.3597, 0.3695, 0.3794, 0.3897, 0.4013, 0.4119,\n",
       "        0.4226, 0.4326, 0.4435, 0.4537, 0.4651, 0.4768, 0.4879, 0.4975,\n",
       "        0.5076, 0.5171, 0.5269, 0.5371, 0.5473, 0.5572, 0.5669, 0.577 ,\n",
       "        0.5884, 0.5987, 0.6088, 0.6194, 0.6299, 0.6414, 0.6517, 0.6599,\n",
       "        0.6697, 0.6798, 0.6906, 0.7005, 0.7121, 0.7237, 0.7325, 0.7421,\n",
       "        0.752 , 0.7627, 0.7741, 0.7838, 0.7938, 0.8041, 0.8144, 0.825 ,\n",
       "        0.8352, 0.8461, 0.857 , 0.8669, 0.8764, 0.8864, 0.896 , 0.9054,\n",
       "        0.9157, 0.9254, 0.936 , 0.9473, 0.9575, 0.9685, 0.9795, 0.9891,\n",
       "        0.9982]) * second,\n",
       " 80: array([0.0052, 0.0167, 0.0269, 0.0378, 0.048 , 0.0578, 0.0666, 0.0762,\n",
       "        0.0874, 0.0975, 0.1078, 0.118 , 0.1304, 0.1406, 0.1523, 0.1629,\n",
       "        0.1722, 0.1816, 0.1905, 0.1997, 0.2106, 0.2223, 0.232 , 0.2428,\n",
       "        0.2542, 0.2636, 0.2766, 0.2859, 0.2969, 0.3076, 0.3181, 0.3304,\n",
       "        0.3403, 0.3503, 0.3604, 0.3715, 0.3812, 0.3921, 0.4037, 0.4145,\n",
       "        0.4249, 0.4357, 0.4455, 0.4548, 0.464 , 0.4742, 0.4853, 0.4968,\n",
       "        0.5075, 0.5181, 0.5295, 0.5409, 0.5512, 0.5614, 0.5721, 0.5828,\n",
       "        0.5927, 0.6031, 0.6137, 0.6244, 0.6334, 0.6448, 0.6553, 0.6644,\n",
       "        0.6744, 0.6842, 0.6957, 0.7083, 0.7187, 0.7281, 0.7378, 0.7472,\n",
       "        0.758 , 0.7702, 0.7813, 0.7907, 0.802 , 0.8124, 0.821 , 0.8309,\n",
       "        0.8402, 0.8511, 0.861 , 0.8714, 0.8819, 0.8944, 0.9051, 0.9165,\n",
       "        0.9273, 0.9372, 0.9475, 0.9585, 0.9684, 0.978 , 0.9884, 0.999 ]) * second,\n",
       " 81: array([0.0051, 0.0154, 0.0261, 0.0363, 0.0455, 0.056 , 0.0655, 0.0752,\n",
       "        0.0854, 0.0958, 0.1056, 0.1147, 0.1257, 0.1361, 0.145 , 0.1544,\n",
       "        0.1652, 0.1761, 0.1856, 0.1954, 0.2059, 0.2162, 0.2257, 0.236 ,\n",
       "        0.2464, 0.2559, 0.2652, 0.2748, 0.2859, 0.297 , 0.308 , 0.3174,\n",
       "        0.3277, 0.337 , 0.3472, 0.3563, 0.3668, 0.3772, 0.3882, 0.3988,\n",
       "        0.409 , 0.4183, 0.4278, 0.4385, 0.4485, 0.4586, 0.469 , 0.4789,\n",
       "        0.4876, 0.4983, 0.5088, 0.5196, 0.5296, 0.5393, 0.5503, 0.5616,\n",
       "        0.5725, 0.5826, 0.5934, 0.6034, 0.6142, 0.6235, 0.6326, 0.6425,\n",
       "        0.6514, 0.662 , 0.6716, 0.6827, 0.6926, 0.7025, 0.7127, 0.7229,\n",
       "        0.7324, 0.7434, 0.7535, 0.7634, 0.7752, 0.7857, 0.795 , 0.8041,\n",
       "        0.8145, 0.8244, 0.8349, 0.8456, 0.8558, 0.8679, 0.878 , 0.889 ,\n",
       "        0.8989, 0.9109, 0.9198, 0.9292, 0.9401, 0.9511, 0.9619, 0.9733,\n",
       "        0.9837, 0.995 ]) * second,\n",
       " 82: array([0.0058, 0.0147, 0.0244, 0.034 , 0.0444, 0.0537, 0.0642, 0.0748,\n",
       "        0.0844, 0.0952, 0.1044, 0.1139, 0.1231, 0.1343, 0.1442, 0.1539,\n",
       "        0.1639, 0.1764, 0.1861, 0.1964, 0.2076, 0.2168, 0.2263, 0.2361,\n",
       "        0.2452, 0.2546, 0.264 , 0.2733, 0.2833, 0.2951, 0.3043, 0.3154,\n",
       "        0.325 , 0.3361, 0.3477, 0.3584, 0.3677, 0.3793, 0.3895, 0.3998,\n",
       "        0.4102, 0.4195, 0.4298, 0.4397, 0.4486, 0.4589, 0.4693, 0.4796,\n",
       "        0.4902, 0.5011, 0.5117, 0.5215, 0.5309, 0.5402, 0.5512, 0.5602,\n",
       "        0.5699, 0.579 , 0.5887, 0.5985, 0.6083, 0.6188, 0.6284, 0.6386,\n",
       "        0.6491, 0.6582, 0.6678, 0.6781, 0.6889, 0.6987, 0.7088, 0.7176,\n",
       "        0.7274, 0.739 , 0.7504, 0.76  , 0.7697, 0.7802, 0.7906, 0.8012,\n",
       "        0.8107, 0.8198, 0.8303, 0.8409, 0.8511, 0.8617, 0.872 , 0.8817,\n",
       "        0.8916, 0.9019, 0.9117, 0.9217, 0.9328, 0.9432, 0.9525, 0.9619,\n",
       "        0.9719, 0.9814, 0.9911]) * second,\n",
       " 83: array([0.0042, 0.0133, 0.0228, 0.0326, 0.0431, 0.0529, 0.0631, 0.0716,\n",
       "        0.0817, 0.0911, 0.1015, 0.1116, 0.1217, 0.1313, 0.1418, 0.1512,\n",
       "        0.1609, 0.17  , 0.1797, 0.1894, 0.1992, 0.2093, 0.2186, 0.2299,\n",
       "        0.2388, 0.2493, 0.259 , 0.2671, 0.276 , 0.2854, 0.2959, 0.3061,\n",
       "        0.3153, 0.325 , 0.336 , 0.345 , 0.3543, 0.3642, 0.3759, 0.386 ,\n",
       "        0.3979, 0.4079, 0.4185, 0.4278, 0.4371, 0.4465, 0.4568, 0.4664,\n",
       "        0.4753, 0.4848, 0.4943, 0.5032, 0.5127, 0.5223, 0.5309, 0.5413,\n",
       "        0.553 , 0.5629, 0.5723, 0.5827, 0.5929, 0.6031, 0.6129, 0.6233,\n",
       "        0.6335, 0.6429, 0.6531, 0.6633, 0.6735, 0.6835, 0.6929, 0.7029,\n",
       "        0.7126, 0.7231, 0.7344, 0.7451, 0.7549, 0.7649, 0.7746, 0.7839,\n",
       "        0.7935, 0.8027, 0.812 , 0.8219, 0.8326, 0.8428, 0.8528, 0.8646,\n",
       "        0.8744, 0.8843, 0.8946, 0.9047, 0.915 , 0.9254, 0.9356, 0.9455,\n",
       "        0.9553, 0.9657, 0.9765, 0.9867, 0.9967]) * second,\n",
       " 84: array([0.0045, 0.014 , 0.0242, 0.0342, 0.0434, 0.0534, 0.0639, 0.0735,\n",
       "        0.0827, 0.093 , 0.1022, 0.1117, 0.1215, 0.1311, 0.1413, 0.1517,\n",
       "        0.1621, 0.1722, 0.1835, 0.1928, 0.2035, 0.2127, 0.222 , 0.2312,\n",
       "        0.2411, 0.2506, 0.2593, 0.2686, 0.2774, 0.2869, 0.2964, 0.3059,\n",
       "        0.3146, 0.3245, 0.3358, 0.3451, 0.3545, 0.3652, 0.3757, 0.3847,\n",
       "        0.3941, 0.404 , 0.4131, 0.4234, 0.434 , 0.4444, 0.4538, 0.4637,\n",
       "        0.473 , 0.4821, 0.4919, 0.5009, 0.5103, 0.5215, 0.5302, 0.54  ,\n",
       "        0.5497, 0.5591, 0.5683, 0.5779, 0.5887, 0.5979, 0.6088, 0.6187,\n",
       "        0.6289, 0.6395, 0.6498, 0.6606, 0.67  , 0.6797, 0.6906, 0.7011,\n",
       "        0.7106, 0.7219, 0.7319, 0.7426, 0.7515, 0.7612, 0.7717, 0.7811,\n",
       "        0.7901, 0.7993, 0.8086, 0.8175, 0.8296, 0.8394, 0.8492, 0.8593,\n",
       "        0.8696, 0.8794, 0.8896, 0.8994, 0.908 , 0.9179, 0.9284, 0.9379,\n",
       "        0.9477, 0.9577, 0.9677, 0.9763, 0.9874, 0.9968]) * second,\n",
       " 85: array([0.0036, 0.0127, 0.0219, 0.0312, 0.0406, 0.0497, 0.0601, 0.0706,\n",
       "        0.0803, 0.0905, 0.1006, 0.1099, 0.1185, 0.1279, 0.1374, 0.147 ,\n",
       "        0.1573, 0.1679, 0.1774, 0.1872, 0.1964, 0.2055, 0.2162, 0.2258,\n",
       "        0.2359, 0.2464, 0.2569, 0.2662, 0.2757, 0.2854, 0.2957, 0.3047,\n",
       "        0.3135, 0.3231, 0.3334, 0.343 , 0.3524, 0.3628, 0.3722, 0.3821,\n",
       "        0.3922, 0.4022, 0.4113, 0.4216, 0.4319, 0.4419, 0.4515, 0.4621,\n",
       "        0.4712, 0.4817, 0.4905, 0.5   , 0.5093, 0.5183, 0.5283, 0.5384,\n",
       "        0.5473, 0.5564, 0.5666, 0.5768, 0.5873, 0.5969, 0.6071, 0.6171,\n",
       "        0.6271, 0.6376, 0.648 , 0.6576, 0.6672, 0.6783, 0.688 , 0.6983,\n",
       "        0.7092, 0.7195, 0.7297, 0.7401, 0.7495, 0.7601, 0.7696, 0.7792,\n",
       "        0.7922, 0.8014, 0.8122, 0.8219, 0.8323, 0.8426, 0.8525, 0.8631,\n",
       "        0.873 , 0.8834, 0.893 , 0.9055, 0.9153, 0.9259, 0.9367, 0.9465,\n",
       "        0.956 , 0.9665, 0.9761, 0.9871, 0.9962]) * second,\n",
       " 86: array([0.0051, 0.0161, 0.0255, 0.0357, 0.045 , 0.0551, 0.0648, 0.0739,\n",
       "        0.0848, 0.0945, 0.1049, 0.1151, 0.1242, 0.1331, 0.1429, 0.1526,\n",
       "        0.1624, 0.1729, 0.1831, 0.1929, 0.2025, 0.2133, 0.2227, 0.2329,\n",
       "        0.242 , 0.2506, 0.2614, 0.271 , 0.2803, 0.2899, 0.299 , 0.3075,\n",
       "        0.3174, 0.3267, 0.3356, 0.3446, 0.3559, 0.3652, 0.3749, 0.3838,\n",
       "        0.3942, 0.4045, 0.414 , 0.4232, 0.4325, 0.4416, 0.4516, 0.4604,\n",
       "        0.47  , 0.4797, 0.4896, 0.4988, 0.5082, 0.5174, 0.5276, 0.5381,\n",
       "        0.5476, 0.5575, 0.5674, 0.5776, 0.5877, 0.5975, 0.607 , 0.6171,\n",
       "        0.6264, 0.6368, 0.6457, 0.6573, 0.6675, 0.677 , 0.6867, 0.6969,\n",
       "        0.7058, 0.7148, 0.7232, 0.7321, 0.7423, 0.753 , 0.7622, 0.7718,\n",
       "        0.7831, 0.7922, 0.802 , 0.8112, 0.8196, 0.8296, 0.8388, 0.8491,\n",
       "        0.859 , 0.8692, 0.8788, 0.8882, 0.8974, 0.9081, 0.918 , 0.9285,\n",
       "        0.9392, 0.9478, 0.9576, 0.9673, 0.9775, 0.9873, 0.9971]) * second,\n",
       " 87: array([0.0047, 0.0144, 0.0244, 0.0363, 0.0468, 0.0573, 0.0669, 0.078 ,\n",
       "        0.0866, 0.096 , 0.1066, 0.1161, 0.1253, 0.1341, 0.1443, 0.1546,\n",
       "        0.1648, 0.1747, 0.1856, 0.1954, 0.2044, 0.2135, 0.2241, 0.2344,\n",
       "        0.245 , 0.2549, 0.2639, 0.2737, 0.2834, 0.2937, 0.3039, 0.3124,\n",
       "        0.3218, 0.332 , 0.3412, 0.352 , 0.3622, 0.3712, 0.3807, 0.3911,\n",
       "        0.4008, 0.41  , 0.4195, 0.429 , 0.4393, 0.4491, 0.4586, 0.4674,\n",
       "        0.4767, 0.4862, 0.4957, 0.5054, 0.516 , 0.5248, 0.5337, 0.5443,\n",
       "        0.5542, 0.5639, 0.5749, 0.586 , 0.595 , 0.6039, 0.6138, 0.6245,\n",
       "        0.635 , 0.6448, 0.6544, 0.664 , 0.6744, 0.6842, 0.6935, 0.7037,\n",
       "        0.7128, 0.7227, 0.732 , 0.7416, 0.7517, 0.7608, 0.7708, 0.78  ,\n",
       "        0.7894, 0.7992, 0.8087, 0.8178, 0.8285, 0.8384, 0.8472, 0.8574,\n",
       "        0.8656, 0.8749, 0.8848, 0.8948, 0.9039, 0.9156, 0.9252, 0.9347,\n",
       "        0.9441, 0.9538, 0.9635, 0.9731, 0.9837, 0.9926]) * second,\n",
       " 88: array([0.0036, 0.0132, 0.0227, 0.032 , 0.0414, 0.0505, 0.0597, 0.0698,\n",
       "        0.0798, 0.0894, 0.099 , 0.1092, 0.1189, 0.1288, 0.139 , 0.1491,\n",
       "        0.1587, 0.1682, 0.1789, 0.1882, 0.1972, 0.2084, 0.2183, 0.2289,\n",
       "        0.2393, 0.2482, 0.2576, 0.2665, 0.276 , 0.286 , 0.2953, 0.3046,\n",
       "        0.3151, 0.3262, 0.3357, 0.3444, 0.3535, 0.3636, 0.3721, 0.3807,\n",
       "        0.3917, 0.4026, 0.4123, 0.4219, 0.4313, 0.4421, 0.4515, 0.4611,\n",
       "        0.471 , 0.481 , 0.4905, 0.5001, 0.5093, 0.5183, 0.5289, 0.5386,\n",
       "        0.5484, 0.5579, 0.568 , 0.5767, 0.5859, 0.5944, 0.6035, 0.6127,\n",
       "        0.6215, 0.6338, 0.645 , 0.6538, 0.6639, 0.6733, 0.6829, 0.6919,\n",
       "        0.7018, 0.7116, 0.7217, 0.7319, 0.7417, 0.7504, 0.761 , 0.7718,\n",
       "        0.781 , 0.7902, 0.7997, 0.8091, 0.8182, 0.8288, 0.8384, 0.8469,\n",
       "        0.856 , 0.8658, 0.8755, 0.8856, 0.8958, 0.9054, 0.9149, 0.9242,\n",
       "        0.933 , 0.943 , 0.952 , 0.9618, 0.9716, 0.9814, 0.9907]) * second,\n",
       " 89: array([0.0037, 0.0117, 0.0207, 0.0306, 0.0407, 0.0505, 0.0609, 0.0707,\n",
       "        0.0798, 0.0903, 0.0995, 0.1094, 0.1184, 0.1271, 0.1353, 0.1451,\n",
       "        0.1551, 0.1654, 0.1749, 0.1847, 0.1935, 0.2032, 0.2132, 0.223 ,\n",
       "        0.2336, 0.2427, 0.2527, 0.2631, 0.2725, 0.2808, 0.2902, 0.2991,\n",
       "        0.3088, 0.3177, 0.3275, 0.337 , 0.3471, 0.3564, 0.3666, 0.3757,\n",
       "        0.3856, 0.3947, 0.4033, 0.4138, 0.4231, 0.4327, 0.4424, 0.4531,\n",
       "        0.4624, 0.4711, 0.4802, 0.4902, 0.4989, 0.5089, 0.5179, 0.5276,\n",
       "        0.5367, 0.5456, 0.5562, 0.566 , 0.5756, 0.5852, 0.5959, 0.6047,\n",
       "        0.6146, 0.6244, 0.6343, 0.6451, 0.6551, 0.6645, 0.6743, 0.6836,\n",
       "        0.6956, 0.7044, 0.7148, 0.7242, 0.7339, 0.7431, 0.7535, 0.7625,\n",
       "        0.771 , 0.7809, 0.7909, 0.8011, 0.8101, 0.8191, 0.8286, 0.8383,\n",
       "        0.8479, 0.8574, 0.8673, 0.8766, 0.8873, 0.8961, 0.9054, 0.9157,\n",
       "        0.9255, 0.9358, 0.9447, 0.9549, 0.9649, 0.9742, 0.9845, 0.9934]) * second,\n",
       " 90: array([0.004 , 0.0134, 0.0236, 0.0322, 0.0413, 0.0511, 0.0598, 0.0708,\n",
       "        0.0812, 0.0903, 0.1004, 0.1104, 0.1191, 0.1293, 0.1385, 0.1487,\n",
       "        0.1582, 0.1675, 0.1767, 0.1861, 0.1959, 0.2055, 0.2141, 0.2248,\n",
       "        0.2349, 0.2448, 0.2536, 0.2627, 0.2721, 0.2822, 0.2916, 0.3007,\n",
       "        0.3101, 0.3199, 0.3302, 0.34  , 0.3499, 0.3603, 0.3694, 0.3786,\n",
       "        0.3882, 0.398 , 0.4084, 0.4172, 0.4261, 0.4355, 0.4444, 0.4542,\n",
       "        0.4632, 0.472 , 0.4826, 0.4923, 0.5026, 0.5112, 0.5204, 0.5303,\n",
       "        0.539 , 0.5479, 0.5577, 0.5668, 0.5762, 0.5854, 0.5956, 0.6051,\n",
       "        0.6153, 0.6245, 0.635 , 0.6447, 0.6545, 0.6641, 0.6738, 0.6839,\n",
       "        0.6937, 0.7025, 0.7125, 0.7233, 0.7331, 0.7419, 0.7518, 0.7618,\n",
       "        0.7731, 0.7823, 0.7923, 0.8017, 0.8111, 0.8217, 0.8313, 0.8411,\n",
       "        0.8514, 0.8605, 0.8706, 0.8802, 0.8894, 0.8992, 0.9107, 0.9202,\n",
       "        0.9293, 0.9387, 0.947 , 0.9554, 0.9657, 0.9758, 0.985 , 0.9937]) * second,\n",
       " 91: array([0.0046, 0.0136, 0.0224, 0.0321, 0.041 , 0.0504, 0.0596, 0.0689,\n",
       "        0.0781, 0.0865, 0.096 , 0.1054, 0.1149, 0.124 , 0.1332, 0.1429,\n",
       "        0.1528, 0.1613, 0.1703, 0.1794, 0.189 , 0.1987, 0.2081, 0.2168,\n",
       "        0.2264, 0.2358, 0.2452, 0.2548, 0.2646, 0.2742, 0.2844, 0.2949,\n",
       "        0.3043, 0.3146, 0.3246, 0.3334, 0.3438, 0.3523, 0.3617, 0.3705,\n",
       "        0.38  , 0.3898, 0.3997, 0.4088, 0.4185, 0.4289, 0.4384, 0.4488,\n",
       "        0.4577, 0.4686, 0.478 , 0.4879, 0.4969, 0.5054, 0.516 , 0.5262,\n",
       "        0.5365, 0.5464, 0.5559, 0.5656, 0.5751, 0.5848, 0.5935, 0.6037,\n",
       "        0.6139, 0.6228, 0.6321, 0.6405, 0.6497, 0.6598, 0.6704, 0.6796,\n",
       "        0.6904, 0.7004, 0.7088, 0.7183, 0.7274, 0.7367, 0.7465, 0.756 ,\n",
       "        0.7661, 0.774 , 0.7841, 0.793 , 0.8029, 0.8116, 0.821 , 0.83  ,\n",
       "        0.8392, 0.8488, 0.8579, 0.867 , 0.8771, 0.8876, 0.8975, 0.9061,\n",
       "        0.9155, 0.9245, 0.9336, 0.9427, 0.9525, 0.9621, 0.9718, 0.983 ,\n",
       "        0.9924]) * second,\n",
       " 92: array([0.0054, 0.0137, 0.0236, 0.0326, 0.0425, 0.0525, 0.0628, 0.0715,\n",
       "        0.0821, 0.0918, 0.1015, 0.1109, 0.1194, 0.1295, 0.1384, 0.1478,\n",
       "        0.1573, 0.1681, 0.1769, 0.1862, 0.1961, 0.2051, 0.2148, 0.2235,\n",
       "        0.2325, 0.242 , 0.2516, 0.2615, 0.2707, 0.2802, 0.29  , 0.2987,\n",
       "        0.3078, 0.3167, 0.3259, 0.3353, 0.3442, 0.3541, 0.3628, 0.3719,\n",
       "        0.3816, 0.3907, 0.4   , 0.4087, 0.4184, 0.428 , 0.4383, 0.4472,\n",
       "        0.4559, 0.465 , 0.4742, 0.4839, 0.4938, 0.5032, 0.5114, 0.5211,\n",
       "        0.5305, 0.5405, 0.5508, 0.5613, 0.5711, 0.5797, 0.5895, 0.5992,\n",
       "        0.6092, 0.618 , 0.6276, 0.6374, 0.6471, 0.6564, 0.6647, 0.6735,\n",
       "        0.6833, 0.6925, 0.7017, 0.7104, 0.7194, 0.7287, 0.7376, 0.7472,\n",
       "        0.7574, 0.7669, 0.7757, 0.7849, 0.796 , 0.8053, 0.8145, 0.8248,\n",
       "        0.8334, 0.842 , 0.8508, 0.8597, 0.8687, 0.8777, 0.8862, 0.8956,\n",
       "        0.9052, 0.9134, 0.9226, 0.933 , 0.9433, 0.9533, 0.9633, 0.9735,\n",
       "        0.9831, 0.9923]) * second,\n",
       " 93: array([0.0042, 0.0129, 0.0222, 0.0314, 0.0417, 0.0506, 0.0593, 0.0678,\n",
       "        0.077 , 0.0865, 0.0953, 0.1033, 0.1148, 0.1252, 0.1345, 0.144 ,\n",
       "        0.1539, 0.1628, 0.1741, 0.1825, 0.1915, 0.2016, 0.2108, 0.2203,\n",
       "        0.2294, 0.2383, 0.248 , 0.2568, 0.2659, 0.275 , 0.2845, 0.2936,\n",
       "        0.3026, 0.3114, 0.3208, 0.3297, 0.3399, 0.3493, 0.3596, 0.3681,\n",
       "        0.3777, 0.3867, 0.3956, 0.4051, 0.4149, 0.4246, 0.4343, 0.4436,\n",
       "        0.4526, 0.4611, 0.4704, 0.4795, 0.4893, 0.4992, 0.508 , 0.5172,\n",
       "        0.5268, 0.5355, 0.5454, 0.5549, 0.5646, 0.5732, 0.5824, 0.5913,\n",
       "        0.6009, 0.6109, 0.6203, 0.6304, 0.6385, 0.6485, 0.6585, 0.6675,\n",
       "        0.6772, 0.688 , 0.6977, 0.707 , 0.7174, 0.7257, 0.735 , 0.7449,\n",
       "        0.7546, 0.7635, 0.7727, 0.7812, 0.7905, 0.8005, 0.8094, 0.8195,\n",
       "        0.8294, 0.8386, 0.8478, 0.8567, 0.8663, 0.8754, 0.8843, 0.8931,\n",
       "        0.9023, 0.9112, 0.9205, 0.9294, 0.9394, 0.9482, 0.9576, 0.9683,\n",
       "        0.9776, 0.9882, 0.9974]) * second,\n",
       " 94: array([0.0033, 0.0123, 0.0204, 0.0297, 0.0405, 0.0497, 0.0586, 0.0687,\n",
       "        0.0778, 0.0863, 0.0944, 0.1039, 0.1127, 0.1221, 0.1311, 0.1406,\n",
       "        0.151 , 0.1597, 0.1682, 0.1774, 0.1862, 0.1952, 0.205 , 0.2148,\n",
       "        0.2229, 0.2315, 0.2409, 0.2502, 0.2601, 0.2692, 0.2778, 0.2869,\n",
       "        0.2965, 0.3062, 0.3153, 0.3254, 0.3345, 0.3425, 0.3518, 0.3615,\n",
       "        0.3712, 0.3802, 0.3899, 0.4001, 0.4098, 0.4197, 0.4293, 0.4388,\n",
       "        0.4492, 0.4589, 0.4679, 0.4768, 0.4857, 0.4935, 0.5028, 0.5114,\n",
       "        0.5207, 0.5304, 0.5396, 0.5487, 0.558 , 0.5672, 0.5772, 0.5865,\n",
       "        0.5973, 0.6059, 0.6148, 0.6233, 0.6324, 0.6418, 0.6518, 0.6609,\n",
       "        0.6701, 0.6788, 0.6873, 0.6969, 0.7052, 0.7138, 0.7225, 0.7318,\n",
       "        0.7427, 0.7517, 0.7607, 0.7699, 0.7803, 0.7891, 0.7977, 0.8079,\n",
       "        0.8176, 0.8267, 0.8353, 0.8448, 0.8539, 0.8637, 0.8736, 0.883 ,\n",
       "        0.8923, 0.9012, 0.9122, 0.9208, 0.9298, 0.9395, 0.9487, 0.9579,\n",
       "        0.9669, 0.9759, 0.9849, 0.9942]) * second,\n",
       " 95: array([0.0053, 0.0158, 0.0253, 0.0342, 0.0432, 0.0525, 0.0611, 0.07  ,\n",
       "        0.0812, 0.0901, 0.0996, 0.1082, 0.1171, 0.1255, 0.1348, 0.1443,\n",
       "        0.1548, 0.1654, 0.1744, 0.1832, 0.1919, 0.2007, 0.2105, 0.2191,\n",
       "        0.2283, 0.2385, 0.2475, 0.2573, 0.2666, 0.2762, 0.2856, 0.2947,\n",
       "        0.3044, 0.3141, 0.3231, 0.3317, 0.3425, 0.3517, 0.3628, 0.372 ,\n",
       "        0.3811, 0.3896, 0.3997, 0.4095, 0.4196, 0.4294, 0.4375, 0.4472,\n",
       "        0.457 , 0.4672, 0.4757, 0.4849, 0.494 , 0.5025, 0.5112, 0.5209,\n",
       "        0.5312, 0.5404, 0.5487, 0.5568, 0.5668, 0.5763, 0.585 , 0.5938,\n",
       "        0.6034, 0.6135, 0.6235, 0.6327, 0.6425, 0.6529, 0.6627, 0.6722,\n",
       "        0.6813, 0.6907, 0.7008, 0.7108, 0.7198, 0.7291, 0.7382, 0.7474,\n",
       "        0.7563, 0.7654, 0.7748, 0.7839, 0.7935, 0.8029, 0.8126, 0.8228,\n",
       "        0.832 , 0.8411, 0.8496, 0.8585, 0.8683, 0.8778, 0.8874, 0.8963,\n",
       "        0.905 , 0.9143, 0.923 , 0.9325, 0.9418, 0.9508, 0.9598, 0.9691,\n",
       "        0.9782, 0.9873, 0.996 ]) * second,\n",
       " 96: array([0.0042, 0.014 , 0.0236, 0.0328, 0.0421, 0.0516, 0.0606, 0.0699,\n",
       "        0.0789, 0.0872, 0.0968, 0.1068, 0.115 , 0.1244, 0.1329, 0.1418,\n",
       "        0.1501, 0.1598, 0.1691, 0.1767, 0.1854, 0.1945, 0.2039, 0.2132,\n",
       "        0.2218, 0.2321, 0.2409, 0.2502, 0.2591, 0.2688, 0.2779, 0.288 ,\n",
       "        0.2969, 0.3056, 0.3155, 0.3247, 0.3332, 0.3426, 0.3512, 0.3604,\n",
       "        0.3688, 0.378 , 0.3868, 0.3952, 0.4051, 0.4147, 0.4243, 0.4331,\n",
       "        0.4436, 0.453 , 0.4641, 0.4732, 0.4821, 0.4912, 0.5005, 0.5095,\n",
       "        0.5193, 0.5285, 0.5369, 0.5468, 0.5555, 0.5646, 0.5729, 0.5828,\n",
       "        0.5917, 0.6003, 0.6085, 0.6174, 0.6266, 0.6357, 0.6454, 0.6536,\n",
       "        0.6623, 0.6719, 0.6803, 0.6891, 0.6973, 0.7063, 0.7149, 0.7244,\n",
       "        0.7338, 0.7432, 0.7524, 0.7612, 0.7704, 0.7794, 0.7885, 0.7988,\n",
       "        0.8079, 0.8167, 0.825 , 0.8344, 0.8436, 0.8543, 0.8626, 0.8716,\n",
       "        0.8804, 0.8901, 0.8988, 0.9095, 0.9185, 0.9279, 0.9366, 0.9461,\n",
       "        0.9559, 0.9656, 0.9751, 0.9843, 0.9936]) * second,\n",
       " 97: array([0.0038, 0.0138, 0.0229, 0.0329, 0.0417, 0.0506, 0.0602, 0.0691,\n",
       "        0.078 , 0.0867, 0.0957, 0.1063, 0.1152, 0.1251, 0.1337, 0.143 ,\n",
       "        0.1516, 0.1605, 0.1693, 0.1785, 0.1873, 0.1957, 0.2043, 0.2135,\n",
       "        0.2219, 0.2315, 0.2401, 0.2495, 0.258 , 0.2674, 0.2772, 0.2864,\n",
       "        0.2952, 0.304 , 0.3126, 0.3234, 0.3323, 0.3419, 0.3506, 0.3592,\n",
       "        0.3688, 0.3782, 0.3878, 0.3968, 0.4056, 0.4147, 0.424 , 0.4326,\n",
       "        0.4411, 0.4501, 0.4587, 0.468 , 0.4769, 0.4865, 0.4952, 0.5046,\n",
       "        0.513 , 0.5223, 0.5304, 0.5393, 0.5483, 0.5567, 0.5671, 0.5765,\n",
       "        0.5852, 0.5936, 0.6026, 0.6113, 0.6204, 0.6286, 0.6381, 0.6471,\n",
       "        0.656 , 0.6648, 0.6732, 0.6821, 0.6904, 0.6989, 0.7072, 0.7161,\n",
       "        0.7258, 0.7348, 0.7434, 0.752 , 0.7606, 0.7705, 0.7811, 0.7916,\n",
       "        0.8005, 0.8092, 0.8185, 0.8282, 0.8373, 0.8472, 0.8563, 0.8648,\n",
       "        0.8742, 0.8831, 0.8912, 0.9002, 0.9099, 0.9198, 0.929 , 0.9398,\n",
       "        0.9489, 0.9581, 0.9678, 0.9769, 0.9867, 0.9958]) * second,\n",
       " 98: array([0.0045, 0.0139, 0.0225, 0.0321, 0.0414, 0.0504, 0.0602, 0.0684,\n",
       "        0.0787, 0.0885, 0.097 , 0.1064, 0.1158, 0.1238, 0.1332, 0.1415,\n",
       "        0.1496, 0.1598, 0.1685, 0.178 , 0.1873, 0.1975, 0.206 , 0.2149,\n",
       "        0.224 , 0.2338, 0.2433, 0.2526, 0.2617, 0.2707, 0.2806, 0.2901,\n",
       "        0.299 , 0.3088, 0.3177, 0.3272, 0.3362, 0.3449, 0.3538, 0.3632,\n",
       "        0.3721, 0.3816, 0.391 , 0.4   , 0.4087, 0.4178, 0.4275, 0.4369,\n",
       "        0.4451, 0.4542, 0.4635, 0.4733, 0.482 , 0.4912, 0.5003, 0.5089,\n",
       "        0.5182, 0.5277, 0.5363, 0.5454, 0.5545, 0.5635, 0.572 , 0.581 ,\n",
       "        0.5891, 0.5983, 0.6074, 0.6163, 0.6254, 0.6337, 0.6433, 0.6518,\n",
       "        0.6604, 0.669 , 0.6783, 0.6875, 0.697 , 0.7056, 0.7148, 0.7232,\n",
       "        0.7323, 0.7415, 0.7506, 0.7594, 0.7682, 0.7769, 0.7867, 0.7954,\n",
       "        0.8042, 0.8124, 0.8215, 0.8307, 0.8395, 0.8488, 0.8585, 0.8672,\n",
       "        0.8764, 0.8857, 0.8944, 0.9034, 0.9127, 0.9213, 0.9299, 0.9386,\n",
       "        0.9482, 0.9568, 0.9657, 0.9745, 0.9832, 0.9915]) * second,\n",
       " 99: array([0.0044, 0.0137, 0.0224, 0.0306, 0.0391, 0.0483, 0.0573, 0.0661,\n",
       "        0.0751, 0.0841, 0.0929, 0.1022, 0.1113, 0.1199, 0.1299, 0.1393,\n",
       "        0.1484, 0.1571, 0.1656, 0.1743, 0.1832, 0.1918, 0.2007, 0.2092,\n",
       "        0.218 , 0.227 , 0.2361, 0.2454, 0.2536, 0.2624, 0.2706, 0.279 ,\n",
       "        0.2877, 0.2971, 0.3057, 0.3149, 0.3229, 0.3324, 0.3417, 0.3501,\n",
       "        0.36  , 0.37  , 0.3788, 0.3876, 0.396 , 0.4043, 0.414 , 0.4227,\n",
       "        0.4321, 0.442 , 0.451 , 0.4604, 0.4698, 0.4778, 0.4869, 0.4955,\n",
       "        0.5044, 0.5138, 0.5231, 0.5324, 0.542 , 0.5513, 0.5606, 0.5689,\n",
       "        0.5774, 0.5853, 0.5941, 0.6028, 0.6119, 0.6215, 0.6314, 0.6403,\n",
       "        0.6498, 0.6584, 0.6676, 0.676 , 0.6847, 0.6935, 0.7023, 0.7114,\n",
       "        0.7215, 0.7304, 0.7387, 0.7473, 0.7554, 0.7654, 0.7743, 0.7839,\n",
       "        0.7928, 0.8019, 0.8117, 0.8213, 0.8313, 0.8406, 0.8498, 0.8579,\n",
       "        0.8671, 0.8763, 0.8863, 0.8955, 0.9039, 0.9131, 0.9233, 0.9327,\n",
       "        0.9412, 0.9501, 0.9592, 0.9687, 0.9772, 0.9855, 0.9947]) * second}"
      ]
     },
     "execution_count": 97,
     "metadata": {},
     "output_type": "execute_result"
    }
   ],
   "source": [
    "spike_trains"
   ]
  },
  {
   "cell_type": "code",
   "execution_count": null,
   "metadata": {},
   "outputs": [],
   "source": []
  }
 ],
 "metadata": {
  "kernelspec": {
   "display_name": "Python 3 (ipykernel)",
   "language": "python",
   "name": "python3"
  },
  "language_info": {
   "codemirror_mode": {
    "name": "ipython",
    "version": 3
   },
   "file_extension": ".py",
   "mimetype": "text/x-python",
   "name": "python",
   "nbconvert_exporter": "python",
   "pygments_lexer": "ipython3",
   "version": "3.9.7"
  }
 },
 "nbformat": 4,
 "nbformat_minor": 1
}
